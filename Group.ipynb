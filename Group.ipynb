{
 "cells": [
  {
   "cell_type": "markdown",
   "id": "93ffe673",
   "metadata": {},
   "source": [
    "# Import library"
   ]
  },
  {
   "cell_type": "code",
   "execution_count": 1,
   "id": "74c9dab0",
   "metadata": {},
   "outputs": [],
   "source": [
    "import pandas as pd\n",
    "import re\n",
    "import numpy as np\n",
    "\n",
    "#library that contains punctuation\n",
    "import string\n",
    "string.punctuation\n",
    "import demoji"
   ]
  },
  {
   "cell_type": "markdown",
   "id": "42ca1bd3",
   "metadata": {},
   "source": [
    "# Import data"
   ]
  },
  {
   "cell_type": "code",
   "execution_count": 2,
   "id": "90c28d59",
   "metadata": {},
   "outputs": [],
   "source": [
    "nt=pd.read_csv('nt.csv')\n",
    "bds=pd.read_csv('bds.csv')\n",
    "al=pd.read_csv('alo.csv')"
   ]
  },
  {
   "cell_type": "code",
   "execution_count": 3,
   "id": "337efed0",
   "metadata": {},
   "outputs": [
    {
     "data": {
      "text/plain": [
       "Index(['Unnamed: 0', 'post_id', 'Loại tin', 'Tiêu đề', 'Giá', 'Diện tích',\n",
       "       'Địa chỉ', 'Giá/m2', 'Pháp lý', 'Loại hình đất', 'Mô tả', 'URL',\n",
       "       'Ngày crawl', 'Tên người dùng', 'card_visit', 'Hướng nhà',\n",
       "       'Chiều ngang', 'Chiều dài', 'Đặc điểm nhà/đất', 'Số phòng ngủ',\n",
       "       'Số toilet', 'Loại hình nhà ở', 'Diện tích sử dụng', 'Tổng số tầng',\n",
       "       'Nội thất', 'Tên phân khu/Lô/Block/Tháp', 'Tình trạng bất động sản',\n",
       "       'Tầng số', 'Hướng ban công', 'Loại hình căn hộ', 'Loại hình văn phòng',\n",
       "       'Mã căn', 'Đặc điểm căn hộ', 'Mã lô', 'Số tiền cọc', 'Diện tích đất'],\n",
       "      dtype='object')"
      ]
     },
     "execution_count": 3,
     "metadata": {},
     "output_type": "execute_result"
    }
   ],
   "source": [
    "# nhatot\n",
    "nt.columns "
   ]
  },
  {
   "cell_type": "raw",
   "id": "fd071c35",
   "metadata": {},
   "source": [
    "Index(['Unnamed: 0', 'post_id', 'Loại tin', 'Tiêu đề', 'Giá', 'Diện tích',\n",
    "       'Địa chỉ', 'Giá/m2', 'Pháp lý', 'Loại hình đất', 'Mô tả', 'URL',\n",
    "       'Ngày crawl', 'Tên người dùng', 'card_visit', 'Hướng nhà',\n",
    "       'Chiều ngang', 'Chiều dài', 'Đặc điểm nhà/đất', 'Số phòng ngủ',\n",
    "       'Số toilet', 'Loại hình nhà ở', 'Diện tích sử dụng', 'Tổng số tầng',\n",
    "       'Nội thất', 'Tên phân khu/Lô/Block/Tháp', 'Tình trạng bất động sản',\n",
    "       'Tầng số', 'Hướng ban công', 'Loại hình căn hộ', 'Loại hình văn phòng',\n",
    "       'Mã căn', 'Đặc điểm căn hộ', 'Mã lô', 'Số tiền cọc'],\n",
    "      dtype='object')"
   ]
  },
  {
   "cell_type": "code",
   "execution_count": 4,
   "id": "ed44ad88",
   "metadata": {},
   "outputs": [
    {
     "data": {
      "text/plain": [
       "Index(['Unnamed: 0', 'post_id', 'Loại tin', 'Tiêu đề', 'Địa chỉ', 'Mô tả',\n",
       "       'Diện tích', 'Giá', 'Mặt tiền', 'Đường vào', 'Hướng nhà',\n",
       "       'Hướng ban công', 'Số tầng', 'Số phòng ngủ', 'Số toilet', 'URL',\n",
       "       'Ngày crawl', 'card_visit', 'Pháp lý', 'Nội thất', 'Giá/m2'],\n",
       "      dtype='object')"
      ]
     },
     "execution_count": 4,
     "metadata": {},
     "output_type": "execute_result"
    }
   ],
   "source": [
    "# batdongsan\n",
    "bds.columns"
   ]
  },
  {
   "cell_type": "raw",
   "id": "4f1fea94",
   "metadata": {},
   "source": [
    "Index(['Unnamed: 0', 'post_id', 'Loại tin', 'Tiêu đề', 'Địa chỉ', 'Mô tả',\n",
    "       'Diện tích', 'Giá', 'Mặt tiền', 'Đường vào', 'Hướng nhà',\n",
    "       'Hướng ban công', 'Số tầng', 'Số phòng ngủ', 'Số toilet', 'URL',\n",
    "       'Ngày crawl', 'card_visit', 'Pháp lý', 'Nội thất', 'Giá/m2'],\n",
    "      dtype='object')"
   ]
  },
  {
   "cell_type": "code",
   "execution_count": 5,
   "id": "a204412c",
   "metadata": {},
   "outputs": [
    {
     "data": {
      "text/plain": [
       "Index(['Unnamed: 0', 'post_id', 'Loại tin', 'Tiêu đề', 'Mô tả', 'Giá',\n",
       "       'Diện tích', 'Địa chỉ', 'Mã tin', 'Hướng nhà', 'Phòng ăn',\n",
       "       'Đường trước nhà', 'Nhà bếp', 'Loại BDS', 'Pháp lý', 'Sân thượng',\n",
       "       'Chiều ngang', 'Số lầu', 'Chổ để xe hơi', 'Chiều dài', 'Số phòng ngủ',\n",
       "       'Chính chủ', 'URL', 'Ngày crawl', 'Tên người dùng', 'Liên hệ',\n",
       "       'Thuộc dự án', 'Giá/m2'],\n",
       "      dtype='object')"
      ]
     },
     "execution_count": 5,
     "metadata": {},
     "output_type": "execute_result"
    }
   ],
   "source": [
    "# alonhadat\n",
    "al.columns"
   ]
  },
  {
   "cell_type": "raw",
   "id": "c0ca6e71",
   "metadata": {},
   "source": [
    "Index(['Unnamed: 0', 'post_id', 'Loại tin', 'Tiêu đề', 'Mô tả', 'Giá',\n",
    "       'Diện tích', 'Địa chỉ', 'Mã tin', 'Hướng nhà', 'Phòng ăn',\n",
    "       'Đường trước nhà', 'Nhà bếp', 'Loại BDS', 'Pháp lý', 'Sân thượng',\n",
    "       'Chiều ngang', 'Số lầu', 'Chổ để xe hơi', 'Chiều dài', 'Số phòng ngủ',\n",
    "       'Chính chủ', 'URL', 'Ngày crawl', 'Tên người dùng', 'Liên hệ',\n",
    "       'Thuộc dự án', 'Giá/m2'],\n",
    "      dtype='object')"
   ]
  },
  {
   "cell_type": "markdown",
   "id": "54dad5c7",
   "metadata": {},
   "source": [
    "# Merge data"
   ]
  },
  {
   "cell_type": "code",
   "execution_count": 6,
   "id": "9c8c13a5",
   "metadata": {},
   "outputs": [],
   "source": [
    "nt=nt.rename(columns={'Tầng số':'Số tầng'})\n",
    "# bds= bds.rename(columns={})\n",
    "al=al.rename(columns={'Số lầu':'Số tầng','Chổ để xe hơi':'Chỗ để xe hơi'})"
   ]
  },
  {
   "cell_type": "code",
   "execution_count": 7,
   "id": "7b10b56d",
   "metadata": {},
   "outputs": [],
   "source": [
    "df=pd.concat([nt,bds,al], join=\"outer\")"
   ]
  },
  {
   "cell_type": "code",
   "execution_count": 8,
   "id": "7dd434b0",
   "metadata": {},
   "outputs": [
    {
     "data": {
      "text/plain": [
       "(31044, 48)"
      ]
     },
     "execution_count": 8,
     "metadata": {},
     "output_type": "execute_result"
    }
   ],
   "source": [
    "df.shape"
   ]
  },
  {
   "cell_type": "code",
   "execution_count": 9,
   "id": "cbac9ae7",
   "metadata": {},
   "outputs": [
    {
     "data": {
      "text/plain": [
       "Index(['Unnamed: 0', 'post_id', 'Loại tin', 'Tiêu đề', 'Giá', 'Diện tích',\n",
       "       'Địa chỉ', 'Giá/m2', 'Pháp lý', 'Loại hình đất', 'Mô tả', 'URL',\n",
       "       'Ngày crawl', 'Tên người dùng', 'card_visit', 'Hướng nhà',\n",
       "       'Chiều ngang', 'Chiều dài', 'Đặc điểm nhà/đất', 'Số phòng ngủ',\n",
       "       'Số toilet', 'Loại hình nhà ở', 'Diện tích sử dụng', 'Tổng số tầng',\n",
       "       'Nội thất', 'Tên phân khu/Lô/Block/Tháp', 'Tình trạng bất động sản',\n",
       "       'Số tầng', 'Hướng ban công', 'Loại hình căn hộ', 'Loại hình văn phòng',\n",
       "       'Mã căn', 'Đặc điểm căn hộ', 'Mã lô', 'Số tiền cọc', 'Diện tích đất',\n",
       "       'Mặt tiền', 'Đường vào', 'Mã tin', 'Phòng ăn', 'Đường trước nhà',\n",
       "       'Nhà bếp', 'Loại BDS', 'Sân thượng', 'Chỗ để xe hơi', 'Chính chủ',\n",
       "       'Liên hệ', 'Thuộc dự án'],\n",
       "      dtype='object')"
      ]
     },
     "execution_count": 9,
     "metadata": {},
     "output_type": "execute_result"
    }
   ],
   "source": [
    "df.columns"
   ]
  },
  {
   "cell_type": "code",
   "execution_count": 10,
   "id": "a020fb0d",
   "metadata": {},
   "outputs": [],
   "source": [
    "df = df.drop(['Unnamed: 0', 'post_id','Mã căn','Mã lô', 'Mã tin'], axis=1)"
   ]
  },
  {
   "cell_type": "code",
   "execution_count": 11,
   "id": "546d5829",
   "metadata": {},
   "outputs": [
    {
     "data": {
      "text/plain": [
       "Index(['Loại tin', 'Tiêu đề', 'Giá', 'Diện tích', 'Địa chỉ', 'Giá/m2',\n",
       "       'Pháp lý', 'Loại hình đất', 'Mô tả', 'URL', 'Ngày crawl',\n",
       "       'Tên người dùng', 'card_visit', 'Hướng nhà', 'Chiều ngang', 'Chiều dài',\n",
       "       'Đặc điểm nhà/đất', 'Số phòng ngủ', 'Số toilet', 'Loại hình nhà ở',\n",
       "       'Diện tích sử dụng', 'Tổng số tầng', 'Nội thất',\n",
       "       'Tên phân khu/Lô/Block/Tháp', 'Tình trạng bất động sản', 'Số tầng',\n",
       "       'Hướng ban công', 'Loại hình căn hộ', 'Loại hình văn phòng',\n",
       "       'Đặc điểm căn hộ', 'Số tiền cọc', 'Diện tích đất', 'Mặt tiền',\n",
       "       'Đường vào', 'Phòng ăn', 'Đường trước nhà', 'Nhà bếp', 'Loại BDS',\n",
       "       'Sân thượng', 'Chỗ để xe hơi', 'Chính chủ', 'Liên hệ', 'Thuộc dự án'],\n",
       "      dtype='object')"
      ]
     },
     "execution_count": 11,
     "metadata": {},
     "output_type": "execute_result"
    }
   ],
   "source": [
    "df.columns"
   ]
  },
  {
   "cell_type": "code",
   "execution_count": 12,
   "id": "e0943bee",
   "metadata": {},
   "outputs": [
    {
     "data": {
      "text/plain": [
       "Loại tin                          0\n",
       "Tiêu đề                           0\n",
       "Giá                            1357\n",
       "Diện tích                         0\n",
       "Địa chỉ                           0\n",
       "Giá/m2                         1357\n",
       "Pháp lý                        7798\n",
       "Loại hình đất                 25334\n",
       "Mô tả                             0\n",
       "URL                               0\n",
       "Ngày crawl                        0\n",
       "Tên người dùng                 7863\n",
       "card_visit                     8042\n",
       "Hướng nhà                     14917\n",
       "Chiều ngang                   14021\n",
       "Chiều dài                     16572\n",
       "Đặc điểm nhà/đất              25774\n",
       "Số phòng ngủ                  12432\n",
       "Số toilet                     20530\n",
       "Loại hình nhà ở               23902\n",
       "Diện tích sử dụng             26986\n",
       "Tổng số tầng                  26089\n",
       "Nội thất                      23345\n",
       "Tên phân khu/Lô/Block/Tháp    29806\n",
       "Tình trạng bất động sản       28954\n",
       "Số tầng                       22532\n",
       "Hướng ban công                28890\n",
       "Loại hình căn hộ              28954\n",
       "Loại hình văn phòng           30829\n",
       "Đặc điểm căn hộ               30868\n",
       "Số tiền cọc                   31044\n",
       "Diện tích đất                 30121\n",
       "Mặt tiền                      27125\n",
       "Đường vào                     27189\n",
       "Phòng ăn                      27129\n",
       "Đường trước nhà               23157\n",
       "Nhà bếp                       27120\n",
       "Loại BDS                      23002\n",
       "Sân thượng                    27397\n",
       "Chỗ để xe hơi                 27140\n",
       "Chính chủ                     31027\n",
       "Liên hệ                       23002\n",
       "Thuộc dự án                   30731\n",
       "dtype: int64"
      ]
     },
     "execution_count": 12,
     "metadata": {},
     "output_type": "execute_result"
    }
   ],
   "source": [
    "df.isnull().sum()"
   ]
  },
  {
   "cell_type": "code",
   "execution_count": 13,
   "id": "f17189b6",
   "metadata": {},
   "outputs": [
    {
     "name": "stdout",
     "output_type": "stream",
     "text": [
      "<class 'pandas.core.frame.DataFrame'>\n",
      "Int64Index: 31044 entries, 0 to 8041\n",
      "Data columns (total 43 columns):\n",
      " #   Column                      Non-Null Count  Dtype  \n",
      "---  ------                      --------------  -----  \n",
      " 0   Loại tin                    31044 non-null  object \n",
      " 1   Tiêu đề                     31044 non-null  object \n",
      " 2   Giá                         29687 non-null  float64\n",
      " 3   Diện tích                   31044 non-null  float64\n",
      " 4   Địa chỉ                     31044 non-null  object \n",
      " 5   Giá/m2                      29687 non-null  float64\n",
      " 6   Pháp lý                     23246 non-null  object \n",
      " 7   Loại hình đất               5710 non-null   object \n",
      " 8   Mô tả                       31044 non-null  object \n",
      " 9   URL                         31044 non-null  object \n",
      " 10  Ngày crawl                  31044 non-null  object \n",
      " 11  Tên người dùng              23181 non-null  object \n",
      " 12  card_visit                  23002 non-null  object \n",
      " 13  Hướng nhà                   16127 non-null  object \n",
      " 14  Chiều ngang                 17023 non-null  float64\n",
      " 15  Chiều dài                   14472 non-null  float64\n",
      " 16  Đặc điểm nhà/đất            5270 non-null   object \n",
      " 17  Số phòng ngủ                18612 non-null  float64\n",
      " 18  Số toilet                   10514 non-null  float64\n",
      " 19  Loại hình nhà ở             7142 non-null   object \n",
      " 20  Diện tích sử dụng           4058 non-null   float64\n",
      " 21  Tổng số tầng                4955 non-null   float64\n",
      " 22  Nội thất                    7699 non-null   object \n",
      " 23  Tên phân khu/Lô/Block/Tháp  1238 non-null   object \n",
      " 24  Tình trạng bất động sản     2090 non-null   object \n",
      " 25  Số tầng                     8512 non-null   float64\n",
      " 26  Hướng ban công              2154 non-null   object \n",
      " 27  Loại hình căn hộ            2090 non-null   object \n",
      " 28  Loại hình văn phòng         215 non-null    object \n",
      " 29  Đặc điểm căn hộ             176 non-null    object \n",
      " 30  Số tiền cọc                 0 non-null      float64\n",
      " 31  Diện tích đất               923 non-null    object \n",
      " 32  Mặt tiền                    3919 non-null   float64\n",
      " 33  Đường vào                   3855 non-null   float64\n",
      " 34  Phòng ăn                    3915 non-null   object \n",
      " 35  Đường trước nhà             7887 non-null   float64\n",
      " 36  Nhà bếp                     3924 non-null   object \n",
      " 37  Loại BDS                    8042 non-null   object \n",
      " 38  Sân thượng                  3647 non-null   object \n",
      " 39  Chỗ để xe hơi               3904 non-null   object \n",
      " 40  Chính chủ                   17 non-null     object \n",
      " 41  Liên hệ                     8042 non-null   object \n",
      " 42  Thuộc dự án                 313 non-null    object \n",
      "dtypes: float64(14), object(29)\n",
      "memory usage: 10.4+ MB\n"
     ]
    }
   ],
   "source": [
    "df.info()"
   ]
  },
  {
   "cell_type": "code",
   "execution_count": 14,
   "id": "69b6ec35",
   "metadata": {},
   "outputs": [
    {
     "data": {
      "text/plain": [
       "0"
      ]
     },
     "execution_count": 14,
     "metadata": {},
     "output_type": "execute_result"
    }
   ],
   "source": [
    "df.duplicated().sum()"
   ]
  },
  {
   "cell_type": "code",
   "execution_count": 15,
   "id": "ade5c492",
   "metadata": {},
   "outputs": [],
   "source": [
    "df = df.drop_duplicates()"
   ]
  },
  {
   "cell_type": "markdown",
   "id": "b4e5d8d1",
   "metadata": {},
   "source": [
    "# Mô tả"
   ]
  },
  {
   "cell_type": "code",
   "execution_count": 16,
   "id": "7f69a63e",
   "metadata": {},
   "outputs": [],
   "source": [
    "def clean_description(text):\n",
    "    text_without_emojis = demoji.replace(text, \" \").strip()\n",
    "#     clean_text = unidecode.unidecode(text_without_emojis)    \n",
    "    return text_without_emojis"
   ]
  },
  {
   "cell_type": "code",
   "execution_count": 17,
   "id": "0d868a73",
   "metadata": {},
   "outputs": [],
   "source": [
    "df['Mô tả'] = df['Mô tả'].apply(clean_description)"
   ]
  },
  {
   "cell_type": "markdown",
   "id": "7964d7b9",
   "metadata": {},
   "source": [
    "# Quận"
   ]
  },
  {
   "cell_type": "code",
   "execution_count": 18,
   "id": "ae179d30",
   "metadata": {},
   "outputs": [],
   "source": [
    "df['Quận'] = df['Địa chỉ'].apply(lambda x: x.split(',')[-2].replace('Huyện', '').replace('Quận', '').strip())"
   ]
  },
  {
   "cell_type": "code",
   "execution_count": 19,
   "id": "3edfb789",
   "metadata": {},
   "outputs": [
    {
     "data": {
      "text/plain": [
       "array(['Hòa Vang', 'Liên Chiểu', 'Hải Châu', 'Thanh Khê', 'Ngũ Hành Sơn',\n",
       "       'Cẩm Lệ', 'Sơn Trà', 'Chơn Thành', 'Nguyễn Phẩm  Cẩm Lệ'],\n",
       "      dtype=object)"
      ]
     },
     "execution_count": 19,
     "metadata": {},
     "output_type": "execute_result"
    }
   ],
   "source": [
    "df['Quận'].unique()"
   ]
  },
  {
   "cell_type": "code",
   "execution_count": 20,
   "id": "a860b33e",
   "metadata": {},
   "outputs": [],
   "source": [
    "df['Quận'] = df['Quận'].apply(lambda x: x.replace('Nguyễn Phẩm  ', '').replace('Đường số 1  ', '').strip())"
   ]
  },
  {
   "cell_type": "markdown",
   "id": "05c387df",
   "metadata": {},
   "source": [
    "# Đường"
   ]
  },
  {
   "cell_type": "code",
   "execution_count": 21,
   "id": "5acf9941",
   "metadata": {},
   "outputs": [],
   "source": [
    "df['Đường']=df['Địa chỉ'].apply(lambda x: x.split(',')[0].strip())"
   ]
  },
  {
   "cell_type": "code",
   "execution_count": 22,
   "id": "e70bd6f6",
   "metadata": {},
   "outputs": [
    {
     "data": {
      "text/plain": [
       "array(['DT 602', '21', 'K82/H10/36', ..., 'Đường Bàu Cầu 15',\n",
       "       'Võ Quí Huân Đường Võ Quí Huân', 'Trung Lương 11 Trung Lương 11'],\n",
       "      dtype=object)"
      ]
     },
     "execution_count": 22,
     "metadata": {},
     "output_type": "execute_result"
    }
   ],
   "source": [
    "df['Đường'].unique()"
   ]
  },
  {
   "cell_type": "markdown",
   "id": "4f67694c",
   "metadata": {},
   "source": [
    "# Giá trung bình (quận)"
   ]
  },
  {
   "cell_type": "code",
   "execution_count": null,
   "id": "0f402940",
   "metadata": {},
   "outputs": [],
   "source": []
  },
  {
   "cell_type": "markdown",
   "id": "c108fea7",
   "metadata": {},
   "source": [
    "# Set range price, range size"
   ]
  },
  {
   "cell_type": "code",
   "execution_count": 23,
   "id": "67e4ba00",
   "metadata": {},
   "outputs": [],
   "source": [
    "# def range_(x,Q1,Q2,Q3):\n",
    "#     rpr=x\n",
    "#     if x < Q1:\n",
    "#         rpr= 'Dưới ' + str(round(Q1))\n",
    "#     elif x< Q2:\n",
    "#         rpr= 'Từ ' + str(round(Q1)) + ' đến ' + str(round(Q2))\n",
    "#     elif x< Q3:\n",
    "#         rpr= 'Từ ' + str(round(Q2)) + ' đến ' + str(round(Q3))\n",
    "#     else:\n",
    "#         rpr= 'Trên ' + str(round(Q3))\n",
    "#     return rpr"
   ]
  },
  {
   "cell_type": "code",
   "execution_count": 24,
   "id": "60085405",
   "metadata": {},
   "outputs": [],
   "source": [
    "# df['Khoảng giá']=df['Giá'].apply(lambda x: range_(x,500000000,1000000000,5000000000))\n",
    "# df['Khoảng diện tích']=df['Diện tích (m²)'].apply(lambda x: range_(x,50,100,500))"
   ]
  },
  {
   "cell_type": "code",
   "execution_count": 25,
   "id": "b67b8d06",
   "metadata": {},
   "outputs": [
    {
     "data": {
      "text/html": [
       "<div>\n",
       "<style scoped>\n",
       "    .dataframe tbody tr th:only-of-type {\n",
       "        vertical-align: middle;\n",
       "    }\n",
       "\n",
       "    .dataframe tbody tr th {\n",
       "        vertical-align: top;\n",
       "    }\n",
       "\n",
       "    .dataframe thead th {\n",
       "        text-align: right;\n",
       "    }\n",
       "</style>\n",
       "<table border=\"1\" class=\"dataframe\">\n",
       "  <thead>\n",
       "    <tr style=\"text-align: right;\">\n",
       "      <th></th>\n",
       "      <th>Loại tin</th>\n",
       "      <th>Tiêu đề</th>\n",
       "      <th>Giá</th>\n",
       "      <th>Diện tích</th>\n",
       "      <th>Địa chỉ</th>\n",
       "      <th>Giá/m2</th>\n",
       "      <th>Pháp lý</th>\n",
       "      <th>Loại hình đất</th>\n",
       "      <th>Mô tả</th>\n",
       "      <th>URL</th>\n",
       "      <th>...</th>\n",
       "      <th>Đường trước nhà</th>\n",
       "      <th>Nhà bếp</th>\n",
       "      <th>Loại BDS</th>\n",
       "      <th>Sân thượng</th>\n",
       "      <th>Chỗ để xe hơi</th>\n",
       "      <th>Chính chủ</th>\n",
       "      <th>Liên hệ</th>\n",
       "      <th>Thuộc dự án</th>\n",
       "      <th>Quận</th>\n",
       "      <th>Đường</th>\n",
       "    </tr>\n",
       "  </thead>\n",
       "  <tbody>\n",
       "    <tr>\n",
       "      <th>0</th>\n",
       "      <td>Mua bán</td>\n",
       "      <td>Bán 4ha đất vườn sổ đỏ có sẳn trang trại nhà v...</td>\n",
       "      <td>9.500000e+09</td>\n",
       "      <td>40000.0</td>\n",
       "      <td>DT 602, Xã Hòa Ninh, Huyện Hòa Vang, Đà Nẵng</td>\n",
       "      <td>2.375000e+05</td>\n",
       "      <td>Đã có sổ</td>\n",
       "      <td>Đất nông nghiệp</td>\n",
       "      <td>Đất rộng lại giá tốt 40.000m có sẵn vườn cây ă...</td>\n",
       "      <td>https://www.nhatot.com/mua-ban-dat-huyen-hoa-v...</td>\n",
       "      <td>...</td>\n",
       "      <td>NaN</td>\n",
       "      <td>NaN</td>\n",
       "      <td>NaN</td>\n",
       "      <td>NaN</td>\n",
       "      <td>NaN</td>\n",
       "      <td>NaN</td>\n",
       "      <td>NaN</td>\n",
       "      <td>NaN</td>\n",
       "      <td>Hòa Vang</td>\n",
       "      <td>DT 602</td>\n",
       "    </tr>\n",
       "    <tr>\n",
       "      <th>1</th>\n",
       "      <td>Mua bán</td>\n",
       "      <td>Bán đất 21 Đỗ Nhuận, dt: 250m2, ngang 8m, nở h...</td>\n",
       "      <td>8.200000e+09</td>\n",
       "      <td>250.0</td>\n",
       "      <td>21, Đường Đỗ Nhuận, Phường Hòa Minh, Quận Liên...</td>\n",
       "      <td>3.280000e+07</td>\n",
       "      <td>Đã có sổ</td>\n",
       "      <td>Đất thổ cư</td>\n",
       "      <td>+ Bán đất số 21 Đỗ Nhuận, khu Trung Nghĩa, phư...</td>\n",
       "      <td>https://www.nhatot.com/mua-ban-dat-quan-lien-c...</td>\n",
       "      <td>...</td>\n",
       "      <td>NaN</td>\n",
       "      <td>NaN</td>\n",
       "      <td>NaN</td>\n",
       "      <td>NaN</td>\n",
       "      <td>NaN</td>\n",
       "      <td>NaN</td>\n",
       "      <td>NaN</td>\n",
       "      <td>NaN</td>\n",
       "      <td>Liên Chiểu</td>\n",
       "      <td>21</td>\n",
       "    </tr>\n",
       "    <tr>\n",
       "      <th>2</th>\n",
       "      <td>Mua bán</td>\n",
       "      <td>Bán nhà hẻm 3m5 Nguyễn Văn Linh, 140m2 đất, ng...</td>\n",
       "      <td>4.950000e+09</td>\n",
       "      <td>140.0</td>\n",
       "      <td>K82/H10/36, Nguyễn văn linh, Phường Nam Dương,...</td>\n",
       "      <td>3.536000e+07</td>\n",
       "      <td>Đã có sổ</td>\n",
       "      <td>NaN</td>\n",
       "      <td>Bán nhà kiệt 82 Nguyễn Văn Linh, hẻm 3m5, cách...</td>\n",
       "      <td>https://www.nhatot.com/mua-ban-nha-dat-quan-ha...</td>\n",
       "      <td>...</td>\n",
       "      <td>NaN</td>\n",
       "      <td>NaN</td>\n",
       "      <td>NaN</td>\n",
       "      <td>NaN</td>\n",
       "      <td>NaN</td>\n",
       "      <td>NaN</td>\n",
       "      <td>NaN</td>\n",
       "      <td>NaN</td>\n",
       "      <td>Hải Châu</td>\n",
       "      <td>K82/H10/36</td>\n",
       "    </tr>\n",
       "    <tr>\n",
       "      <th>3</th>\n",
       "      <td>Mua bán</td>\n",
       "      <td>Bán đất hẻm 3m 59/31 Núi Thành, 162m2, 4.25 tỷ...</td>\n",
       "      <td>4.250000e+09</td>\n",
       "      <td>162.0</td>\n",
       "      <td>Kiệt 59 Núi Thành, Phường Bình Hiên, Quận Hải ...</td>\n",
       "      <td>2.623000e+07</td>\n",
       "      <td>NaN</td>\n",
       "      <td>Đất thổ cư</td>\n",
       "      <td>Bán đất hẻm 3m số 59/31 Núi Thành, cách đường ...</td>\n",
       "      <td>https://www.nhatot.com/mua-ban-dat-quan-hai-ch...</td>\n",
       "      <td>...</td>\n",
       "      <td>NaN</td>\n",
       "      <td>NaN</td>\n",
       "      <td>NaN</td>\n",
       "      <td>NaN</td>\n",
       "      <td>NaN</td>\n",
       "      <td>NaN</td>\n",
       "      <td>NaN</td>\n",
       "      <td>NaN</td>\n",
       "      <td>Hải Châu</td>\n",
       "      <td>Kiệt 59 Núi Thành</td>\n",
       "    </tr>\n",
       "    <tr>\n",
       "      <th>4</th>\n",
       "      <td>Mua bán</td>\n",
       "      <td>Nhà 2 tầng 2 mặt kiệt ngay biển Nguyễn Tất Thà...</td>\n",
       "      <td>2.950000e+09</td>\n",
       "      <td>62.0</td>\n",
       "      <td>K1/20, Tôn Thất Đạm, Phường Xuân Hà, Quận Than...</td>\n",
       "      <td>4.758000e+07</td>\n",
       "      <td>Đã có sổ</td>\n",
       "      <td>NaN</td>\n",
       "      <td>Tôi là chính chủ cần bán nhà tại địa chỉ K1/20...</td>\n",
       "      <td>https://www.nhatot.com/mua-ban-nha-dat-quan-th...</td>\n",
       "      <td>...</td>\n",
       "      <td>NaN</td>\n",
       "      <td>NaN</td>\n",
       "      <td>NaN</td>\n",
       "      <td>NaN</td>\n",
       "      <td>NaN</td>\n",
       "      <td>NaN</td>\n",
       "      <td>NaN</td>\n",
       "      <td>NaN</td>\n",
       "      <td>Thanh Khê</td>\n",
       "      <td>K1/20</td>\n",
       "    </tr>\n",
       "    <tr>\n",
       "      <th>...</th>\n",
       "      <td>...</td>\n",
       "      <td>...</td>\n",
       "      <td>...</td>\n",
       "      <td>...</td>\n",
       "      <td>...</td>\n",
       "      <td>...</td>\n",
       "      <td>...</td>\n",
       "      <td>...</td>\n",
       "      <td>...</td>\n",
       "      <td>...</td>\n",
       "      <td>...</td>\n",
       "      <td>...</td>\n",
       "      <td>...</td>\n",
       "      <td>...</td>\n",
       "      <td>...</td>\n",
       "      <td>...</td>\n",
       "      <td>...</td>\n",
       "      <td>...</td>\n",
       "      <td>...</td>\n",
       "      <td>...</td>\n",
       "      <td>...</td>\n",
       "    </tr>\n",
       "    <tr>\n",
       "      <th>8037</th>\n",
       "      <td>Mua bán</td>\n",
       "      <td>Bán gấp lô đất sát biển MT đường Nguyễn Trọng ...</td>\n",
       "      <td>5.000000e+09</td>\n",
       "      <td>90.0</td>\n",
       "      <td>Đường Nguyễn Trọng Nghĩa, Phường Mân Thái, Quậ...</td>\n",
       "      <td>5.555556e+07</td>\n",
       "      <td>Sổ hồng/ Sổ đỏ</td>\n",
       "      <td>NaN</td>\n",
       "      <td>Bán lô đất biển mặt tiền đường Nguyễn Trọng Ng...</td>\n",
       "      <td>https://alonhadat.com.vn//ban-gap-lo-dat-sat-b...</td>\n",
       "      <td>...</td>\n",
       "      <td>6.0</td>\n",
       "      <td>NaN</td>\n",
       "      <td>Đất thổ cư, đất ở</td>\n",
       "      <td>NaN</td>\n",
       "      <td>NaN</td>\n",
       "      <td>NaN</td>\n",
       "      <td>0905 919 960</td>\n",
       "      <td>NaN</td>\n",
       "      <td>Sơn Trà</td>\n",
       "      <td>Đường Nguyễn Trọng Nghĩa</td>\n",
       "    </tr>\n",
       "    <tr>\n",
       "      <th>8038</th>\n",
       "      <td>Mua bán</td>\n",
       "      <td>💥💥 DANH SÁCH CÁC TOÀ CĂN HỘ BIỂN ĐÀ NẴNG – DÒN...</td>\n",
       "      <td>1.200000e+10</td>\n",
       "      <td>150.0</td>\n",
       "      <td>Đường Nguyễn Văn Thoại, Phường An Hải Đông, Qu...</td>\n",
       "      <td>8.000000e+07</td>\n",
       "      <td>Sổ hồng/ Sổ đỏ</td>\n",
       "      <td>NaN</td>\n",
       "      <td>DANH SÁCH CÁC TOÀ CĂN HỘ BIỂN ĐÀ NẴNG – DÒNG T...</td>\n",
       "      <td>https://alonhadat.com.vn//-danh-sach-cac-toa-c...</td>\n",
       "      <td>...</td>\n",
       "      <td>7.5</td>\n",
       "      <td>NaN</td>\n",
       "      <td>Nhà hàng, khách sạn</td>\n",
       "      <td>NaN</td>\n",
       "      <td>NaN</td>\n",
       "      <td>NaN</td>\n",
       "      <td>0914 342 000</td>\n",
       "      <td>NaN</td>\n",
       "      <td>Sơn Trà</td>\n",
       "      <td>Đường Nguyễn Văn Thoại</td>\n",
       "    </tr>\n",
       "    <tr>\n",
       "      <th>8039</th>\n",
       "      <td>Mua bán</td>\n",
       "      <td>Bán đất đường lê ấm hoà xuân cẩm lệ. Hướng đôn...</td>\n",
       "      <td>3.550000e+09</td>\n",
       "      <td>100.0</td>\n",
       "      <td>Đường Lê Ấm, Phường Hòa Xuân, Quận Cẩm Lệ, Đà ...</td>\n",
       "      <td>3.550000e+07</td>\n",
       "      <td>Sổ hồng/ Sổ đỏ</td>\n",
       "      <td>NaN</td>\n",
       "      <td>Bán đất đường Lê Ấm, hòa xuân - Cẩm Lệ- Diện t...</td>\n",
       "      <td>https://alonhadat.com.vn//ban-dat-duong-le-am-...</td>\n",
       "      <td>...</td>\n",
       "      <td>7.5</td>\n",
       "      <td>NaN</td>\n",
       "      <td>Đất nền, liền kề, đất dự án</td>\n",
       "      <td>NaN</td>\n",
       "      <td>NaN</td>\n",
       "      <td>NaN</td>\n",
       "      <td>0935 155 829</td>\n",
       "      <td>NaN</td>\n",
       "      <td>Cẩm Lệ</td>\n",
       "      <td>Đường Lê Ấm</td>\n",
       "    </tr>\n",
       "    <tr>\n",
       "      <th>8040</th>\n",
       "      <td>Mua bán</td>\n",
       "      <td>❌ Cần Bán Nhà 2 Tầng Nguyễn chí Diễu - DT 75m ...</td>\n",
       "      <td>4.650000e+09</td>\n",
       "      <td>75.0</td>\n",
       "      <td>Đường Nguyễn Chí Diễu, Phường An Hải Bắc, Quận...</td>\n",
       "      <td>6.200000e+07</td>\n",
       "      <td>Sổ hồng/ Sổ đỏ</td>\n",
       "      <td>NaN</td>\n",
       "      <td>Cần Bán Nhà 2 Tầng NGUYỄN CHÍ DIỄU Đường 7m5 -...</td>\n",
       "      <td>https://alonhadat.com.vn//-can-ban-nha-2-tang-...</td>\n",
       "      <td>...</td>\n",
       "      <td>8.0</td>\n",
       "      <td>NaN</td>\n",
       "      <td>Nhà mặt tiền</td>\n",
       "      <td>NaN</td>\n",
       "      <td>NaN</td>\n",
       "      <td>NaN</td>\n",
       "      <td>0931 903 776</td>\n",
       "      <td>NaN</td>\n",
       "      <td>Sơn Trà</td>\n",
       "      <td>Đường Nguyễn Chí Diễu</td>\n",
       "    </tr>\n",
       "    <tr>\n",
       "      <th>8041</th>\n",
       "      <td>Mua bán</td>\n",
       "      <td>BÁN GẤP NHÀ 3 TẦNG. MẶT TIỀN LÊ TRỌNG TẤN- CẨM...</td>\n",
       "      <td>5.000000e+09</td>\n",
       "      <td>57.0</td>\n",
       "      <td>Đường Lê Trọng Tấn, Phường Hòa Phát, Quận Cẩm ...</td>\n",
       "      <td>8.771930e+07</td>\n",
       "      <td>Sổ hồng/ Sổ đỏ</td>\n",
       "      <td>NaN</td>\n",
       "      <td>Vị trí : Mặt tiền Lê Trọng Tấn kinh doanh sầm ...</td>\n",
       "      <td>https://alonhadat.com.vn//ban-gap-nha-3-tang-m...</td>\n",
       "      <td>...</td>\n",
       "      <td>10.0</td>\n",
       "      <td>Có</td>\n",
       "      <td>Nhà mặt tiền</td>\n",
       "      <td>Có</td>\n",
       "      <td>Có</td>\n",
       "      <td>NaN</td>\n",
       "      <td>0961 263 928</td>\n",
       "      <td>NaN</td>\n",
       "      <td>Cẩm Lệ</td>\n",
       "      <td>Đường Lê Trọng Tấn</td>\n",
       "    </tr>\n",
       "  </tbody>\n",
       "</table>\n",
       "<p>31044 rows × 45 columns</p>\n",
       "</div>"
      ],
      "text/plain": [
       "     Loại tin                                            Tiêu đề  \\\n",
       "0     Mua bán  Bán 4ha đất vườn sổ đỏ có sẳn trang trại nhà v...   \n",
       "1     Mua bán  Bán đất 21 Đỗ Nhuận, dt: 250m2, ngang 8m, nở h...   \n",
       "2     Mua bán  Bán nhà hẻm 3m5 Nguyễn Văn Linh, 140m2 đất, ng...   \n",
       "3     Mua bán  Bán đất hẻm 3m 59/31 Núi Thành, 162m2, 4.25 tỷ...   \n",
       "4     Mua bán  Nhà 2 tầng 2 mặt kiệt ngay biển Nguyễn Tất Thà...   \n",
       "...       ...                                                ...   \n",
       "8037  Mua bán  Bán gấp lô đất sát biển MT đường Nguyễn Trọng ...   \n",
       "8038  Mua bán  💥💥 DANH SÁCH CÁC TOÀ CĂN HỘ BIỂN ĐÀ NẴNG – DÒN...   \n",
       "8039  Mua bán  Bán đất đường lê ấm hoà xuân cẩm lệ. Hướng đôn...   \n",
       "8040  Mua bán  ❌ Cần Bán Nhà 2 Tầng Nguyễn chí Diễu - DT 75m ...   \n",
       "8041  Mua bán  BÁN GẤP NHÀ 3 TẦNG. MẶT TIỀN LÊ TRỌNG TẤN- CẨM...   \n",
       "\n",
       "               Giá  Diện tích  \\\n",
       "0     9.500000e+09    40000.0   \n",
       "1     8.200000e+09      250.0   \n",
       "2     4.950000e+09      140.0   \n",
       "3     4.250000e+09      162.0   \n",
       "4     2.950000e+09       62.0   \n",
       "...            ...        ...   \n",
       "8037  5.000000e+09       90.0   \n",
       "8038  1.200000e+10      150.0   \n",
       "8039  3.550000e+09      100.0   \n",
       "8040  4.650000e+09       75.0   \n",
       "8041  5.000000e+09       57.0   \n",
       "\n",
       "                                                Địa chỉ        Giá/m2  \\\n",
       "0          DT 602, Xã Hòa Ninh, Huyện Hòa Vang, Đà Nẵng  2.375000e+05   \n",
       "1     21, Đường Đỗ Nhuận, Phường Hòa Minh, Quận Liên...  3.280000e+07   \n",
       "2     K82/H10/36, Nguyễn văn linh, Phường Nam Dương,...  3.536000e+07   \n",
       "3     Kiệt 59 Núi Thành, Phường Bình Hiên, Quận Hải ...  2.623000e+07   \n",
       "4     K1/20, Tôn Thất Đạm, Phường Xuân Hà, Quận Than...  4.758000e+07   \n",
       "...                                                 ...           ...   \n",
       "8037  Đường Nguyễn Trọng Nghĩa, Phường Mân Thái, Quậ...  5.555556e+07   \n",
       "8038  Đường Nguyễn Văn Thoại, Phường An Hải Đông, Qu...  8.000000e+07   \n",
       "8039  Đường Lê Ấm, Phường Hòa Xuân, Quận Cẩm Lệ, Đà ...  3.550000e+07   \n",
       "8040  Đường Nguyễn Chí Diễu, Phường An Hải Bắc, Quận...  6.200000e+07   \n",
       "8041  Đường Lê Trọng Tấn, Phường Hòa Phát, Quận Cẩm ...  8.771930e+07   \n",
       "\n",
       "             Pháp lý    Loại hình đất  \\\n",
       "0           Đã có sổ  Đất nông nghiệp   \n",
       "1           Đã có sổ       Đất thổ cư   \n",
       "2           Đã có sổ              NaN   \n",
       "3                NaN       Đất thổ cư   \n",
       "4           Đã có sổ              NaN   \n",
       "...              ...              ...   \n",
       "8037  Sổ hồng/ Sổ đỏ              NaN   \n",
       "8038  Sổ hồng/ Sổ đỏ              NaN   \n",
       "8039  Sổ hồng/ Sổ đỏ              NaN   \n",
       "8040  Sổ hồng/ Sổ đỏ              NaN   \n",
       "8041  Sổ hồng/ Sổ đỏ              NaN   \n",
       "\n",
       "                                                  Mô tả  \\\n",
       "0     Đất rộng lại giá tốt 40.000m có sẵn vườn cây ă...   \n",
       "1     + Bán đất số 21 Đỗ Nhuận, khu Trung Nghĩa, phư...   \n",
       "2     Bán nhà kiệt 82 Nguyễn Văn Linh, hẻm 3m5, cách...   \n",
       "3     Bán đất hẻm 3m số 59/31 Núi Thành, cách đường ...   \n",
       "4     Tôi là chính chủ cần bán nhà tại địa chỉ K1/20...   \n",
       "...                                                 ...   \n",
       "8037  Bán lô đất biển mặt tiền đường Nguyễn Trọng Ng...   \n",
       "8038  DANH SÁCH CÁC TOÀ CĂN HỘ BIỂN ĐÀ NẴNG – DÒNG T...   \n",
       "8039  Bán đất đường Lê Ấm, hòa xuân - Cẩm Lệ- Diện t...   \n",
       "8040  Cần Bán Nhà 2 Tầng NGUYỄN CHÍ DIỄU Đường 7m5 -...   \n",
       "8041  Vị trí : Mặt tiền Lê Trọng Tấn kinh doanh sầm ...   \n",
       "\n",
       "                                                    URL  ... Đường trước nhà  \\\n",
       "0     https://www.nhatot.com/mua-ban-dat-huyen-hoa-v...  ...             NaN   \n",
       "1     https://www.nhatot.com/mua-ban-dat-quan-lien-c...  ...             NaN   \n",
       "2     https://www.nhatot.com/mua-ban-nha-dat-quan-ha...  ...             NaN   \n",
       "3     https://www.nhatot.com/mua-ban-dat-quan-hai-ch...  ...             NaN   \n",
       "4     https://www.nhatot.com/mua-ban-nha-dat-quan-th...  ...             NaN   \n",
       "...                                                 ...  ...             ...   \n",
       "8037  https://alonhadat.com.vn//ban-gap-lo-dat-sat-b...  ...             6.0   \n",
       "8038  https://alonhadat.com.vn//-danh-sach-cac-toa-c...  ...             7.5   \n",
       "8039  https://alonhadat.com.vn//ban-dat-duong-le-am-...  ...             7.5   \n",
       "8040  https://alonhadat.com.vn//-can-ban-nha-2-tang-...  ...             8.0   \n",
       "8041  https://alonhadat.com.vn//ban-gap-nha-3-tang-m...  ...            10.0   \n",
       "\n",
       "     Nhà bếp                     Loại BDS Sân thượng  Chỗ để xe hơi  \\\n",
       "0        NaN                          NaN        NaN            NaN   \n",
       "1        NaN                          NaN        NaN            NaN   \n",
       "2        NaN                          NaN        NaN            NaN   \n",
       "3        NaN                          NaN        NaN            NaN   \n",
       "4        NaN                          NaN        NaN            NaN   \n",
       "...      ...                          ...        ...            ...   \n",
       "8037     NaN            Đất thổ cư, đất ở        NaN            NaN   \n",
       "8038     NaN          Nhà hàng, khách sạn        NaN            NaN   \n",
       "8039     NaN  Đất nền, liền kề, đất dự án        NaN            NaN   \n",
       "8040     NaN                 Nhà mặt tiền        NaN            NaN   \n",
       "8041      Có                 Nhà mặt tiền         Có             Có   \n",
       "\n",
       "      Chính chủ       Liên hệ  Thuộc dự án        Quận  \\\n",
       "0           NaN           NaN          NaN    Hòa Vang   \n",
       "1           NaN           NaN          NaN  Liên Chiểu   \n",
       "2           NaN           NaN          NaN    Hải Châu   \n",
       "3           NaN           NaN          NaN    Hải Châu   \n",
       "4           NaN           NaN          NaN   Thanh Khê   \n",
       "...         ...           ...          ...         ...   \n",
       "8037        NaN  0905 919 960          NaN     Sơn Trà   \n",
       "8038        NaN  0914 342 000          NaN     Sơn Trà   \n",
       "8039        NaN  0935 155 829          NaN      Cẩm Lệ   \n",
       "8040        NaN  0931 903 776          NaN     Sơn Trà   \n",
       "8041        NaN  0961 263 928          NaN      Cẩm Lệ   \n",
       "\n",
       "                         Đường  \n",
       "0                       DT 602  \n",
       "1                           21  \n",
       "2                   K82/H10/36  \n",
       "3            Kiệt 59 Núi Thành  \n",
       "4                        K1/20  \n",
       "...                        ...  \n",
       "8037  Đường Nguyễn Trọng Nghĩa  \n",
       "8038    Đường Nguyễn Văn Thoại  \n",
       "8039               Đường Lê Ấm  \n",
       "8040     Đường Nguyễn Chí Diễu  \n",
       "8041        Đường Lê Trọng Tấn  \n",
       "\n",
       "[31044 rows x 45 columns]"
      ]
     },
     "execution_count": 25,
     "metadata": {},
     "output_type": "execute_result"
    }
   ],
   "source": [
    "df"
   ]
  },
  {
   "cell_type": "code",
   "execution_count": 26,
   "id": "728d864a",
   "metadata": {},
   "outputs": [
    {
     "data": {
      "text/plain": [
       "Index(['Loại tin', 'Tiêu đề', 'Giá', 'Diện tích', 'Địa chỉ', 'Giá/m2',\n",
       "       'Pháp lý', 'Loại hình đất', 'Mô tả', 'URL', 'Ngày crawl',\n",
       "       'Tên người dùng', 'card_visit', 'Hướng nhà', 'Chiều ngang', 'Chiều dài',\n",
       "       'Đặc điểm nhà/đất', 'Số phòng ngủ', 'Số toilet', 'Loại hình nhà ở',\n",
       "       'Diện tích sử dụng', 'Tổng số tầng', 'Nội thất',\n",
       "       'Tên phân khu/Lô/Block/Tháp', 'Tình trạng bất động sản', 'Số tầng',\n",
       "       'Hướng ban công', 'Loại hình căn hộ', 'Loại hình văn phòng',\n",
       "       'Đặc điểm căn hộ', 'Số tiền cọc', 'Diện tích đất', 'Mặt tiền',\n",
       "       'Đường vào', 'Phòng ăn', 'Đường trước nhà', 'Nhà bếp', 'Loại BDS',\n",
       "       'Sân thượng', 'Chỗ để xe hơi', 'Chính chủ', 'Liên hệ', 'Thuộc dự án',\n",
       "       'Quận', 'Đường'],\n",
       "      dtype='object')"
      ]
     },
     "execution_count": 26,
     "metadata": {},
     "output_type": "execute_result"
    }
   ],
   "source": [
    "df.columns"
   ]
  },
  {
   "cell_type": "code",
   "execution_count": 27,
   "id": "ff7713f6",
   "metadata": {},
   "outputs": [],
   "source": [
    "df=df[['Loại tin', 'Tiêu đề', 'Giá', 'Giá/m2', 'Diện tích', 'Chiều ngang', 'Chiều dài', 'Hướng nhà', 'Hướng ban công','Quận', 'Đường', 'Pháp lý', 'Nội thất',\n",
    "       'Số phòng ngủ', 'Số toilet', 'Số tầng', 'Tổng số tầng',  'Mặt tiền', 'Đường vào', 'Phòng ăn','Đường trước nhà', 'Nhà bếp', 'Sân thượng', 'Chỗ để xe hơi',\n",
    "       'Loại BDS', 'Loại hình đất', 'Đặc điểm nhà/đất', 'Loại hình nhà ở', 'Loại hình căn hộ', 'Đặc điểm căn hộ',  'Loại hình văn phòng',\n",
    "        'Chính chủ', 'Liên hệ',  'Ngày crawl',      \n",
    "       'Tên người dùng', 'Diện tích sử dụng','Tên phân khu/Lô/Block/Tháp', 'Tình trạng bất động sản', 'Số tiền cọc', 'Thuộc dự án',\n",
    "      'Địa chỉ','URL','card_visit', 'Mô tả']]"
   ]
  },
  {
   "cell_type": "markdown",
   "id": "234ae100",
   "metadata": {},
   "source": [
    "# Save data"
   ]
  },
  {
   "cell_type": "code",
   "execution_count": 28,
   "id": "7d30b80e",
   "metadata": {},
   "outputs": [],
   "source": [
    "df.to_excel('data.xlsx')\n",
    "df.to_csv('data.csv')"
   ]
  },
  {
   "cell_type": "code",
   "execution_count": null,
   "id": "4432e7ca",
   "metadata": {},
   "outputs": [],
   "source": []
  },
  {
   "cell_type": "code",
   "execution_count": null,
   "id": "f73d980f",
   "metadata": {},
   "outputs": [],
   "source": []
  }
 ],
 "metadata": {
  "kernelspec": {
   "display_name": "Python 3",
   "language": "python",
   "name": "python3"
  },
  "language_info": {
   "codemirror_mode": {
    "name": "ipython",
    "version": 3
   },
   "file_extension": ".py",
   "mimetype": "text/x-python",
   "name": "python",
   "nbconvert_exporter": "python",
   "pygments_lexer": "ipython3",
   "version": "3.8.2"
  }
 },
 "nbformat": 4,
 "nbformat_minor": 5
}
