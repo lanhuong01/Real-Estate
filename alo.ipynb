{
 "cells": [
  {
   "cell_type": "markdown",
   "id": "93ffe673",
   "metadata": {},
   "source": [
    "# Import library"
   ]
  },
  {
   "cell_type": "code",
   "execution_count": 1,
   "id": "74c9dab0",
   "metadata": {},
   "outputs": [
    {
     "data": {
      "text/plain": [
       "'!\"#$%&\\'()*+,-./:;<=>?@[\\\\]^_`{|}~'"
      ]
     },
     "execution_count": 1,
     "metadata": {},
     "output_type": "execute_result"
    }
   ],
   "source": [
    "import pandas as pd\n",
    "import re\n",
    "import numpy as np\n",
    "\n",
    "#library that contains punctuation\n",
    "import string\n",
    "string.punctuation"
   ]
  },
  {
   "cell_type": "markdown",
   "id": "42ca1bd3",
   "metadata": {},
   "source": [
    "# Import data"
   ]
  },
  {
   "cell_type": "code",
   "execution_count": 2,
   "id": "90c28d59",
   "metadata": {},
   "outputs": [],
   "source": [
    "df=pd.read_csv('alonhadat.csv')"
   ]
  },
  {
   "cell_type": "code",
   "execution_count": 3,
   "id": "a204412c",
   "metadata": {},
   "outputs": [
    {
     "data": {
      "text/plain": [
       "Index(['post_id', 'Loại tin', 'Tiêu đề', 'Mô tả', 'Giá:', 'Diện tích:',\n",
       "       'Địa chỉ', 'Mã tin', 'Hướng', 'Phòng ăn', 'Đường trước nhà', 'Nhà bếp',\n",
       "       'Loại BDS', 'Pháp lý', 'Sân thượng', 'Chiều ngang', 'Số lầu',\n",
       "       'Chổ để xe hơi', 'Chiều dài', 'Số phòng ngủ', 'Chính chủ', 'URL',\n",
       "       'date', 'Liên hệ', 'phone', 'Thuộc dự án'],\n",
       "      dtype='object')"
      ]
     },
     "execution_count": 3,
     "metadata": {},
     "output_type": "execute_result"
    }
   ],
   "source": [
    "df.columns"
   ]
  },
  {
   "cell_type": "raw",
   "id": "21a5e015",
   "metadata": {},
   "source": [
    "Index(['post_id', 'Loại tin', 'Tiêu đề', 'Mô tả', 'Giá:', 'Diện tích:',\n",
    "       'Địa chỉ', 'Mã tin', 'Hướng', 'Phòng ăn', 'Đường trước nhà', 'Nhà bếp',\n",
    "       'Loại BDS', 'Pháp lý', 'Sân thượng', 'Chiều ngang', 'Số lầu',\n",
    "       'Chổ để xe hơi', 'Chiều dài', 'Số phòng ngủ', 'Chính chủ', 'URL',\n",
    "       'date', 'Liên hệ', 'phone', 'Thuộc dự án'],\n",
    "      dtype='object')"
   ]
  },
  {
   "cell_type": "code",
   "execution_count": 4,
   "id": "d77b7100",
   "metadata": {},
   "outputs": [
    {
     "data": {
      "text/html": [
       "<div>\n",
       "<style scoped>\n",
       "    .dataframe tbody tr th:only-of-type {\n",
       "        vertical-align: middle;\n",
       "    }\n",
       "\n",
       "    .dataframe tbody tr th {\n",
       "        vertical-align: top;\n",
       "    }\n",
       "\n",
       "    .dataframe thead th {\n",
       "        text-align: right;\n",
       "    }\n",
       "</style>\n",
       "<table border=\"1\" class=\"dataframe\">\n",
       "  <thead>\n",
       "    <tr style=\"text-align: right;\">\n",
       "      <th></th>\n",
       "      <th>post_id</th>\n",
       "      <th>Loại tin</th>\n",
       "      <th>Tiêu đề</th>\n",
       "      <th>Mô tả</th>\n",
       "      <th>Giá:</th>\n",
       "      <th>Diện tích:</th>\n",
       "      <th>Địa chỉ</th>\n",
       "      <th>Mã tin</th>\n",
       "      <th>Hướng</th>\n",
       "      <th>Phòng ăn</th>\n",
       "      <th>...</th>\n",
       "      <th>Số lầu</th>\n",
       "      <th>Chổ để xe hơi</th>\n",
       "      <th>Chiều dài</th>\n",
       "      <th>Số phòng ngủ</th>\n",
       "      <th>Chính chủ</th>\n",
       "      <th>URL</th>\n",
       "      <th>date</th>\n",
       "      <th>Liên hệ</th>\n",
       "      <th>phone</th>\n",
       "      <th>Thuộc dự án</th>\n",
       "    </tr>\n",
       "  </thead>\n",
       "  <tbody>\n",
       "    <tr>\n",
       "      <th>0</th>\n",
       "      <td>13131558</td>\n",
       "      <td>Cần bán</td>\n",
       "      <td>Bán Nhà Đẹp VIEW Biển NGUYỄN TẤT THÀNH 4 Tầng ...</td>\n",
       "      <td>Nhà đẹp, view biển, 4 tầng, 9 phòng ngủ, khu v...</td>\n",
       "      <td>11,45 tỷ</td>\n",
       "      <td>125 m2</td>\n",
       "      <td>Địa chỉ tài sản: Đường Nguyễn Tất Thành, Phườn...</td>\n",
       "      <td>13131558</td>\n",
       "      <td>_</td>\n",
       "      <td>NaN</td>\n",
       "      <td>...</td>\n",
       "      <td>4</td>\n",
       "      <td>NaN</td>\n",
       "      <td>25m</td>\n",
       "      <td>9</td>\n",
       "      <td>---</td>\n",
       "      <td>https://alonhadat.com.vn//ban-nha-dep-view-bie...</td>\n",
       "      <td>2023-10-02</td>\n",
       "      <td>Trần Trung Hậu</td>\n",
       "      <td>0702.446.393  /  0931.949.123</td>\n",
       "      <td>NaN</td>\n",
       "    </tr>\n",
       "    <tr>\n",
       "      <th>1</th>\n",
       "      <td>13456587</td>\n",
       "      <td>Cần bán</td>\n",
       "      <td>Góc 3 Mặt Tiền Nguyễn Phong Sắc 3 Đường 7m5 VỊ...</td>\n",
       "      <td>+ Bán lô góc 3 mặt tiền 3 đường 7m5 Nguyễn Pho...</td>\n",
       "      <td>9,999 tỷ</td>\n",
       "      <td>160 m2</td>\n",
       "      <td>Địa chỉ tài sản: Đường Nguyễn Phong Sắc, Phườn...</td>\n",
       "      <td>13456587</td>\n",
       "      <td>_</td>\n",
       "      <td>NaN</td>\n",
       "      <td>...</td>\n",
       "      <td>1</td>\n",
       "      <td>NaN</td>\n",
       "      <td>18m</td>\n",
       "      <td>1</td>\n",
       "      <td>---</td>\n",
       "      <td>https://alonhadat.com.vn//ban-lo-goc-3-mat-tie...</td>\n",
       "      <td>2023-10-02</td>\n",
       "      <td>Trần Trung Hậu</td>\n",
       "      <td>0702.446.393  /  0931.949.123</td>\n",
       "      <td>NaN</td>\n",
       "    </tr>\n",
       "    <tr>\n",
       "      <th>2</th>\n",
       "      <td>13467139</td>\n",
       "      <td>Cần bán</td>\n",
       "      <td>BÁN BIỆT THỰ SÂN VƯỜN 150M2 KIỆT TÔ HIỆU lh Hiền</td>\n",
       "      <td>🌺🌺Nhà sân vườn biệt thự 3 tầng mới xây, đường ...</td>\n",
       "      <td>3,25 tỷ</td>\n",
       "      <td>150 m2</td>\n",
       "      <td>Địa chỉ tài sản: Đường Tô Hiệu, Phường Hòa Min...</td>\n",
       "      <td>13467139</td>\n",
       "      <td>_</td>\n",
       "      <td>NaN</td>\n",
       "      <td>...</td>\n",
       "      <td>3</td>\n",
       "      <td>---</td>\n",
       "      <td>---</td>\n",
       "      <td>3</td>\n",
       "      <td>---</td>\n",
       "      <td>https://alonhadat.com.vn//ban-biet-thu-san-vuo...</td>\n",
       "      <td>2023-10-02</td>\n",
       "      <td>Hiền Hiền</td>\n",
       "      <td>0777.363.036  /  0905.269.343</td>\n",
       "      <td>NaN</td>\n",
       "    </tr>\n",
       "    <tr>\n",
       "      <th>3</th>\n",
       "      <td>12734876</td>\n",
       "      <td>Cần bán</td>\n",
       "      <td>Bán khách sạn 2mt Đống Đa, Lý Tự Trọng, dtd: 2...</td>\n",
       "      <td>Bán toà nhà khách sạn hai mặt tiền Đống Đa,Lý ...</td>\n",
       "      <td>72 tỷ</td>\n",
       "      <td>2.300 m2</td>\n",
       "      <td>Địa chỉ tài sản: 191 Đường Đống Đa, Phường Thạ...</td>\n",
       "      <td>12734876</td>\n",
       "      <td>Tây Nam</td>\n",
       "      <td>---</td>\n",
       "      <td>...</td>\n",
       "      <td>10</td>\n",
       "      <td>---</td>\n",
       "      <td>24m</td>\n",
       "      <td>50</td>\n",
       "      <td>---</td>\n",
       "      <td>https://alonhadat.com.vn//ban-toa-nha-2mt-dong...</td>\n",
       "      <td>2023-10-02</td>\n",
       "      <td>Quốc</td>\n",
       "      <td>0903.548.978</td>\n",
       "      <td>NaN</td>\n",
       "    </tr>\n",
       "    <tr>\n",
       "      <th>4</th>\n",
       "      <td>13472701</td>\n",
       "      <td>Cần bán</td>\n",
       "      <td>Lê Thị Xuyến đường 5m5 Dt= 63m2 kẹp kiệt 2 tần...</td>\n",
       "      <td>Hàng hiếm.Lê Thị Xuyến đường 5m5 Dt= 63m2 kẹp ...</td>\n",
       "      <td>4,7 tỷ</td>\n",
       "      <td>63 m2</td>\n",
       "      <td>Địa chỉ tài sản: Đường Lê Thị Xuyến, Phường Xu...</td>\n",
       "      <td>13472701</td>\n",
       "      <td>Bắc</td>\n",
       "      <td>NaN</td>\n",
       "      <td>...</td>\n",
       "      <td>2</td>\n",
       "      <td>NaN</td>\n",
       "      <td>16m</td>\n",
       "      <td>3</td>\n",
       "      <td>---</td>\n",
       "      <td>https://alonhadat.com.vn//le-thi-xuyen-duong-5...</td>\n",
       "      <td>2023-10-02</td>\n",
       "      <td>Nguyễn Ái</td>\n",
       "      <td>0935.282.118</td>\n",
       "      <td>NaN</td>\n",
       "    </tr>\n",
       "  </tbody>\n",
       "</table>\n",
       "<p>5 rows × 26 columns</p>\n",
       "</div>"
      ],
      "text/plain": [
       "    post_id Loại tin                                            Tiêu đề  \\\n",
       "0  13131558  Cần bán  Bán Nhà Đẹp VIEW Biển NGUYỄN TẤT THÀNH 4 Tầng ...   \n",
       "1  13456587  Cần bán  Góc 3 Mặt Tiền Nguyễn Phong Sắc 3 Đường 7m5 VỊ...   \n",
       "2  13467139  Cần bán   BÁN BIỆT THỰ SÂN VƯỜN 150M2 KIỆT TÔ HIỆU lh Hiền   \n",
       "3  12734876  Cần bán  Bán khách sạn 2mt Đống Đa, Lý Tự Trọng, dtd: 2...   \n",
       "4  13472701  Cần bán  Lê Thị Xuyến đường 5m5 Dt= 63m2 kẹp kiệt 2 tần...   \n",
       "\n",
       "                                               Mô tả      Giá: Diện tích:  \\\n",
       "0  Nhà đẹp, view biển, 4 tầng, 9 phòng ngủ, khu v...  11,45 tỷ     125 m2   \n",
       "1  + Bán lô góc 3 mặt tiền 3 đường 7m5 Nguyễn Pho...  9,999 tỷ     160 m2   \n",
       "2  🌺🌺Nhà sân vườn biệt thự 3 tầng mới xây, đường ...   3,25 tỷ     150 m2   \n",
       "3  Bán toà nhà khách sạn hai mặt tiền Đống Đa,Lý ...     72 tỷ   2.300 m2   \n",
       "4  Hàng hiếm.Lê Thị Xuyến đường 5m5 Dt= 63m2 kẹp ...    4,7 tỷ      63 m2   \n",
       "\n",
       "                                             Địa chỉ    Mã tin    Hướng  \\\n",
       "0  Địa chỉ tài sản: Đường Nguyễn Tất Thành, Phườn...  13131558        _   \n",
       "1  Địa chỉ tài sản: Đường Nguyễn Phong Sắc, Phườn...  13456587        _   \n",
       "2  Địa chỉ tài sản: Đường Tô Hiệu, Phường Hòa Min...  13467139        _   \n",
       "3  Địa chỉ tài sản: 191 Đường Đống Đa, Phường Thạ...  12734876  Tây Nam   \n",
       "4  Địa chỉ tài sản: Đường Lê Thị Xuyến, Phường Xu...  13472701      Bắc   \n",
       "\n",
       "  Phòng ăn  ... Số lầu Chổ để xe hơi Chiều dài Số phòng ngủ Chính chủ  \\\n",
       "0      NaN  ...      4           NaN       25m            9       ---   \n",
       "1      NaN  ...      1           NaN       18m            1       ---   \n",
       "2      NaN  ...      3           ---       ---            3       ---   \n",
       "3      ---  ...     10           ---       24m           50       ---   \n",
       "4      NaN  ...      2           NaN       16m            3       ---   \n",
       "\n",
       "                                                 URL        date  \\\n",
       "0  https://alonhadat.com.vn//ban-nha-dep-view-bie...  2023-10-02   \n",
       "1  https://alonhadat.com.vn//ban-lo-goc-3-mat-tie...  2023-10-02   \n",
       "2  https://alonhadat.com.vn//ban-biet-thu-san-vuo...  2023-10-02   \n",
       "3  https://alonhadat.com.vn//ban-toa-nha-2mt-dong...  2023-10-02   \n",
       "4  https://alonhadat.com.vn//le-thi-xuyen-duong-5...  2023-10-02   \n",
       "\n",
       "          Liên hệ                          phone Thuộc dự án  \n",
       "0  Trần Trung Hậu  0702.446.393  /  0931.949.123         NaN  \n",
       "1  Trần Trung Hậu  0702.446.393  /  0931.949.123         NaN  \n",
       "2       Hiền Hiền  0777.363.036  /  0905.269.343         NaN  \n",
       "3            Quốc                   0903.548.978         NaN  \n",
       "4       Nguyễn Ái                   0935.282.118         NaN  \n",
       "\n",
       "[5 rows x 26 columns]"
      ]
     },
     "execution_count": 4,
     "metadata": {},
     "output_type": "execute_result"
    }
   ],
   "source": [
    "df.head()"
   ]
  },
  {
   "cell_type": "code",
   "execution_count": 5,
   "id": "42f037fc",
   "metadata": {},
   "outputs": [
    {
     "name": "stdout",
     "output_type": "stream",
     "text": [
      "<class 'pandas.core.frame.DataFrame'>\n",
      "RangeIndex: 8042 entries, 0 to 8041\n",
      "Data columns (total 26 columns):\n",
      " #   Column           Non-Null Count  Dtype \n",
      "---  ------           --------------  ----- \n",
      " 0   post_id          8042 non-null   int64 \n",
      " 1   Loại tin         8042 non-null   object\n",
      " 2   Tiêu đề          8042 non-null   object\n",
      " 3   Mô tả            8042 non-null   object\n",
      " 4   Giá:             8042 non-null   object\n",
      " 5   Diện tích:       8042 non-null   object\n",
      " 6   Địa chỉ          8042 non-null   object\n",
      " 7   Mã tin           8042 non-null   int64 \n",
      " 8   Hướng            8042 non-null   object\n",
      " 9   Phòng ăn         4127 non-null   object\n",
      " 10  Đường trước nhà  8042 non-null   object\n",
      " 11  Nhà bếp          4118 non-null   object\n",
      " 12  Loại BDS         8042 non-null   object\n",
      " 13  Pháp lý          8042 non-null   object\n",
      " 14  Sân thượng       4395 non-null   object\n",
      " 15  Chiều ngang      8042 non-null   object\n",
      " 16  Số lầu           8042 non-null   object\n",
      " 17  Chổ để xe hơi    4138 non-null   object\n",
      " 18  Chiều dài        8042 non-null   object\n",
      " 19  Số phòng ngủ     8042 non-null   object\n",
      " 20  Chính chủ        8025 non-null   object\n",
      " 21  URL              8042 non-null   object\n",
      " 22  date             8042 non-null   object\n",
      " 23  Liên hệ          8042 non-null   object\n",
      " 24  phone            8042 non-null   object\n",
      " 25  Thuộc dự án      313 non-null    object\n",
      "dtypes: int64(2), object(24)\n",
      "memory usage: 1.6+ MB\n"
     ]
    }
   ],
   "source": [
    "df.info()"
   ]
  },
  {
   "cell_type": "code",
   "execution_count": 6,
   "id": "748d3a20",
   "metadata": {},
   "outputs": [
    {
     "data": {
      "text/plain": [
       "(8042, 26)"
      ]
     },
     "execution_count": 6,
     "metadata": {},
     "output_type": "execute_result"
    }
   ],
   "source": [
    "df.shape"
   ]
  },
  {
   "cell_type": "markdown",
   "id": "05c22fa7",
   "metadata": {},
   "source": [
    "# Function"
   ]
  },
  {
   "cell_type": "code",
   "execution_count": 7,
   "id": "f5102a95",
   "metadata": {},
   "outputs": [],
   "source": [
    "def replace_empty_with_nan(text):\n",
    "    return np.nan if text.strip() == '' else text"
   ]
  },
  {
   "cell_type": "markdown",
   "id": "c646e330",
   "metadata": {},
   "source": [
    "# Loại tin"
   ]
  },
  {
   "cell_type": "code",
   "execution_count": 8,
   "id": "cd733161",
   "metadata": {},
   "outputs": [
    {
     "data": {
      "text/plain": [
       "array(['Cần bán'], dtype=object)"
      ]
     },
     "execution_count": 8,
     "metadata": {},
     "output_type": "execute_result"
    }
   ],
   "source": [
    "df['Loại tin'].unique()"
   ]
  },
  {
   "cell_type": "code",
   "execution_count": 9,
   "id": "f7f0069b",
   "metadata": {},
   "outputs": [],
   "source": [
    "df['Loại tin']=df['Loại tin'].replace('Cần bán','Mua bán')"
   ]
  },
  {
   "cell_type": "markdown",
   "id": "12d44890",
   "metadata": {},
   "source": [
    "# Diện tích"
   ]
  },
  {
   "cell_type": "code",
   "execution_count": 10,
   "id": "c0398b3c",
   "metadata": {},
   "outputs": [],
   "source": [
    "# df['Diện tích:'].unique()"
   ]
  },
  {
   "cell_type": "code",
   "execution_count": 11,
   "id": "a0643de9",
   "metadata": {},
   "outputs": [],
   "source": [
    "def clean_size(i):\n",
    "    if isinstance(i, str):\n",
    "        # Remove ' m²', periods, and replace 'KXĐ' with an empty string\n",
    "        return i.replace(' m2', '').replace('.', '').replace('KXĐ', '')\n",
    "    else:\n",
    "        return ''"
   ]
  },
  {
   "cell_type": "code",
   "execution_count": 12,
   "id": "908e678c",
   "metadata": {},
   "outputs": [],
   "source": [
    "df['Diện tích:'] = df['Diện tích:'].apply(clean_size)"
   ]
  },
  {
   "cell_type": "code",
   "execution_count": 13,
   "id": "23283554",
   "metadata": {},
   "outputs": [],
   "source": [
    "df['Diện tích:'] = df['Diện tích:'].apply(replace_empty_with_nan)"
   ]
  },
  {
   "cell_type": "code",
   "execution_count": 14,
   "id": "60f74761",
   "metadata": {},
   "outputs": [],
   "source": [
    "df['Diện tích:']=df['Diện tích:'].astype(float)"
   ]
  },
  {
   "cell_type": "markdown",
   "id": "b94cd411",
   "metadata": {},
   "source": [
    "# Giá "
   ]
  },
  {
   "cell_type": "code",
   "execution_count": 15,
   "id": "7112f675",
   "metadata": {},
   "outputs": [],
   "source": [
    "# df['Giá:'].unique()"
   ]
  },
  {
   "cell_type": "code",
   "execution_count": 16,
   "id": "7d8f15c1",
   "metadata": {},
   "outputs": [
    {
     "data": {
      "text/plain": [
       "array(['11,45 tỷ', '9,999 tỷ', '3,25 tỷ', '72 tỷ', '4,7 tỷ', '2,25 tỷ',\n",
       "       '3 tỷ', '28 tỷ', '15,8 tỷ', '6 tỷ', '5,95 tỷ', '3,79 tỷ',\n",
       "       '18,5 tỷ', '2,75 tỷ', '10,8 tỷ', '6,6 tỷ', '8,8 tỷ', '26 tỷ',\n",
       "       '3,3 tỷ', '15 tỷ', 'Thỏa thuận', '12 tỷ', '3,35 tỷ', '14,48 tỷ',\n",
       "       '3,55 tỷ', '3,68 tỷ', '4,15 tỷ', '10,5 tỷ', '6,5 tỷ', '999 tỷ',\n",
       "       '5,35 tỷ', '4,25 tỷ', '3,4 tỷ', '3,29 tỷ', '4,19 tỷ', '800 triệu',\n",
       "       '13,4 tỷ', '45 tỷ', '95 tỷ', '19,25 tỷ', '4,45 tỷ', '3,7 tỷ',\n",
       "       '16 tỷ', '5,4 tỷ', '4,99 tỷ', '2 tỷ', '580 tỷ', '6,8 tỷ', '320 tỷ',\n",
       "       '77 tỷ', '20 tỷ', '24,5 tỷ', '8,4 tỷ', '8,2 tỷ', '4,95 tỷ',\n",
       "       '3,2 tỷ', '5,3 tỷ', '5,5 tỷ', '10 tỷ', '6,7 tỷ', '7,65 tỷ',\n",
       "       '1,4 tỷ', '17,5 tỷ', '7,7 tỷ', '14,5 tỷ', '16,8 tỷ', '7 tỷ',\n",
       "       '6,9 tỷ', '28,8 tỷ', '8,5 tỷ', '5,8 tỷ', '12,3 tỷ', '15,5 tỷ',\n",
       "       '3,6 tỷ', '4,5 tỷ', '3,1 tỷ', '2,55 tỷ', '10,4 tỷ', '10,9 tỷ',\n",
       "       '22 tỷ', '6,2 tỷ', '17 tỷ', '27,5 tỷ', '2,3 tỷ', '11,5 tỷ',\n",
       "       '30 triệu /\\xa0m2', '6,45 tỷ', '3,15 tỷ', '2,95 tỷ', '60 tỷ',\n",
       "       '36,4 tỷ', '14 tỷ', '2,79 tỷ', '2,35 tỷ', '698 triệu', '3,5 tỷ',\n",
       "       '16,9 tỷ', '7,6 tỷ', '7,8 tỷ', '13,5 tỷ', '4,9 tỷ', '21,5 tỷ',\n",
       "       '7,5 tỷ', '30,5 tỷ', '8 tỷ', '5,2 tỷ', '38 tỷ', '9,5 tỷ', '9 tỷ',\n",
       "       '5,1 tỷ', '135 triệu /\\xa0m2', '7,2 tỷ', '6,3 tỷ', '3,45 tỷ',\n",
       "       '4,8 tỷ', '3,9 tỷ', '3,8 tỷ', '19 tỷ', '29,97 tỷ', '5,6 tỷ',\n",
       "       '9,7 tỷ', '2,5 tỷ', '1,7 tỷ', '4 tỷ', '14 triệu /\\xa0m2', '5,9 tỷ',\n",
       "       '5,7 tỷ', '3,95 tỷ', '3,75 tỷ', '5 tỷ', '26,5 tỷ', '23 tỷ',\n",
       "       '21,2 tỷ', '25,5 tỷ', '6,4 tỷ', '24 tỷ', '100 triệu /\\xa0m2',\n",
       "       '2,48 tỷ', '2,85 tỷ', '2,15 tỷ', '2,83 tỷ', '1,6 tỷ', '4,2 tỷ',\n",
       "       '2,37 tỷ', '3,65 tỷ', '2,8 tỷ', '5,65 tỷ', '3,85 tỷ', '39 tỷ',\n",
       "       '29,5 tỷ', '9,8 tỷ', '280 triệu /\\xa0m2', '330 triệu /\\xa0m2',\n",
       "       '145 tỷ', '5,15 tỷ', '69 tỷ', '350 tỷ', '12,4 tỷ', '15,3 tỷ',\n",
       "       '30,48 tỷ', '5,38 tỷ', '8,48 tỷ', '15,98 tỷ', '21,8 tỷ', '5,18 tỷ',\n",
       "       '14,2 tỷ', '4,4 tỷ', '4,55 tỷ', '550 triệu', '42 tỷ', '11 tỷ',\n",
       "       '2,65 tỷ', '37 tỷ', '40 tỷ', '3,05 tỷ', '2,05 tỷ',\n",
       "       '175 triệu /\\xa0m2', '1,67 tỷ', '13 tỷ', '10,999 tỷ', '14,3 tỷ',\n",
       "       '7,5 triệu /\\xa0m2', '3,19 tỷ', '24,7 tỷ', '27,7 tỷ', '1,8 tỷ',\n",
       "       '1,95 tỷ', '11,9 tỷ', '2,9 tỷ', '18 tỷ', '57 tỷ', '21 tỷ',\n",
       "       '2,7 tỷ', '48 tỷ', '259 tỷ', '35 tỷ', '1,25 tỷ', '70 tỷ',\n",
       "       '34,9 tỷ', '12,5 tỷ', '7,95 tỷ', '4,05 tỷ', '118 tỷ', '50 tỷ',\n",
       "       '190 tỷ', '8,9 tỷ', '6,95 tỷ', '2,2 tỷ', '17,2 tỷ', '110 tỷ',\n",
       "       '36 triệu /\\xa0m2', '1,08 tỷ', '180 tỷ', '170 tỷ', '59 tỷ',\n",
       "       '5,123 tỷ', '2,6 tỷ', '12,7 tỷ', '175 tỷ', '38,5 triệu /\\xa0m2',\n",
       "       '41 tỷ', '34,5 tỷ', '230 triệu /\\xa0m2', '33 tỷ', '550 tỷ',\n",
       "       '210 tỷ', '35 triệu /\\xa0m2', '18,9 tỷ', '200 triệu /\\xa0m2',\n",
       "       '250 tỷ', '890 tỷ', '60 triệu /\\xa0m2', '2,59 tỷ', '2,4 tỷ',\n",
       "       '2,17 tỷ', '4,3 tỷ', '1,9 tỷ', '3,88 tỷ', '2,39 tỷ', '4,65 tỷ',\n",
       "       '1,89 tỷ', '8,88 tỷ', '11,8 tỷ', '4,1 tỷ', '20,5 tỷ',\n",
       "       '90 triệu /\\xa0m2', '25,3 tỷ', '8,69 tỷ', '100 tỷ',\n",
       "       '120 triệu /\\xa0m2', '95 triệu /\\xa0m2', '50 triệu /\\xa0m2',\n",
       "       '10,6 tỷ', '1,65 tỷ', '34 tỷ', '55 tỷ', '44 tỷ', '36,5 tỷ',\n",
       "       '30 tỷ', '715,5 tỷ', '23,04 tỷ', '320 triệu /\\xa0m2', '27,9 tỷ',\n",
       "       '55 triệu /\\xa0m2', '139 tỷ', '75 tỷ', '7,1 tỷ', '46 tỷ', '25 tỷ',\n",
       "       '4,35 tỷ', '16,5 tỷ', '41,85 tỷ', '20,9 tỷ', '125 tỷ', '36 tỷ',\n",
       "       '10,7 tỷ', '56 tỷ', '79 tỷ', '32 tỷ', '15,12 tỷ', '23,5 tỷ',\n",
       "       '27 tỷ', '85 tỷ', '8,6 tỷ', '4,6 tỷ', '3,99 tỷ', '1,38 tỷ',\n",
       "       '2,68 tỷ', '5,85 tỷ', '2,1 tỷ', '7,3 tỷ', '40 triệu /\\xa0m2',\n",
       "       '5,05 tỷ', '66 tỷ', '44,5 tỷ', '30,3 tỷ', '53 tỷ', '65 tỷ',\n",
       "       '32,45 tỷ', '14,9 tỷ', '11,35 tỷ', '13,8 tỷ', '20,8 tỷ', '7,85 tỷ',\n",
       "       '6,99 tỷ', '2,73 tỷ', '12,95 tỷ', '11,2 tỷ', '22,5 tỷ', '9,9 tỷ',\n",
       "       '19,3 tỷ', '32,9 tỷ', '9,6 tỷ', '31 tỷ', '440 tỷ', '155 tỷ',\n",
       "       '58 tỷ', '115 tỷ', '223 tỷ', '242 tỷ', '8,49 tỷ', '80 tỷ',\n",
       "       '6,75 tỷ', '66,6 tỷ', '78 tỷ', '721 tỷ', '140 tỷ', '200 tỷ',\n",
       "       '150 tỷ', '90 tỷ', '10,2 tỷ', '130 tỷ', '28,5 tỷ', '20,6 tỷ',\n",
       "       '63 tỷ', '11,4 tỷ', '128 tỷ', '11,7 tỷ', '2,99 tỷ', '9,4 tỷ',\n",
       "       '2,43 tỷ', '2,395 tỷ', '5,39 tỷ', '8,3 tỷ', '2,24 tỷ', '19,8 tỷ',\n",
       "       '3,18 tỷ', '2,19 tỷ', '2,45 tỷ', '3,69 tỷ', '7,15 tỷ', '4,97 tỷ',\n",
       "       '28,1 tỷ', '9,2 tỷ', '4,85 tỷ', '5,75 tỷ', '4,75 tỷ', '3,98 tỷ',\n",
       "       '10,3 tỷ', '6,35 tỷ', '5,25 tỷ', '7,4 tỷ', '7,39 tỷ', '8,25 tỷ',\n",
       "       '750 triệu', '3,87 tỷ', '6,55 tỷ', '15,6 tỷ', '13,9 tỷ', '4,49 tỷ',\n",
       "       '1,96 tỷ', '5,89 tỷ', '8,7 tỷ', '1,68 tỷ', '3,78 tỷ', '120 tỷ',\n",
       "       '650 triệu', '7,25 tỷ', '53 triệu /\\xa0m2', '6,05 tỷ', '1,85 tỷ',\n",
       "       '5,55 tỷ', '1,749 tỷ', '25 triệu /\\xa0m2', '105 tỷ', '9,75 tỷ',\n",
       "       '5,99 tỷ', '14,4 tỷ', '10,1 tỷ', '74 tỷ', '135 tỷ', '6,1 tỷ',\n",
       "       '63,112 tỷ', '22,8 tỷ', '12,85 tỷ', '38 triệu /\\xa0m2', '185 tỷ',\n",
       "       '7,55 tỷ', '113 tỷ', '3,39 tỷ', '14,99 tỷ', '8,999 tỷ', '6,39 tỷ',\n",
       "       '7,29 tỷ', '8,59 tỷ', '3,89 tỷ', '5,999 tỷ', '5,79 tỷ', '2,69 tỷ',\n",
       "       '3,49 tỷ', '30,9 tỷ', '3,849 tỷ', '4,29 tỷ', '2,29 tỷ', '2,98 tỷ',\n",
       "       '2,64 tỷ', '165 tỷ', '13,3 tỷ', '15,2 tỷ', '7,9 tỷ', '5,699 tỷ',\n",
       "       '16,7 tỷ', '26,9 tỷ', '7,75 tỷ', '49 tỷ', '43 tỷ', '265 tỷ',\n",
       "       '12,9 tỷ', '8,95 tỷ', '220 triệu /\\xa0m2', '14,75 tỷ', '9,3 tỷ',\n",
       "       '3,777 tỷ', '8,1 tỷ', '1,3 tỷ', '2,955 tỷ', '11,955 tỷ',\n",
       "       '420 triệu', '1,75 tỷ', '18,8 tỷ', '19,5 tỷ', '14,8 tỷ', '1,97 tỷ',\n",
       "       '12,99 tỷ', '1,55 tỷ', '3,339 tỷ', '3,09 tỷ', '2,67 tỷ',\n",
       "       '49 triệu /\\xa0m2', '119 triệu /\\xa0m2', '48 triệu /\\xa0m2',\n",
       "       '298 ngàn /\\xa0m2', '85 triệu /\\xa0m2', '183 triệu /\\xa0m2',\n",
       "       '300 triệu /\\xa0m2', '108 triệu /\\xa0m2', '305 triệu /\\xa0m2',\n",
       "       '26 triệu /\\xa0m2', '44,9 tỷ', '17 triệu /\\xa0m2',\n",
       "       '250 triệu /\\xa0m2', '189 tỷ', '190 triệu /\\xa0m2', '260 tỷ',\n",
       "       '11,3 tỷ', '5,499 tỷ', '5,949 tỷ', '23,8 tỷ', '26,2 tỷ',\n",
       "       '25,999 tỷ', '71 tỷ', '220 tỷ', '255 triệu /\\xa0m2',\n",
       "       '150 triệu /\\xa0m2', '450 triệu /\\xa0m2', '96 triệu /\\xa0m2',\n",
       "       '88 tỷ', '13,7 tỷ', '54 tỷ', '29 tỷ', '59 triệu /\\xa0m2',\n",
       "       '46 triệu /\\xa0m2', '4,59 tỷ', '26,25 tỷ', '2,93 tỷ', '280 tỷ',\n",
       "       '3,415 tỷ', '12,8 tỷ', '17,3 tỷ', '19,1 tỷ', '53,5 tỷ', '6,85 tỷ',\n",
       "       '64 tỷ', '2,12 tỷ', '1,98 tỷ', '2,28 tỷ', '1,92 tỷ', '3,199 tỷ',\n",
       "       '17,9 tỷ', '27 triệu /\\xa0m2', '1,82 tỷ', '2,57 tỷ', '300 tỷ',\n",
       "       '15,1 tỷ', '12,2 tỷ', '1,59 tỷ', '3,5 triệu /\\xa0m2',\n",
       "       '145 triệu /\\xa0m2', '19,75 tỷ', '9,95 tỷ', '6,25 tỷ', '11,6 tỷ',\n",
       "       '123,456 tỷ', '4,68 tỷ', '14,7 tỷ', '22,9 tỷ', '18,7 tỷ', '73 tỷ',\n",
       "       '160 tỷ', '7,299 tỷ', '2,16 tỷ', '32 triệu /\\xa0m2', '5,98 tỷ',\n",
       "       '24,45 tỷ', '2,47 tỷ', '7,48 tỷ', '57,9 tỷ', '15,7 tỷ', '32,5 tỷ',\n",
       "       '6,78 tỷ', '400 tỷ', '325 tỷ', '76 tỷ', '12,6 tỷ', '46,5 tỷ',\n",
       "       '6,89 tỷ', '170 triệu /\\xa0m2', '500 triệu', '48,5 tỷ', '16,2 tỷ',\n",
       "       '2,76 tỷ', '63,5 tỷ', '17,8 tỷ', '279 triệu /\\xa0m2', '18,4 tỷ',\n",
       "       '24,9 tỷ', '52 tỷ', '11,95 tỷ', '9,45 tỷ', '43,9 tỷ', '4,23 tỷ',\n",
       "       '16,4 tỷ', '12,98 tỷ', '7,98 tỷ', '80 triệu /\\xa0m2',\n",
       "       '400 triệu /\\xa0m2', '5,69 tỷ', '75 triệu /\\xa0m2', '5,49 tỷ',\n",
       "       '68 triệu /\\xa0m2', '1,5 tỷ', '5,19 tỷ', '16,999 tỷ', '8,899 tỷ',\n",
       "       '26,8 tỷ', '39,999 tỷ', '30,999 tỷ', '15,999 tỷ', '76,999 tỷ',\n",
       "       '57,5 tỷ', '27,999 tỷ', '10,299 tỷ', '14,199 tỷ', '24,998 tỷ',\n",
       "       '31,5 tỷ', '19,499 tỷ', '19,799 tỷ', '11,999 tỷ', '53,999 tỷ',\n",
       "       '112,999 tỷ', '42,7 triệu /\\xa0m2', '42,999 tỷ', '13,799 tỷ',\n",
       "       '14,999 tỷ', '18,999 tỷ', '8,799 tỷ', '189,999 tỷ', '139,999 tỷ',\n",
       "       '9,499 tỷ', '11,699 tỷ', '70 triệu /\\xa0m2', '43 triệu /\\xa0m2',\n",
       "       '210 triệu /\\xa0m2', '140 triệu /\\xa0m2', '11,899 tỷ', '75,105 tỷ',\n",
       "       '12,699 tỷ', '35,5 tỷ', '24,999 tỷ', '14,499 tỷ', '5,799 tỷ',\n",
       "       '13,999 tỷ', '111,86 tỷ', '15,899 tỷ', '61,999 tỷ', '37,8 tỷ',\n",
       "       '6,999 tỷ', '1,79 tỷ', '1,49 tỷ', '5,58 tỷ', '8 tỷ 1 ngàn',\n",
       "       '18,6 tỷ', '1,35 tỷ', '1,78 tỷ', '3,48 tỷ', '4,27 tỷ', '17,4 tỷ',\n",
       "       '4,39 tỷ', '6,18 tỷ', '4,48 tỷ', '5,28 tỷ', '2,88 tỷ', '2,97 tỷ',\n",
       "       '37,9 tỷ', '16,6 tỷ', '4,69 tỷ', '4,89 tỷ', '45 triệu /\\xa0m2',\n",
       "       '62 tỷ', '39,5 tỷ', '275 triệu /\\xa0m2', '1,05 tỷ', '2,96 tỷ',\n",
       "       '9,1 tỷ', '5,295 tỷ', '2,78 tỷ', '2,03 tỷ', '68 tỷ', '9,99 tỷ',\n",
       "       '2,42 tỷ', '2,62 tỷ', '7,05 tỷ', '3,195 tỷ', '3,999 tỷ',\n",
       "       '22,222 tỷ', '15,89 tỷ', '15,9 tỷ', '20,2 tỷ', '2,52 tỷ',\n",
       "       '18,2 tỷ', '3,57 tỷ', '6,15 tỷ', '330 tỷ', '59,5 tỷ', '5,45 tỷ',\n",
       "       '750 tỷ', '34 triệu /\\xa0m2', '225 tỷ', '130 triệu /\\xa0m2',\n",
       "       '115 triệu /\\xa0m2', '105 triệu /\\xa0m2', '43,5 tỷ',\n",
       "       '148 triệu /\\xa0m2', '125 triệu /\\xa0m2', '4,87 tỷ', '13,45 tỷ',\n",
       "       '8,68 tỷ', '44 triệu /\\xa0m2', '72 triệu /\\xa0m2',\n",
       "       '65 triệu /\\xa0m2', '265 triệu /\\xa0m2', '570 triệu', '1,24 tỷ',\n",
       "       '685 triệu', '900 tỷ', '83 tỷ', '4,17 tỷ', '4,84 tỷ', '3,27 tỷ',\n",
       "       '38,95 tỷ', '7,45 tỷ', '1,99 tỷ', '4,189 tỷ', '5,495 tỷ', '480 tỷ',\n",
       "       '110 triệu /\\xa0m2', '44,65 tỷ', '30,6 tỷ', '25,6 tỷ', '435 tỷ',\n",
       "       '41,5 tỷ', '64 triệu /\\xa0m2', '745 triệu', '1,45 tỷ', '3,97 tỷ',\n",
       "       '5,07 tỷ', '8,55 tỷ', '6,68 tỷ', '2,18 tỷ', '980 triệu', '1,12 tỷ',\n",
       "       '8 triệu /\\xa0m2', '39,8 triệu /\\xa0m2', '66 triệu /\\xa0m2',\n",
       "       '33 triệu /\\xa0m2', '439 triệu', '58 triệu /\\xa0m2', '345 tỷ',\n",
       "       '51,999 tỷ', '5,29 tỷ', '9,19 tỷ', '780 triệu',\n",
       "       '4,5 triệu /\\xa0m2', '2,58 tỷ', '24 triệu /\\xa0m2', '22,2 tỷ',\n",
       "       '63 triệu /\\xa0m2', '6,59 tỷ', '89 tỷ', '1,73 tỷ', '1,33 tỷ',\n",
       "       '4,47 tỷ', '290 tỷ', '180 triệu /\\xa0m2', '288 tỷ', '138 tỷ',\n",
       "       '33,5 tỷ', '17,7 tỷ', '3,32 tỷ', '17,6 tỷ', '7,89 tỷ', '13,6 tỷ',\n",
       "       '9,55 tỷ', '8,96 tỷ', '15,29 tỷ', '700 triệu /\\xa0m2', '3,58 tỷ',\n",
       "       '28,3 tỷ', '8,99 tỷ', '39,8 tỷ', '700 triệu', '3,333 tỷ',\n",
       "       '4,98 tỷ', '2,89 tỷ', '1,2 tỷ', '4,789 tỷ', '82 tỷ', '47 tỷ',\n",
       "       '4,36 tỷ', '3,73 tỷ', '5,795 tỷ', '147 triệu /\\xa0m2', '100 triệu',\n",
       "       '6 triệu /\\xa0m2', '7,99 tỷ', '500 tỷ', '1,66 tỷ',\n",
       "       '160 triệu /\\xa0m2', '86 tỷ', '3,645 tỷ', '590 triệu', '600 tỷ',\n",
       "       '20 triệu /\\xa0m2', '6,58 tỷ', '3,64 tỷ', '6,32 tỷ', '1 tỷ',\n",
       "       '11,1 tỷ', '999 triệu', '950 triệu', '8,35 tỷ', '7,86 tỷ',\n",
       "       '4,059 tỷ', '1,18 tỷ'], dtype=object)"
      ]
     },
     "execution_count": 16,
     "metadata": {},
     "output_type": "execute_result"
    }
   ],
   "source": [
    "df['Giá:'][df['Loại tin']=='Mua bán'].unique()"
   ]
  },
  {
   "cell_type": "code",
   "execution_count": 17,
   "id": "4df0b777",
   "metadata": {},
   "outputs": [
    {
     "data": {
      "text/plain": [
       "array([], dtype=object)"
      ]
     },
     "execution_count": 17,
     "metadata": {},
     "output_type": "execute_result"
    }
   ],
   "source": [
    "df['Giá:'][df['Loại tin']=='Cho thuê'].unique()"
   ]
  },
  {
   "cell_type": "code",
   "execution_count": 18,
   "id": "fa327e08",
   "metadata": {},
   "outputs": [],
   "source": [
    "df['Giá:'] = df['Giá:'].apply(lambda x: x.replace(',', '.'))"
   ]
  },
  {
   "cell_type": "code",
   "execution_count": 19,
   "id": "5d6974a2",
   "metadata": {},
   "outputs": [],
   "source": [
    "def clean_price(x, dien_tich):\n",
    "    if 'ngàn /\\xa0m2\\xa0\\xa0/\\xa0tháng' in x:\n",
    "        return float(x.split()[0]) * 1000*dien_tich\n",
    "    elif 'triệu /\\xa0tháng' in x:\n",
    "        return float(x.split()[0]) * 1000000\n",
    "    elif 'triệu /\\xa0m2' in x:\n",
    "        return float(x.split()[0]) * 1000000 * dien_tich \n",
    "    elif 'ngàn /\\xa0m2' in x:\n",
    "        return float(x.split()[0]) * 1000*dien_tich\n",
    "    elif ' tỷ' in x:\n",
    "        return float(x.split()[0]) * 1000000000\n",
    "    elif ' triệu' in x:\n",
    "        return float(x.split()[0]) * 1000000\n",
    "    elif x == 'Thỏa thuận':\n",
    "        return None  \n",
    "    else:\n",
    "        return x"
   ]
  },
  {
   "cell_type": "code",
   "execution_count": 20,
   "id": "f08cb0d9",
   "metadata": {},
   "outputs": [],
   "source": [
    "df['Giá:'] = df.apply(lambda row: clean_price(row['Giá:'], row['Diện tích:']), axis=1)"
   ]
  },
  {
   "cell_type": "code",
   "execution_count": 21,
   "id": "51e5b24f",
   "metadata": {},
   "outputs": [],
   "source": [
    "df['Giá:']=df['Giá:'].astype(float)"
   ]
  },
  {
   "cell_type": "markdown",
   "id": "5e62d4e0",
   "metadata": {},
   "source": [
    "# Giá/m2"
   ]
  },
  {
   "cell_type": "code",
   "execution_count": 22,
   "id": "e54630fe",
   "metadata": {},
   "outputs": [],
   "source": [
    "df['Giá/m2']=df['Giá:']/df['Diện tích:']"
   ]
  },
  {
   "cell_type": "code",
   "execution_count": 23,
   "id": "13c5e3a0",
   "metadata": {},
   "outputs": [
    {
     "data": {
      "text/plain": [
       "0       9.160000e+07\n",
       "1       6.249375e+07\n",
       "2       2.166667e+07\n",
       "3       3.130435e+07\n",
       "4       7.460317e+07\n",
       "            ...     \n",
       "8037    5.555556e+07\n",
       "8038    8.000000e+07\n",
       "8039    3.550000e+07\n",
       "8040    6.200000e+07\n",
       "8041    8.771930e+07\n",
       "Name: Giá/m2, Length: 8042, dtype: float64"
      ]
     },
     "execution_count": 23,
     "metadata": {},
     "output_type": "execute_result"
    }
   ],
   "source": [
    "df['Giá/m2']"
   ]
  },
  {
   "cell_type": "markdown",
   "id": "804e2d6c",
   "metadata": {},
   "source": [
    "# Hướng"
   ]
  },
  {
   "cell_type": "code",
   "execution_count": 24,
   "id": "956f4aeb",
   "metadata": {},
   "outputs": [
    {
     "data": {
      "text/plain": [
       "array(['_', 'Tây Nam', 'Bắc', 'Đông', 'Đông Nam', 'Tây Bắc', 'Đông Bắc',\n",
       "       'Tây', 'Nam'], dtype=object)"
      ]
     },
     "execution_count": 24,
     "metadata": {},
     "output_type": "execute_result"
    }
   ],
   "source": [
    "df['Hướng'].unique()\n"
   ]
  },
  {
   "cell_type": "code",
   "execution_count": 25,
   "id": "6821553d",
   "metadata": {},
   "outputs": [],
   "source": [
    "df['Hướng'] = df['Hướng'].apply(lambda x: np.nan if isinstance(x, str) and x == '_' else x)"
   ]
  },
  {
   "cell_type": "markdown",
   "id": "6e57aa63",
   "metadata": {},
   "source": [
    "# Phòng ăn"
   ]
  },
  {
   "cell_type": "code",
   "execution_count": 26,
   "id": "82148166",
   "metadata": {},
   "outputs": [
    {
     "data": {
      "text/plain": [
       "array([nan, '---'], dtype=object)"
      ]
     },
     "execution_count": 26,
     "metadata": {},
     "output_type": "execute_result"
    }
   ],
   "source": [
    "df['Phòng ăn'].unique()"
   ]
  },
  {
   "cell_type": "code",
   "execution_count": 27,
   "id": "1590b43c",
   "metadata": {},
   "outputs": [
    {
     "data": {
      "text/plain": [
       "array([nan, '---'], dtype=object)"
      ]
     },
     "execution_count": 27,
     "metadata": {},
     "output_type": "execute_result"
    }
   ],
   "source": [
    "df['Nhà bếp'].unique()"
   ]
  },
  {
   "cell_type": "code",
   "execution_count": 28,
   "id": "f227ad7a",
   "metadata": {},
   "outputs": [
    {
     "data": {
      "text/plain": [
       "array([nan, '---'], dtype=object)"
      ]
     },
     "execution_count": 28,
     "metadata": {},
     "output_type": "execute_result"
    }
   ],
   "source": [
    "df['Sân thượng'].unique()"
   ]
  },
  {
   "cell_type": "code",
   "execution_count": 29,
   "id": "a4f95dbf",
   "metadata": {},
   "outputs": [
    {
     "data": {
      "text/plain": [
       "array([nan, '---'], dtype=object)"
      ]
     },
     "execution_count": 29,
     "metadata": {},
     "output_type": "execute_result"
    }
   ],
   "source": [
    "df['Chổ để xe hơi'].unique()"
   ]
  },
  {
   "cell_type": "code",
   "execution_count": 30,
   "id": "23ce8d65",
   "metadata": {},
   "outputs": [
    {
     "data": {
      "text/plain": [
       "array(['---', nan], dtype=object)"
      ]
     },
     "execution_count": 30,
     "metadata": {},
     "output_type": "execute_result"
    }
   ],
   "source": [
    "df['Chính chủ'].unique()"
   ]
  },
  {
   "cell_type": "code",
   "execution_count": 31,
   "id": "bd67a678",
   "metadata": {},
   "outputs": [],
   "source": [
    "df['Phòng ăn']=df['Phòng ăn'].fillna('Có').replace('---',np.nan)\n",
    "df['Nhà bếp']=df['Nhà bếp'].fillna('Có').replace('---',np.nan)\n",
    "df['Sân thượng']=df['Sân thượng'].fillna('Có').replace('---',np.nan)\n",
    "df['Chổ để xe hơi']=df['Chổ để xe hơi'].fillna('Có').replace('---',np.nan)\n",
    "df['Chính chủ']=df['Chính chủ'].fillna('Có').replace('---',np.nan)"
   ]
  },
  {
   "cell_type": "markdown",
   "id": "d4d38f6d",
   "metadata": {},
   "source": [
    "# Đường trước nhà, Chiều ngang, Chiều dài"
   ]
  },
  {
   "cell_type": "code",
   "execution_count": 32,
   "id": "ae2e6f42",
   "metadata": {},
   "outputs": [
    {
     "data": {
      "text/plain": [
       "array(['30m', '7,5m', '3m', '15m', '5,5m', '5m', '6m', '10,m', '8m',\n",
       "       '10m', '---', '33m', '11m', '75m', '5,1m', '20m', '7m', '40m',\n",
       "       '9mm', '18m', '32m', '4m', '23m', '2,5m', '3,5m', '10,5m', '12m',\n",
       "       '35m', '105m', '21m', '31m', '2m', '4,5m', '25m', '1m', '5m5m',\n",
       "       '13m', '58m', '45m', '36m', '22m', '7m5m', '3m7m', '17m', '39m',\n",
       "       '16m', '48m', '60m', '42m', '5mm', '4mm', '3,3m', '3,2m', '27m',\n",
       "       '50m', '55m', '24m', '2m5m', '52m', '3m5m', '3mm', '|15m', '14m',\n",
       "       '26m', '70m', '6,5m', '9m', '120m', '2,3m', '43m', '7,7m', '46m',\n",
       "       '2,7m', '10mm', '3,7m', '3,8m', '9,5m', '5,6m', '5M5m', '7M5m',\n",
       "       '253m', '44m', '34m', '1,8m'], dtype=object)"
      ]
     },
     "execution_count": 32,
     "metadata": {},
     "output_type": "execute_result"
    }
   ],
   "source": [
    "df['Đường trước nhà'].unique()"
   ]
  },
  {
   "cell_type": "code",
   "execution_count": 33,
   "id": "b346052b",
   "metadata": {},
   "outputs": [
    {
     "data": {
      "text/plain": [
       "array(['5m', '10m', '6m', '4m', '20m', '14m', '14,7m', '8m', '7m', '6,5m',\n",
       "       '5,5m', '---', '4,5m', '75m', '30m', '9,4m', '7,5m', '15m', '9m',\n",
       "       '25m', '8,2m', '9,6m', '9,55m', '5,2m', '13,2m', '5,4m', '6,8m',\n",
       "       '8,5m', '4,54m', '4,3m', '7,4m', '4,85m', '11m', '3,7m', '4,07m',\n",
       "       '5,1m', '18,15m', '12m', '5,6m', '6,3m', '6,7m', '7,6m', '13m',\n",
       "       '100m', '9,5m', '4,6m', '4,4m', '8,3m', '8,1m', '7,8m', '6,56m',\n",
       "       '3,8m', '7,2m', '3,55m', '80m', '18m', '5,3m', '18,50m', '24m',\n",
       "       '27m', '0m', '41m', '33m', '11,5m', '3,6m', '715m', '5,7m', '82m',\n",
       "       '8,6m', '7,1m', '17,34m', '3,5m', '4,2m', '22m', '85m', '3,1m',\n",
       "       '4,1m', '17m', '36m', '12,5m', '50m', '19m', '9,2m', '4,75m',\n",
       "       '40m', '3,53m', '16m', '15,5m', '8,8m', '32m', '11,9m', '400m',\n",
       "       '23,5m', '31,5m', '4,7m', '8,7m', '6,1m', '23m', '13,5m', ',2m',\n",
       "       '5,25m', '8,4m', '6,25m', '4,8m', '8,69m', '6,72m', '6m3m', '3,9m',\n",
       "       '5,41m', '9,63m', '70m', '6,2m', '21m', '4,9m', '11,4m', '6,6m',\n",
       "       '6,45m', '73m', '6mm', '6,4m', '19,5m', '3,2m', '26m', '35m',\n",
       "       '4,05m', '5,14m', '4,92m', '10,5m', '38m', '5/13m', '18,5m',\n",
       "       '17,7m', '8,75m', '5,8m', '13,1m', '45m', '43m', '140m', '5,15m',\n",
       "       '3m', '3,71m', '3,17m', '5,86m', '7,25m', '27,5m', '55m', '105m',\n",
       "       '7m5m', '4m5m', '9,3m', '7,7m', '11,6m', '7,9m', '5,38m', '90m',\n",
       "       '135m', '7,3m', '9,75m', '12,7m', '8,48m', '8,25m', '4,10m',\n",
       "       '4m30m', '26,5m', '4,89m', '12,6m', '215m', '37m', '60m', '120m',\n",
       "       '34m', '10,2m', '22,5m', '9,7m', '13,9m', '5,06m', '3,65m',\n",
       "       '10,7m', '53m', '9,15m', '10,8m', '9,72m', '2m', '88m', '42m',\n",
       "       '5,91m', '4,95m', '7,15m', '3,4m', '6,14m', '12,3m', '8,77m',\n",
       "       '21,5m', '17,5m', '29m', '6,65m', '3,75m', '6,26m', '6,9m', '1m',\n",
       "       '22,2m', '5,45m', '4,57m', '7,66m', '3,95m', '10,4m', '5,9m',\n",
       "       '14,5m', '12,75m', '5,55m', '3,3m', '8,29m', '4,5mm', '12,4m',\n",
       "       '7,35m', '16,6m', '4,18m', '7,58m', '4,1mm', '6,15m', '180m',\n",
       "       '4,25m', '8,07m'], dtype=object)"
      ]
     },
     "execution_count": 33,
     "metadata": {},
     "output_type": "execute_result"
    }
   ],
   "source": [
    "df['Chiều ngang'].unique()"
   ]
  },
  {
   "cell_type": "code",
   "execution_count": 34,
   "id": "e36af0e2",
   "metadata": {},
   "outputs": [
    {
     "data": {
      "text/plain": [
       "array(['25m', '18m', '---', '24m', '16m', '11m', '12m', '19m', '15m',\n",
       "       '20m', '35m', '21m', '23m', '17m', '225m', '38m', '40m', '26m',\n",
       "       '17,5m', '22m', '30m', '14m', '32m', '19,8m', '90m', '14,2m',\n",
       "       '22,5m', '23,5m', '24,5m', '14,5m', '22,6m', '15,6m', '6,6m', '7m',\n",
       "       '10m', '18,5m', '16,5m', '21,5m', '21,7m', '13m', '18,4m', '29m',\n",
       "       '16,3m', '16,8m', '8m', '19,5m', '12,5m', '65m', '17,2m', '18,6m',\n",
       "       '29,71m', '42m', '18,2m', '16,2m', '4,5m', '9m', '160m', '23,3m',\n",
       "       '20,3m', '18,3m', '20,7m', '0m', '4m', '7,9m', '5m', '31m',\n",
       "       '19,3m', '36m', '100m', '27m', '132m', '9,55m', '10,4m', '28m',\n",
       "       '6m', '95m', '60m', '53m', '13,5m', '25,2m', '20,5m', '25,5m',\n",
       "       '15,5m', '21,3m', '33m', '41,5m', '2000m', '26,5m', '14,6m',\n",
       "       '12,3m', '21,9m', '22,8m', '27,8m', '21,2m', '8,5m', '10,5m',\n",
       "       '12,2m', '11,3m', '11,6m', '23,75m', '13,3m', '19,4m', '14,25m',\n",
       "       '23,2m', '15,75m', '37m', '18,8m', '15,8m', '88m', '17,4m',\n",
       "       '24,6m', '16,6m', '9,6m', '11,2m', '16,7m', '20,54m', '23,6m',\n",
       "       '18,72m', '14,8m', '17,1m', '20,2m', '15,2m', '11,5m', '21,8m',\n",
       "       '10,3m', '20,8m', '9,2m', '17,25m', '12,6m', '31,8m', '12,8m',\n",
       "       '18,25m', '11,25m', '19,6m', '17,7m', '39m', '54m', ',,m', '22,9m',\n",
       "       '15,1m', '25,7m', '13,2m', '22,7m', '3,5m', '6,5m', '11,50m',\n",
       "       '6,2m', '16,25m', '26,7m', '30,6m', '43m', '00m', '50m', '26,1m',\n",
       "       '20,35m', '9,7m', '17,14m', '12,79m', '15,26m', '5,05m', '34m',\n",
       "       '200m', '7,5m', '45m', '108m', '28,5m', '46m', '23,8m', '20,6m',\n",
       "       '14,3m', '20,4m', '12,9m', '75m', '5,5m', '9,3m', '17,3m', '18,7m',\n",
       "       '13,m', '8,7m', '12,75m', '13,75m', '7,2m', '24,4m', '12,18m',\n",
       "       '15,73m', '41,65m', '22,2m', '20,26m', '19,48m', '10,18m', '6,3m',\n",
       "       '4,6m', '23,4m', '22,3m', '17,9m', '25,3m', '55m', '17,29m',\n",
       "       '140m', '19,1m', '16,24m', '9,5m', '13,1m', '23,7m', '28,25m',\n",
       "       '31,13m', '14,9m', '24,1m', '22,4m', '10,2m', '15,3m', '25,6m',\n",
       "       '27,5m', '47m', '19,76m', '24,3m', '7,8m', '21,6m', '4,4m',\n",
       "       '10,7m', '10,8m', '26,6m', '14,7m', '16,1m', '15,7m', '52m',\n",
       "       '5,3m', '24,8m', '19,7m', '11,8m', '17,75m', '33,3m', '102m',\n",
       "       '240m', '44m', '21,25m', '22,24m', '8,3m', '7,35m', '2+m', '67m',\n",
       "       '36,5m', '25,4m', '70m', '64m', '17,8m', '19,2m', '19,25m',\n",
       "       '31,2m', '25,9m', '8,6m', '20,1m', '24,7m', '2m', '37,5m',\n",
       "       '24,13m', '12,7m', '41m', '15,4m', '9,54m', '6-4m', '18,55m',\n",
       "       '18,18m', '23,66m', '150m', '10,6m', '18,75m', '26,3m', '13,87m',\n",
       "       '8,2m', '27,68m', '7,4m', '28,6m'], dtype=object)"
      ]
     },
     "execution_count": 34,
     "metadata": {},
     "output_type": "execute_result"
    }
   ],
   "source": [
    "df['Chiều dài'].unique()"
   ]
  },
  {
   "cell_type": "code",
   "execution_count": 35,
   "id": "541d5c0b",
   "metadata": {},
   "outputs": [],
   "source": [
    "def process_width(text):\n",
    "    if isinstance(text,str):\n",
    "        x=text.lower().replace('mm', 'm').replace(',', '.').replace('m','.').replace('+','').replace('---','').replace('|','').replace('/','.').replace('-','.')\n",
    "        x = re.sub(r'\\.\\Z', '', x)\n",
    "        x = re.sub(r'^[^0-9]+', '', x)\n",
    "        return x\n",
    "    else:\n",
    "        return ''"
   ]
  },
  {
   "cell_type": "code",
   "execution_count": 36,
   "id": "233e14e0",
   "metadata": {},
   "outputs": [],
   "source": [
    "df['Đường trước nhà']= df['Đường trước nhà'].apply(lambda x: process_width(x))\n",
    "df['Chiều ngang']= df['Chiều ngang'].apply(lambda x: process_width(x))\n",
    "df['Chiều dài']= df['Chiều dài'].apply(lambda x: process_width(x))"
   ]
  },
  {
   "cell_type": "code",
   "execution_count": 37,
   "id": "6ebb99f3",
   "metadata": {},
   "outputs": [],
   "source": [
    "df['Đường trước nhà'] = df['Đường trước nhà'].apply(replace_empty_with_nan)\n",
    "df['Chiều ngang'] = df['Chiều ngang'].apply(replace_empty_with_nan)\n",
    "df['Chiều dài'] = df['Chiều dài'].apply(replace_empty_with_nan)"
   ]
  },
  {
   "cell_type": "code",
   "execution_count": 38,
   "id": "2a20f1d8",
   "metadata": {},
   "outputs": [],
   "source": [
    "df['Đường trước nhà']=df['Đường trước nhà'].astype(float)\n",
    "df['Chiều ngang']=df['Chiều ngang'].astype(float)\n",
    "df['Chiều dài']=df['Chiều dài'].astype(float)"
   ]
  },
  {
   "cell_type": "markdown",
   "id": "c2edf23b",
   "metadata": {},
   "source": [
    "# Loại bất động sản"
   ]
  },
  {
   "cell_type": "code",
   "execution_count": 39,
   "id": "206968de",
   "metadata": {},
   "outputs": [
    {
     "data": {
      "text/plain": [
       "array(['Nhà mặt tiền', 'Nhà trong hẻm', 'Nhà hàng, khách sạn',\n",
       "       'Đất thổ cư, đất ở', 'Phòng trọ, nhà trọ', 'Căn hộ chung cư',\n",
       "       'Biệt thự, nhà liền kề', 'Đất nền, liền kề, đất dự án',\n",
       "       'Kho, xưởng', 'Văn phòng', 'Đất nông, lâm nghiệp', 'Mặt bằng',\n",
       "       'Các loại khác', 'Shop, kiot, quán'], dtype=object)"
      ]
     },
     "execution_count": 39,
     "metadata": {},
     "output_type": "execute_result"
    }
   ],
   "source": [
    "df['Loại BDS'].unique()"
   ]
  },
  {
   "cell_type": "markdown",
   "id": "9d84f1ab",
   "metadata": {},
   "source": [
    "# Pháp lý"
   ]
  },
  {
   "cell_type": "code",
   "execution_count": 40,
   "id": "2fd547ee",
   "metadata": {},
   "outputs": [
    {
     "data": {
      "text/plain": [
       "array(['Giấy tờ hợp lệ', 'Sổ hồng/ Sổ đỏ', '---', 'Giấy phép XD'],\n",
       "      dtype=object)"
      ]
     },
     "execution_count": 40,
     "metadata": {},
     "output_type": "execute_result"
    }
   ],
   "source": [
    "df['Pháp lý'].unique()"
   ]
  },
  {
   "cell_type": "code",
   "execution_count": 41,
   "id": "a6182d71",
   "metadata": {},
   "outputs": [],
   "source": [
    "df['Pháp lý'] = df['Pháp lý'].apply(lambda x: np.nan if isinstance(x, str) and x == '---' else x)"
   ]
  },
  {
   "cell_type": "markdown",
   "id": "0771ca47",
   "metadata": {},
   "source": [
    "# Số lầu, số phòng ngủ"
   ]
  },
  {
   "cell_type": "code",
   "execution_count": 42,
   "id": "ed8b75c8",
   "metadata": {},
   "outputs": [
    {
     "data": {
      "text/plain": [
       "array(['4', '1', '3', '10', '2', '5', '6', '---', '27', '33', '11', '21',\n",
       "       '19', '7', '12', '15', '16', '25', '8', '160', '9', '13', '26',\n",
       "       '17', '20', '23', '18', '14', '35', '24', '22', '40', '37', '30',\n",
       "       '28'], dtype=object)"
      ]
     },
     "execution_count": 42,
     "metadata": {},
     "output_type": "execute_result"
    }
   ],
   "source": [
    "df['Số lầu'].unique()"
   ]
  },
  {
   "cell_type": "code",
   "execution_count": 43,
   "id": "23fa3db5",
   "metadata": {},
   "outputs": [
    {
     "data": {
      "text/plain": [
       "array(['9', '1', '3', '50', '4', '6', '7', '---', '2', '5', '15', '270',\n",
       "       '13', '23', '60', '22', '200', '110', '10', '21', '12', '16', '26',\n",
       "       '8', '18', '56', '19', '80', '52', '98', '11', '36', '27', '24',\n",
       "       '150', '264', '25', '78', '20', '81', '100', '32', '190', '34',\n",
       "       '28', '65', '42', '35', '17', '161', '48', '75', '40', '105', '14',\n",
       "       '94', '33', '90', '70', '49', '30', '41', '92', '51', '77', '96',\n",
       "       '73', '111', '125', '55', '31', '47', '45', '130', '300', '108',\n",
       "       '37', '104', '102', '72', '62', '54', '53', '120', '126', '95',\n",
       "       '133', '46', '86', '38', '67', '43'], dtype=object)"
      ]
     },
     "execution_count": 43,
     "metadata": {},
     "output_type": "execute_result"
    }
   ],
   "source": [
    "df['Số phòng ngủ'].unique()"
   ]
  },
  {
   "cell_type": "code",
   "execution_count": 44,
   "id": "311d01d9",
   "metadata": {},
   "outputs": [],
   "source": [
    "df['Số lầu'] = df['Số lầu'].apply(lambda x: np.nan if isinstance(x, str) and x == '---' else x)\n",
    "df['Số phòng ngủ'] = df['Số phòng ngủ'].apply(lambda x: np.nan if isinstance(x, str) and x == '---' else x)"
   ]
  },
  {
   "cell_type": "code",
   "execution_count": 45,
   "id": "01a77aca",
   "metadata": {},
   "outputs": [],
   "source": [
    "df['Số lầu'] = pd.to_numeric(df['Số lầu'], errors='coerce')\n",
    "df['Số phòng ngủ'] = pd.to_numeric(df['Số phòng ngủ'], errors='coerce')"
   ]
  },
  {
   "cell_type": "code",
   "execution_count": 46,
   "id": "a3817fca",
   "metadata": {},
   "outputs": [],
   "source": [
    "# df['Số lầu']=df['Số lầu'].astype(int)\n",
    "# df['Số phòng ngủ']=df['Số phòng ngủ'].astype(int)"
   ]
  },
  {
   "cell_type": "markdown",
   "id": "3a6da20b",
   "metadata": {},
   "source": [
    "# Phone"
   ]
  },
  {
   "cell_type": "code",
   "execution_count": 47,
   "id": "c4d378e7",
   "metadata": {},
   "outputs": [],
   "source": [
    "# df['phone'].unique()"
   ]
  },
  {
   "cell_type": "code",
   "execution_count": 48,
   "id": "dd9c4faa",
   "metadata": {},
   "outputs": [],
   "source": [
    "df['phone']=df['phone'].apply(lambda x: x.replace('.',' ').replace(\"84\", \"0\", 1))"
   ]
  },
  {
   "cell_type": "markdown",
   "id": "3930c755",
   "metadata": {},
   "source": [
    "# Địa chỉ"
   ]
  },
  {
   "cell_type": "code",
   "execution_count": 49,
   "id": "232ba8c8",
   "metadata": {},
   "outputs": [
    {
     "data": {
      "text/plain": [
       "array(['Địa chỉ tài sản: Đường Nguyễn Tất Thành, Phường Xuân Hà, Quận Thanh Khê, Đà Nẵng',\n",
       "       'Địa chỉ tài sản: Đường Nguyễn Phong Sắc, Phường Khuê Trung, Quận Cẩm Lệ, Đà Nẵng',\n",
       "       'Địa chỉ tài sản: Đường Tô Hiệu, Phường Hòa Minh, Quận Liên Chiểu, Đà Nẵng',\n",
       "       ...,\n",
       "       'Địa chỉ tài sản: Đường Bàu Cầu 15, Phường Hòa Xuân, Quận Cẩm Lệ, Đà Nẵng',\n",
       "       'Địa chỉ tài sản: Võ Quí Huân Đường Võ Quí Huân, Phường Hòa Hải, Quận Ngũ Hành Sơn, Đà Nẵng',\n",
       "       'Địa chỉ tài sản: Trung Lương 11 Trung Lương 11, Phường Hòa Xuân, Quận Cẩm Lệ, Đà Nẵng'],\n",
       "      dtype=object)"
      ]
     },
     "execution_count": 49,
     "metadata": {},
     "output_type": "execute_result"
    }
   ],
   "source": [
    "df['Địa chỉ'].unique()"
   ]
  },
  {
   "cell_type": "code",
   "execution_count": 50,
   "id": "5e5ff5af",
   "metadata": {},
   "outputs": [],
   "source": [
    "df['Địa chỉ']=df['Địa chỉ'].apply(lambda x: x.replace('Địa chỉ tài sản: ',''))"
   ]
  },
  {
   "cell_type": "markdown",
   "id": "e0a47c83",
   "metadata": {},
   "source": [
    "# Tên người dùng"
   ]
  },
  {
   "cell_type": "code",
   "execution_count": 51,
   "id": "30920587",
   "metadata": {
    "scrolled": true
   },
   "outputs": [
    {
     "data": {
      "text/plain": [
       "array(['Trần Trung Hậu', 'Hiền Hiền', 'Quốc', 'Nguyễn Ái', 'Công Minh',\n",
       "       'Trần Viết Phúc', 'Lê Minh Đức', 'Nguyễn khăc Dũng',\n",
       "       'Phạm ngọc Nhật', 'Võ Hiệu', 'Trần Xuân Thắng', 'Nguyễn Hoàng Duy',\n",
       "       'CHÍNH CHỦ', 'Thanh Loan', 'Võ Văn Bảo', 'Vũ Thị Hà', 'Mỹ Dung',\n",
       "       'lê thu trang', 'Ngọc Oanh', 'Võ Kim Liên', 'Sơn Chấn',\n",
       "       'Phú Nguyễn', 'Hà Văn Hợi', 'Nguyễn Tấn Luân', 'Thanh Nga',\n",
       "       'Phan Thanh Chương', 'Quang Diep', 'Mr. Lực', 'Nguyễn Trung Dũng',\n",
       "       'Minh', 'Ngọc Hùng & Ngọc Oanh', 'CHÂU HOÀNG', 'lê thanh tín',\n",
       "       'Linh', 'Nguyễn Ngọc Hải', 'Zũ Land', 'Hoàng Anh', 'Land',\n",
       "       'Trương công Lành', 'Nguyễn Hữu Tín', 'Nguyễn Thị Thủy',\n",
       "       'Vũ Kim Dung', 'Nguyễn Nhật Lam', 'Trần Thị Quốc Thái',\n",
       "       'Đặng Bình Phi Hoàng', 'Hiếu Anh', 'Lê Thị Lệ Huyền',\n",
       "       'Thân Hoàng Tuấn', 'Phú Mẫn', 'Phan Thanh', 'Thân Tuấn',\n",
       "       'Tuấn Kiệt', 'lê ngọc sỹ', 'Anh Dũng', 'Nguyễn Trung Tín',\n",
       "       'Nguyễn Hùng Anh', 'Hà Duy Thịnh', 'nguyễn ngọc vũ',\n",
       "       'tranthithuthuy078@gmail.com', 'trần thị thu thủy',\n",
       "       'Lê Thanh Khải', 'Hoàn', 'Ngô Thị Thanh Nga', 'Việt Nguyễn',\n",
       "       'Ngô Thị Hồng Thơm', 'Nguyễn Việt', 'Trần Thị Ánh Trúc',\n",
       "       'tu văn quý', 'Đào ngọc huy', 'Lê Ân', 'Bùi Hoài Giang',\n",
       "       'NGUYÊN ĐỨC SINH', 'Bùi Văn Đức', 'Từ Thanh Thuận',\n",
       "       'Nguyễn Đức Dương', 'Võ Thanh An', 'Tấn Tài', 'Trần Tài',\n",
       "       'ĐÌNH TRINH', 'Phước An Land', 'Tạ Duy Tùng', 'Cao Văn Tuấn',\n",
       "       'Phạm tuấn bình', 'Đăng Thị Thanh Tâm', 'BÌNH YÊN',\n",
       "       'Nguyễn Hữu Thái', 'nguyễn vũ tuyên', 'HOÀNG BÌNH', 'Soái',\n",
       "       'Soái ca', 'Thiên Kim', 'Đàm Quang Tiến', 'NGỌC PHÁT',\n",
       "       'nguyễn văn triều', 'Bùi Thị Sinh', 'chính chủ', 'Đặng Khang',\n",
       "       'Nguyễn Hải Đăng', 'Đoàn Phát', 'hà thiện', 'Diệp BĐS',\n",
       "       'Thư Trang', 'Kiều Đức', 'Nguyễn Việt Mỹ', 'Lý Ngọc Linh',\n",
       "       'Phúc Khang', 'Tống Trần Đại', 'Bùi Thị Hoàng Cúc',\n",
       "       'Tường Vi FPT Đà Nẵng', 'Quốc Bảo', 'Đoàn Ngọc Phương', 'Chung',\n",
       "       'Nguyễn Xuân Tưởng', 'Trần Xuân Hoàng', 'Lê Minh', 'Lê Thị Nguyên',\n",
       "       'Nguyễn Kim Ánh', 'Hồng Minh', 'DƯ THANH TÙNG', 'vũ tường vy',\n",
       "       'TRẦN TRUNG', 'Lê Dung', 'Mr. Triệu', 'Trần thanh hoàng',\n",
       "       'phạm vũ quang', 'Phạm Đức Tuấn', 'Nguyễn Tùng', 'Diện Lê',\n",
       "       'Nguyễn Văn Ngọc', 'Phạm quang vũ', 'Ms Trang', 'Hoài Giang',\n",
       "       'nguyễn bảo xuân phi', 'Nguyễn Huy', 'Hồ Thị Ngọc Hậu',\n",
       "       'MAIHUNGCUONG', 'nguyễn văn dương', 'Nguyen Thi Hoai Giang',\n",
       "       'Trần đình dần', 'Phan Khánh', 'mai văn bình', 'Nguyễn Vẫn',\n",
       "       'Trương Thị Thu Kiều', 'Nguyễn Thị Thắng', 'Thiên long phát',\n",
       "       'Trần Viết Hùng', 'trang đặng', 'Hoàng Công Trương',\n",
       "       'Phan Thị Tuyết Nhi', 'Nguyễn Gia Hân', 'Phan Trọng Bảo',\n",
       "       'Nguyễn Thị Nhan', 'Nguyễn Minh Tuấn', 'Dương',\n",
       "       'Nguyễn thị lan anh', 'Đỗ Thanh Tuấn', 'Ms Phượng',\n",
       "       'Trần Thái Nguyên', 'Mr Hiển', 'Đỗ Văn Hiển', 'Mrs Tuyết',\n",
       "       'NGỌC SƠN', 'Lê Anh Tuyền', 'NGỌC SƠN LAND',\n",
       "       'maivanbinh140388@gmail.com', 'Phan đình hóa', 'Đỗ văn Thắng',\n",
       "       'Nguyễn Phương Ngọc', 'Lê Hồng Vân', 'Mỹ Hạnh', 'nguyễn tấn phi',\n",
       "       'Huỳnh Ngọc Duy Hoàng', 'mai van bình', 'TRƯƠNG THỊ NGỌC NGA',\n",
       "       'Lê Hồng Nhân', 'Ánh Dương', 'Em Duyen', 'Nguyễn Hải Thanh',\n",
       "       'Nguyễn Hữu Huy', 'Hoang Nam', 'Hữu Lợi', 'nguyễn xuân sự',\n",
       "       'Nguyễn Phúc', 'Gia Kiên', 'HỒNG NGA', 'Nguyễn Kim Oanh',\n",
       "       'vĩnh hiếu', 'phạm thị nguyên hương', 'lưu kiều diệu an',\n",
       "       'Phan Hưng', 'Anh Thương', 'Huỳnh Bá Phi', 'Anh hiếu',\n",
       "       'Nguyễn Văn Hưởng', 'Mr. Lâm', 'Dũng Villa', 'Lê Hồng Hải',\n",
       "       'Đình Bằng', 'Hoàng Đình Bằng', 'DƯơng Công Pháp', 'Thanh Tùng',\n",
       "       'nguyễn thế điệp', 'Trần Bá Thức', 'Văn Tân', 'Trần Lê Triệu Vĩ',\n",
       "       'Nguyễn Nhật Tân', 'Phúc', 'Mạnh Phú', 'Đình Trinh',\n",
       "       'Nguyễn Đình Trinh', 'việt', 'Phan Doãn An', 'Phan Tấn Tùng',\n",
       "       'Hoàng Thanh Thuỷ', 'Nguyễn Hà Anh', 'Nguyễn Văn Bảo', 'Võ Diễm',\n",
       "       'võ định', 'cao viết cường', 'Nguyễn Khánh', 'Đỗ Minh Chiến',\n",
       "       'Lê Văn Vũ', 'Gia Kỳ', 'trần hữu thắng', 'NGUYỄN VĂN TRƯỜNG',\n",
       "       'ĐẤT', 'Tuyền nguyễn', 'Phú Thịnh', 'Hoàng Minh Phúc',\n",
       "       'hoàng minh phúc', 'Nguyễn Văn Lực', 'Hoàng Duyên', 'Lê Diện',\n",
       "       'LÊ VĂN PHÚ', 'Nguyễn Văn Tịnh', 'Trần Đỗ Linh',\n",
       "       'Đào Hứa Phương Thảo', 'Lê trang', 'Võ nguyên thịnh',\n",
       "       'Phạm Hồng Cương', 'Thiên Ân', 'Phạm Thị Thanh Cẩm',\n",
       "       'Hoàng Bá Quyết', 'Trương bảo vũ', 'Lê Châu Cường',\n",
       "       'Hoàng Văn Hoàn', 'Nguyễn Tuyết', 'Cao Thành Danh',\n",
       "       'Anh Thương Land', 'Nhà Đất', 'Đình Đức', 'cái viết hải',\n",
       "       'Nguyễn Thị Kim Phụng', 'Vũ Xuân Dương', 'hoang nguyễn vũ',\n",
       "       'Nguyễn Nguyên', 'Nguyễn Ngọc Truyền', 'Nguyễn Bình Minh',\n",
       "       'nguyễn văn hoàn tùng', 'Công Ty Bất Động Sản Anh Thương Land',\n",
       "       'khánh', 'Gấu Mập', 'Đàm đức chính', 'Phương Bùi',\n",
       "       'nguyễn thạch hãn', 'Nguyễn Thành Tài', 'Quảng môn', 'Văn Lực',\n",
       "       'Nguyen Van Luc', 'Nhà đất chính chủ', 'TRƯƠNG VŨ LI NA',\n",
       "       'Yên Nguyễn', 'Đặng Thị Lan', 'trần đức huy', 'đỗ thị ngọc nhung',\n",
       "       'Đặng Công Khôi', 'lê đức phương', 'Phạm Quang Lâm', 'Ân Phạm',\n",
       "       'Lê Văn Thạnh', 'Trần Chỉnh', 'Minh Hùng', 'Đỗ Minh Thành',\n",
       "       'Thanh Thanh', 'Thành TCA', 'Hồ Thiên Vũ Anh Ka', 'Nguyễn',\n",
       "       'Huỳnh Tấn Nhật', 'Nguyễn Minh Nhật', 'Hiếu Nguyễn',\n",
       "       'Lê Thị Tuyết', 'Mai Đinh Nguyên', 'Phan Thị Phương', 'Ms Hồng',\n",
       "       'Quỳnh Trang', 'Ms Nghĩa', 'Nguyễn Phát', 'Trần Nguyễn Ý Trang',\n",
       "       'Hà', 'Le HÙNG', 'Lưu ánh sáng', 'Minh trần',\n",
       "       'Trương Thị Ngọc Lan', 'chung', 'Nguyễn Văn Kin', 'Huyên',\n",
       "       'Nguyễn Văn Tuấn', 'Quang Vinh', 'Thế Anh', 'Anh Kính', 'Anh Chín',\n",
       "       'Anh Lý', 'Anh bi', 'Đoàn Ngọc Vinh', 'Trần Dư', 'Anh Thư',\n",
       "       'Nguyễn Thị Bảo Ngọc', 'Trần Ngọc Châu', 'Dung', 'Mr. Cần',\n",
       "       'Phạm Tấn Tiến', 'Đoàn Thanh Vĩnh', 'Lê Thanh Việt', 'Thiện',\n",
       "       'lê thị thu trang', 'Công Bình', 'Nguyễn Trà Giang', 'Lê Hữu Hiền',\n",
       "       'Huỳnh Quốc Ý', 'Trần văn khánh', 'Le phương nam',\n",
       "       'Nguyễn Thị Tú Trinh', 'Hoàng Nhật Tiên', 'Kim Tuấn', 'Tuyến',\n",
       "       'Trần Việt Tuấn', 'Phan Nguyễn Hữu Phước', 'Nguyễn văn thanh',\n",
       "       'Nguyễn Thị Hiền', 'Kiều Đức Land', 'Tạ Công Triêu', 'Hồ Đức Land',\n",
       "       'Đinh Công Bình', 'Hứa Thế Anh', 'Mr Dũng', 'Trần Thanh Vương',\n",
       "       'Hoàng Lê', 'Võ Anh Trí', 'Sơn Chấn Land', 'sơn chấn',\n",
       "       'Phạm Trung Dũng', 'Trương Long', 'Minh Đức', 'Tây',\n",
       "       'Nguyễn hữu lành', 'Thủy Nguyễn', 'Nguyễn Văn Thuyền',\n",
       "       'Lê Thanh Ngộ', 'NGUYỄN NGỌC TRUNG', 'Mr.Quang',\n",
       "       'Trần Viết Thành Đạt', 'Đinh Nhật Nam', 'Chính chủ', 'Nguyễn Hằng',\n",
       "       'Đặng văn tạo', 'Trương Quang Linh', 'Trần Tỉnh',\n",
       "       'Ngô Tiểu Linh Đồng', 'Kiều', 'ĐẶNG THỊ MỸ LINH', 'Văn Huy',\n",
       "       'Chị hằng', 'Hoàng Bảo Phượng', 'Huy Lữ', 'Võ Văn Quốc Minh',\n",
       "       'Thanh Kim Huệ', 'Đinh Văn Thành', 'Trinh Trinh',\n",
       "       'Phạm Trung Đông', 'NGUYỄN HỒNG LOAN', 'Nguyễn công hậu',\n",
       "       'Phạm Ngọc Long', 'Lê Văn Nam', 'trần minh phụng',\n",
       "       'Đinh Công Tiến Luật', 'Nguyễn Văn Ba', 'châu', 'Phan Thị Kiều',\n",
       "       'Trần Thị Như Hòa', 'Huỳnh Thị Cẩm Nhung', 'Võ Văn Huy', 'Anh Vũ',\n",
       "       'Nguyễn Xuân Trường', 'Nguyễn Thu Hà', 'mai van binh',\n",
       "       'Nguyễn Văn Thành Đạt', 'CÔNG TY NHÀ ĐẤT TỨ CHIẾN', 'Đặng Thủy',\n",
       "       'Thảo Lê', 'TRẦN ĐÌNH AN', 'Phạm Thảo', 'Tấn Phú',\n",
       "       'Nguyễn Thuý Loan', 'Thương', 'KIM PHỤNG LAND', 'Nguyễn Hữu Thọ',\n",
       "       'Hoàng Thùy', 'Ngọc Hường', 'Nguyễn Minh Thắng',\n",
       "       'Nguyễn Thành Long', 'Thanh Thùy', 'Ngô Thị Bích Nhạn',\n",
       "       'nguyencongthanh', 'Nguyễn Đắc Hoàng Long', 'Đặng Hoàng Huy',\n",
       "       'Phan Huy Tuấn', 'Phan HuyTuấn', 'Tường Vy', 'Nguyễn Trung Trực',\n",
       "       'Nguyễn Minh Cường', 'Phuocnguyen', 'phước nguyên',\n",
       "       'Nguyễn Đức Sơn', 'Nguyễn Quang Triều', 'Lê  Anh Tú',\n",
       "       'Phan Văn Lĩnh', 'Nguyễn Anh Đài', 'Trần Văn Hậu', 'A Thương Land'],\n",
       "      dtype=object)"
      ]
     },
     "execution_count": 51,
     "metadata": {},
     "output_type": "execute_result"
    }
   ],
   "source": [
    "df['Liên hệ'].unique()"
   ]
  },
  {
   "cell_type": "code",
   "execution_count": 52,
   "id": "5aab1c67",
   "metadata": {},
   "outputs": [],
   "source": [
    "df['Liên hệ']=df['Liên hệ'].str.title()"
   ]
  },
  {
   "cell_type": "code",
   "execution_count": 53,
   "id": "366d2a98",
   "metadata": {},
   "outputs": [
    {
     "data": {
      "text/plain": [
       "array(['Trần Trung Hậu', 'Hiền Hiền', 'Quốc', 'Nguyễn Ái', 'Công Minh',\n",
       "       'TrầN ViếT PhúC', 'Lê Minh Đức', 'Nguyễn Khăc Dũng',\n",
       "       'Phạm Ngọc Nhật', 'Võ Hiệu', 'Trần Xuân Thắng', 'Nguyễn Hoàng Duy',\n",
       "       'Chính Chủ', 'Thanh Loan', 'Võ Văn BảO', 'Vũ Thị Hà', 'Mỹ Dung',\n",
       "       'Lê Thu Trang', 'Ngọc Oanh', 'Võ Kim Liên', 'Sơn Chấn',\n",
       "       'Phú Nguyễn', 'Hà Văn Hợi', 'Nguyễn Tấn Luân', 'Thanh Nga',\n",
       "       'Phan Thanh Chương', 'Quang Diep', 'Mr. Lực', 'Nguyễn Trung Dũng',\n",
       "       'Minh', 'Ngọc Hùng & Ngọc Oanh', 'Châu Hoàng', 'Lê Thanh Tín',\n",
       "       'Linh', 'Nguyễn Ngọc Hải', 'Zũ Land', 'Hoàng Anh', 'Land',\n",
       "       'Trương Công Lành', 'Nguyễn Hữu Tín', 'Nguyễn Thị Thủy',\n",
       "       'Vũ Kim Dung', 'Nguyễn Nhật Lam', 'Trần Thị Quốc Thái',\n",
       "       'Đặng Bình Phi Hoàng', 'Hiếu Anh', 'Lê Thị Lệ Huyền',\n",
       "       'Thân Hoàng Tuấn', 'Phú Mẫn', 'Phan Thanh', 'Thân Tuấn',\n",
       "       'Tuấn Kiệt', 'Lê Ngọc Sỹ', 'Anh Dũng', 'Nguyễn Trung Tín',\n",
       "       'Nguyễn Hùng Anh', 'Hà Duy Thịnh', 'Nguyễn Ngọc Vũ',\n",
       "       'Tranthithuthuy078@Gmail.Com', 'Trần Thị Thu Thủy',\n",
       "       'Lê Thanh Khải', 'Hoàn', 'Ngô Thị Thanh Nga', 'Việt Nguyễn',\n",
       "       'Ngô Thị Hồng Thơm', 'Nguyễn Việt', 'Trần Thị Ánh Trúc',\n",
       "       'Tu Văn Quý', 'Đào Ngọc Huy', 'Lê Ân', 'Bùi Hoài Giang',\n",
       "       'Nguyên Đức Sinh', 'Bùi Văn Đức', 'Từ Thanh Thuận',\n",
       "       'Nguyễn Đức Dương', 'Võ Thanh An', 'Tấn Tài', 'Trần Tài',\n",
       "       'Đình Trinh', 'Phước An Land', 'Tạ Duy Tùng', 'Cao Văn Tuấn',\n",
       "       'Phạm Tuấn Bình', 'Đăng Thị Thanh Tâm', 'Bình Yên',\n",
       "       'Nguyễn Hữu Thái', 'Nguyễn Vũ Tuyên', 'Hoàng Bình', 'Soái',\n",
       "       'Soái Ca', 'Thiên Kim', 'Đàm Quang Tiến', 'Ngọc Phát',\n",
       "       'Nguyễn Văn Triều', 'Bùi Thị Sinh', 'Đặng Khang',\n",
       "       'Nguyễn Hải Đăng', 'Đoàn Phát', 'Hà Thiện', 'Diệp Bđs',\n",
       "       'Thư Trang', 'Kiều Đức', 'Nguyễn Việt Mỹ', 'Lý Ngọc Linh',\n",
       "       'Phúc Khang', 'Tống Trần Đại', 'Bùi Thị Hoàng Cúc',\n",
       "       'Tường Vi Fpt Đà Nẵng', 'Quốc Bảo', 'Đoàn Ngọc Phương', 'Chung',\n",
       "       'Nguyễn Xuân Tưởng', 'Trần Xuân Hoàng', 'Lê Minh', 'Lê Thị Nguyên',\n",
       "       'Nguyễn Kim Ánh', 'Hồng Minh', 'Dư Thanh Tùng', 'Vũ Tường Vy',\n",
       "       'Trần Trung', 'Lê Dung', 'Mr. Triệu', 'Trần Thanh Hoàng',\n",
       "       'Phạm Vũ Quang', 'Phạm Đức Tuấn', 'Nguyễn Tùng', 'Diện Lê',\n",
       "       'Nguyễn Văn Ngọc', 'Phạm Quang Vũ', 'Ms Trang', 'Hoài Giang',\n",
       "       'Nguyễn Bảo Xuân Phi', 'Nguyễn Huy', 'Hồ Thị Ngọc Hậu',\n",
       "       'Maihungcuong', 'Nguyễn Văn Dương', 'Nguyen Thi Hoai Giang',\n",
       "       'Trần Đình Dần', 'Phan Khánh', 'Mai Văn Bình', 'Nguyễn Vẫn',\n",
       "       'Trương Thị Thu Kiều', 'Nguyễn Thị Thắng', 'Thiên Long Phát',\n",
       "       'Trần Viết Hùng', 'Trang Đặng', 'Hoàng Công Trương',\n",
       "       'Phan Thị Tuyết Nhi', 'Nguyễn Gia Hân', 'Phan Trọng Bảo',\n",
       "       'Nguyễn Thị Nhan', 'Nguyễn Minh Tuấn', 'Dương',\n",
       "       'Nguyễn Thị Lan Anh', 'Đỗ Thanh Tuấn', 'Ms Phượng',\n",
       "       'Trần Thái Nguyên', 'Mr Hiển', 'Đỗ Văn Hiển', 'Mrs Tuyết',\n",
       "       'Ngọc Sơn', 'Lê Anh Tuyền', 'Ngọc Sơn Land',\n",
       "       'Maivanbinh140388@Gmail.Com', 'Phan Đình Hóa', 'Đỗ Văn Thắng',\n",
       "       'Nguyễn Phương Ngọc', 'Lê Hồng Vân', 'Mỹ Hạnh', 'Nguyễn Tấn Phi',\n",
       "       'Huỳnh Ngọc Duy Hoàng', 'Mai Van Bình', 'Trương Thị Ngọc Nga',\n",
       "       'Lê Hồng Nhân', 'Ánh Dương', 'Em Duyen', 'Nguyễn Hải Thanh',\n",
       "       'Nguyễn Hữu Huy', 'Hoang Nam', 'Hữu Lợi', 'Nguyễn Xuân Sự',\n",
       "       'Nguyễn Phúc', 'Gia Kiên', 'Hồng Nga', 'Nguyễn Kim Oanh',\n",
       "       'Vĩnh Hiếu', 'Phạm Thị Nguyên Hương', 'Lưu Kiều Diệu An',\n",
       "       'Phan Hưng', 'Anh Thương', 'Huỳnh Bá Phi', 'Anh Hiếu',\n",
       "       'Nguyễn Văn Hưởng', 'Mr. Lâm', 'Dũng Villa', 'Lê Hồng Hải',\n",
       "       'Đình Bằng', 'Hoàng Đình Bằng', 'Dương Công Pháp', 'Thanh Tùng',\n",
       "       'Nguyễn Thế Điệp', 'Trần Bá Thức', 'Văn Tân', 'Trần Lê Triệu Vĩ',\n",
       "       'Nguyễn Nhật Tân', 'Phúc', 'Mạnh Phú', 'Nguyễn Đình Trinh', 'Việt',\n",
       "       'Phan Doãn An', 'Phan Tấn Tùng', 'Hoàng Thanh Thuỷ',\n",
       "       'Nguyễn Hà Anh', 'Nguyễn Văn Bảo', 'Võ Diễm', 'Võ Định',\n",
       "       'Cao Viết Cường', 'Nguyễn Khánh', 'Đỗ Minh Chiến', 'Lê Văn Vũ',\n",
       "       'Gia Kỳ', 'Trần Hữu Thắng', 'Nguyễn Văn Trường', 'Đất',\n",
       "       'Tuyền Nguyễn', 'Phú Thịnh', 'Hoàng Minh Phúc', 'Nguyễn Văn Lực',\n",
       "       'Hoàng Duyên', 'Lê Diện', 'Lê Văn Phú', 'Nguyễn Văn Tịnh',\n",
       "       'Trần Đỗ Linh', 'Đào Hứa Phương Thảo', 'Lê Trang',\n",
       "       'Võ Nguyên Thịnh', 'Phạm Hồng Cương', 'Thiên Ân',\n",
       "       'Phạm Thị Thanh Cẩm', 'Hoàng Bá Quyết', 'Trương Bảo Vũ',\n",
       "       'Lê Châu Cường', 'Hoàng Văn Hoàn', 'Nguyễn Tuyết',\n",
       "       'Cao Thành Danh', 'Anh Thương Land', 'Nhà Đất', 'ĐìNh ĐứC',\n",
       "       'Cái Viết Hải', 'Nguyễn Thị Kim Phụng', 'Vũ Xuân Dương',\n",
       "       'Hoang Nguyễn Vũ', 'Nguyễn Nguyên', 'Nguyễn Ngọc Truyền',\n",
       "       'Nguyễn Bình Minh', 'Nguyễn Văn Hoàn Tùng',\n",
       "       'Công Ty Bất Động Sản Anh Thương Land', 'Khánh', 'Gấu Mập',\n",
       "       'Đàm Đức Chính', 'Phương Bùi', 'Nguyễn Thạch Hãn',\n",
       "       'Nguyễn Thành Tài', 'Quảng Môn', 'Văn Lực', 'Nguyen Van Luc',\n",
       "       'Nhà Đất Chính Chủ', 'Trương Vũ Li Na', 'Yên Nguyễn',\n",
       "       'Đặng Thị Lan', 'Trần Đức Huy', 'Đỗ Thị Ngọc Nhung',\n",
       "       'Đặng Công Khôi', 'Lê Đức Phương', 'Phạm Quang Lâm', 'Ân Phạm',\n",
       "       'Lê Văn Thạnh', 'Trần Chỉnh', 'Minh Hùng', 'Đỗ Minh Thành',\n",
       "       'Thanh Thanh', 'Thành Tca', 'Hồ Thiên Vũ Anh Ka', 'Nguyễn',\n",
       "       'Huỳnh Tấn Nhật', 'Nguyễn Minh Nhật', 'Hiếu Nguyễn',\n",
       "       'Lê Thị Tuyết', 'Mai Đinh Nguyên', 'Phan Thị Phương', 'Ms Hồng',\n",
       "       'Quỳnh Trang', 'Ms Nghĩa', 'Nguyễn Phát', 'Trần Nguyễn Ý Trang',\n",
       "       'Hà', 'Le Hùng', 'Lưu Ánh Sáng', 'Minh Trần',\n",
       "       'Trương Thị Ngọc Lan', 'Nguyễn Văn Kin', 'Huyên',\n",
       "       'Nguyễn Văn Tuấn', 'Quang Vinh', 'Thế Anh', 'Anh Kính', 'Anh Chín',\n",
       "       'Anh Lý', 'Anh Bi', 'Đoàn Ngọc Vinh', 'Trần Dư', 'Anh Thư',\n",
       "       'Nguyễn Thị Bảo Ngọc', 'Trần Ngọc Châu', 'Dung', 'Mr. Cần',\n",
       "       'Phạm Tấn Tiến', 'Đoàn Thanh Vĩnh', 'Lê Thanh Việt', 'Thiện',\n",
       "       'Lê Thị Thu Trang', 'Công Bình', 'Nguyễn Trà Giang', 'Lê Hữu Hiền',\n",
       "       'Huỳnh Quốc Ý', 'Trần Văn Khánh', 'Le Phương Nam',\n",
       "       'Nguyễn Thị Tú Trinh', 'Hoàng Nhật Tiên', 'Kim Tuấn', 'Tuyến',\n",
       "       'Trần Việt Tuấn', 'Phan Nguyễn Hữu Phước', 'Nguyễn Văn Thanh',\n",
       "       'Nguyễn Thị Hiền', 'Kiều Đức Land', 'Tạ Công Triêu', 'Hồ Đức Land',\n",
       "       'Đinh Công Bình', 'Hứa Thế Anh', 'Mr Dũng', 'Trần Thanh Vương',\n",
       "       'Hoàng Lê', 'Võ Anh Trí', 'Sơn Chấn Land', 'Phạm Trung Dũng',\n",
       "       'Trương Long', 'Minh Đức', 'Tây', 'Nguyễn Hữu Lành', 'Thủy Nguyễn',\n",
       "       'Nguyễn Văn Thuyền', 'Lê Thanh Ngộ', 'Nguyễn Ngọc Trung',\n",
       "       'Mr.Quang', 'Trần Viết Thành Đạt', 'Đinh Nhật Nam', 'Nguyễn Hằng',\n",
       "       'Đặng Văn Tạo', 'Trương Quang Linh', 'Trần Tỉnh',\n",
       "       'Ngô Tiểu Linh Đồng', 'Kiều', 'Đặng Thị Mỹ Linh', 'Văn Huy',\n",
       "       'Chị Hằng', 'Hoàng Bảo Phượng', 'Huy Lữ', 'Võ Văn Quốc Minh',\n",
       "       'Thanh Kim Huệ', 'Đinh Văn Thành', 'Trinh Trinh',\n",
       "       'Phạm Trung Đông', 'Nguyễn Hồng Loan', 'Nguyễn Công Hậu',\n",
       "       'Phạm Ngọc Long', 'Lê Văn Nam', 'Trần Minh Phụng',\n",
       "       'Đinh Công Tiến Luật', 'Nguyễn Văn Ba', 'Châu', 'Phan Thị Kiều',\n",
       "       'Trần Thị Như Hòa', 'Huỳnh Thị Cẩm Nhung', 'Võ Văn Huy', 'Anh Vũ',\n",
       "       'Nguyễn Xuân Trường', 'Nguyễn Thu Hà', 'Mai Van Binh',\n",
       "       'Nguyễn Văn Thành Đạt', 'Công Ty Nhà Đất Tứ Chiến', 'Đặng Thủy',\n",
       "       'Thảo Lê', 'Trần Đình An', 'Phạm Thảo', 'Tấn Phú',\n",
       "       'Nguyễn Thuý Loan', 'Thương', 'Kim Phụng Land', 'Nguyễn Hữu Thọ',\n",
       "       'Hoàng Thùy', 'Ngọc Hường', 'Nguyễn Minh Thắng',\n",
       "       'Nguyễn Thành Long', 'Thanh Thùy', 'Ngô Thị Bích Nhạn',\n",
       "       'Nguyencongthanh', 'Nguyễn Đắc Hoàng Long', 'Đặng Hoàng Huy',\n",
       "       'Phan Huy Tuấn', 'Phan Huytuấn', 'Tường Vy', 'Nguyễn Trung Trực',\n",
       "       'Nguyễn Minh Cường', 'Phuocnguyen', 'Phước Nguyên',\n",
       "       'Nguyễn Đức Sơn', 'Nguyễn Quang Triều', 'Lê  Anh Tú',\n",
       "       'Phan Văn Lĩnh', 'Nguyễn Anh Đài', 'Trần Văn Hậu', 'A Thương Land'],\n",
       "      dtype=object)"
      ]
     },
     "execution_count": 53,
     "metadata": {},
     "output_type": "execute_result"
    }
   ],
   "source": [
    "df['Liên hệ'].unique()"
   ]
  },
  {
   "cell_type": "markdown",
   "id": "199764c0",
   "metadata": {},
   "source": [
    "# Mô tả"
   ]
  },
  {
   "cell_type": "code",
   "execution_count": 54,
   "id": "b4272365",
   "metadata": {},
   "outputs": [
    {
     "data": {
      "text/plain": [
       "array(['Nhà đẹp, view biển, 4 tầng, 9 phòng ngủ, khu vực an. ninh, thích hợp cho việc kinh doanh khách sạn, nhà nghỉ.Diện Tích 125m2 (5x25)Vị trí nằm Sát Công Viên Nguyễn Tất Thành Hà Huy Tập. Khu kinh doanh nhà hàng, khách sạn sầm uất... View biển rất đẹp.-- Đường trước nhà: 30 m, vỉa hè: 10 m.-Giá bán 11,5 Tỷ Còn Thương lượngnhà mới xây kiên cốThu nhập 20tr/1thangLiên Hệ E hậu',\n",
       "       '+ Bán lô góc 3 mặt tiền 3 đường 7m5 Nguyễn Phong Sắc, phường Khuê Trung, quận Cẩm Lệ, Đà Nẵng.+ Diện tích: 160m2, ngang (9m6x17,9m). Đường 7m5, lề 4m. Hướng Đông + Bắc.+ Vị trí nằm khu vực 2 mặt tiền đều là đường 7m5 thông thoáng, kẹp đường bê tông 6m bên hông, thành thế 3 mặt tiền cực thông thoáng. Ngay khu Xô viết Nghệ tĩnh tập trung hành chính công và Nguyễn Hữu Thọ khu văn phòng+ Gia đình cần tiền mặt bán nhanh 10 tỷLàm Việc Chính Chủ Liên Hệ E Hậu',\n",
       "       '🌺🌺Nhà sân vườn biệt thự 3 tầng mới xây, đường Tô Hiệu gần Bến Xe TT Đà Nẵng- Diện tích đất thực tế : 150m- Diện tích đất trong sổ : 122m- Bonus thêm 1 lô đất trống 220m free Trồng Cây, Trồng Rau, Nuôi Gà phía sau nhà - Sân vườn rộng rãi thoáng mát- Có 3 phòng ngủ, 3wc, 1 thờ- Hướng tây nam, kiệt 2,5m- Tặng kèm nội thất vô ở liền - Giá bán: 3 tỷ  2xx.☎Call/zalo: ❤️ Hiền lvcc',\n",
       "       ...,\n",
       "       'Bán đất đường Lê Ấm, hòa xuân - Cẩm Lệ- Diện tích: 100 m2(5x20)- Hướng: Đông Nam- Đường:  7m5 lề 4m- Giá Bán:  3.55 tỷ có TLLô đất gần đường Diên hồng. Sạch đẹp không cống trụ\"Pháp Lý: Sổ đỏ sẵn sàng công chứng ngay-Liên hệ: Thiện để đi xem đất làm việc chính chủ-Nhận thiết kế thi công, Nhà-Biệt thự trọn gói-Xin cảm ơn\"',\n",
       "       'Cần Bán Nhà 2 Tầng NGUYỄN CHÍ DIỄU Đường 7m5 - DT 75m Vị Trí  Kinh Doanh sầm uất Ngay Chợ An Hải Bắc : 3PN - 2Wc Giá cũ 6tỷ4 - giờ gia đình cần bán gấp 4tỷ650 Còn thương lượng A/c xem nhà ok gặp chu TL giá',\n",
       "       '✅ Vị trí : Mặt tiền Lê Trọng Tấn kinh doanh sầm uất. Phù hợp vừa ở vừa kinh doanh hiệu quả.✅Tiện ích : Khu đông dân cư tiện ích bao la, gần chợ Tân An, trường học các cấp..✅Kết cấu : Nhà 3 tầng chủ tự xây kiên cố. Với dt 60m2, ngang 6m. Công năng đầy đủ.✅ Pháp lý : Sổ hồng chính chủ, sẵn sàng giao dịch.👉Thiện chí bán nhanh, giảm giá kịch sàn. Đầu tư tốt.💥 Chỉ nhỉnh 4 Tỷ. Vào ở và buôn bán ngay.📞📞Đăng Nhà Phố để xem nhà.'],\n",
       "      dtype=object)"
      ]
     },
     "execution_count": 54,
     "metadata": {},
     "output_type": "execute_result"
    }
   ],
   "source": [
    "df['Mô tả'].unique()"
   ]
  },
  {
   "cell_type": "markdown",
   "id": "569a1c03",
   "metadata": {},
   "source": [
    "# Thuộc dự án"
   ]
  },
  {
   "cell_type": "code",
   "execution_count": 55,
   "id": "25899f6b",
   "metadata": {},
   "outputs": [
    {
     "data": {
      "text/plain": [
       "array([nan,\n",
       "       'Căn hộ chung cư Sun Cosmo Residence Đà Nẵng (xem chi tiết dự án)',\n",
       "       'Khu biệt thự Euro Village 2 (xem chi tiết dự án)',\n",
       "       'Khu đô thị mới Nam Việt Á (Nam Cầu Tuyên Sơn) (xem chi tiết dự án)',\n",
       "       'Khu đô thị mới FPT City Đà Nẵng (xem chi tiết dự án)',\n",
       "       'Căn hộ chung cư FPT Plaza 2 (xem chi tiết dự án)',\n",
       "       'Khu dân cư 387 (xem chi tiết dự án)',\n",
       "       'Khu đô thị mới B.Ocean (xem chi tiết dự án)',\n",
       "       'Căn hộ chung cư Nhà ở xã hội Khu công nghiệp Hòa Khánh (xem chi tiết dự án)',\n",
       "       'Khu biệt thự Euro village Đà Nẵng (xem chi tiết dự án)',\n",
       "       'Căn hộ chung cư FPT Plaza (xem chi tiết dự án)',\n",
       "       'Khu đô thị mới Khu đô thị sinh thái Hoà Xuân (xem chi tiết dự án)',\n",
       "       'Căn hộ chung cư F.Home (xem chi tiết dự án)',\n",
       "       'Căn hộ chung cư Blue House (xem chi tiết dự án)',\n",
       "       'Căn hộ chung cư Nest Home (xem chi tiết dự án)',\n",
       "       'Khu đô thị mới Phương Trang - Vịnh Đà Nẵng (Marina Bay Luxury) (xem chi tiết dự án)',\n",
       "       'Khu biệt thự Furama Villas (xem chi tiết dự án)',\n",
       "       'Khu dân cư Làng Châu Âu - Euro Village (xem chi tiết dự án)',\n",
       "       'Khu dân cư Nam cầu Trần Thị Lý (xem chi tiết dự án)',\n",
       "       'Khu dân cư Trần Hưng Đạo (xem chi tiết dự án)',\n",
       "       'Khu dân cư Nguyễn Tất Thành (xem chi tiết dự án)',\n",
       "       'Khu đô thị mới Harbour Ville Riverside (xem chi tiết dự án)',\n",
       "       'Khu dân cư Diamond Sea Thuận Phước (xem chi tiết dự án)',\n",
       "       'Khu đô thị mới Hoà Xuân - Dream Home (xem chi tiết dự án)',\n",
       "       'Khu đô thị mới Lakeside Palace (xem chi tiết dự án)',\n",
       "       'Khu dân cư Nhà máy cao su (xem chi tiết dự án)',\n",
       "       'Căn hộ chung cư Mường Thanh Luxury (xem chi tiết dự án)',\n",
       "       'Khu đô thị mới Kim Long Nam City (Kim Long City) (xem chi tiết dự án)',\n",
       "       'Khu biệt thự Đảo Xanh (xem chi tiết dự án)',\n",
       "       'Khu đô thị mới Hòa Quý City (xem chi tiết dự án)',\n",
       "       'Khu đô thị mới Eco Charm - Eco River Park (xem chi tiết dự án)',\n",
       "       'Khu đô thị mới Bàu Tràm Lakeside Palace (xem chi tiết dự án)',\n",
       "       'Căn hộ chung cư The 6Nature Da Nang (Premier Sky Residences) (xem chi tiết dự án)',\n",
       "       'Khu đô thị mới Nam Hoà Xuân (xem chi tiết dự án)',\n",
       "       'Căn hộ chung cư Hiyori Garden (xem chi tiết dự án)',\n",
       "       'Nhà phố Regal Pavillon Đà Nẵng (xem chi tiết dự án)',\n",
       "       'Căn hộ chung cư Vicoland Hải Châu (xem chi tiết dự án)',\n",
       "       'Khu đô thị mới Halla Jade Residences (xem chi tiết dự án)',\n",
       "       'Khu đô thị mới Hòa Quý Riverside (xem chi tiết dự án)',\n",
       "       'Khu dân cư Tân Trà (xem chi tiết dự án)',\n",
       "       'Căn hộ chung cư Hoàng Anh Gia Lai (xem chi tiết dự án)',\n",
       "       'Khu đô thị mới Nguyễn Sinh Sắc (xem chi tiết dự án)',\n",
       "       'Khu đô thị mới Saphia Complex (xem chi tiết dự án)',\n",
       "       'Khu đô thị mới Phúc Lộc Viên (xem chi tiết dự án)',\n",
       "       'Khu dân cư Trung Nghĩa (xem chi tiết dự án)',\n",
       "       'Căn hộ chung cư Four Point by Sheraton & Luxury Apartment (xem chi tiết dự án)',\n",
       "       'Khu phức hợp The Monarchy (xem chi tiết dự án)',\n",
       "       'Khu đô thị mới Phố Sơn Thủy (xem chi tiết dự án)',\n",
       "       'Căn hộ chung cư Mường Thanh Sơn Trà (xem chi tiết dự án)',\n",
       "       'Khu đô thị mới Phước Lý (xem chi tiết dự án)',\n",
       "       'Khu dân cư Nam Cầu Cẩm Lệ (xem chi tiết dự án)',\n",
       "       'Khu đô thị mới Marina Complex (xem chi tiết dự án)',\n",
       "       'Khu đô thị mới Phú Mỹ An (xem chi tiết dự án)',\n",
       "       'Căn hộ chung cư The Ori Garden Đà Nẵng (xem chi tiết dự án)',\n",
       "       'Căn hộ chung cư Seaview Tower  - The Ori Garden Đà Nẵng (xem chi tiết dự án)',\n",
       "       'Khu đô thị mới (Dragon City Park) Dragon Smart City (xem chi tiết dự án)',\n",
       "       'Căn hộ chung cư The Filmore Da Nang (xem chi tiết dự án)',\n",
       "       'Căn hộ dịch vụ Altara Suites (xem chi tiết dự án)',\n",
       "       'Khu đô thị mới Han River Village (xem chi tiết dự án)',\n",
       "       'Khu đô thị mới Yên Thế Bắc Sơn (xem chi tiết dự án)',\n",
       "       'Căn hộ chung cư Alacarte Đà Nẵng (xem chi tiết dự án)',\n",
       "       'Căn hộ chung cư The Sang Residence (xem chi tiết dự án)',\n",
       "       'Căn hộ chung cư Furama Condotel Đà Nẵng (xem chi tiết dự án)',\n",
       "       'Khu đô thị mới Đà Nẵng Pearl (xem chi tiết dự án)',\n",
       "       'Khu biệt thự One River Villas (xem chi tiết dự án)',\n",
       "       'Khu đô thị mới Hòa Khánh Residence (xem chi tiết dự án)',\n",
       "       'Khu đô thị mới Nam cầu Nguyễn Tri Phương (xem chi tiết dự án)',\n",
       "       'Căn hộ dịch vụ Oceanviews Apartment Hotel (xem chi tiết dự án)',\n",
       "       'Căn hộ chung cư Fusion Suites Danang Beach (xem chi tiết dự án)',\n",
       "       'Căn hộ chung cư Shizen Nami (xem chi tiết dự án)',\n",
       "       'Căn hộ chung cư Nam cầu Trần Thị Lý (xem chi tiết dự án)',\n",
       "       'Khu đô thị mới Golden Hills City (xem chi tiết dự án)'],\n",
       "      dtype=object)"
      ]
     },
     "execution_count": 55,
     "metadata": {},
     "output_type": "execute_result"
    }
   ],
   "source": [
    "df['Thuộc dự án'].unique()"
   ]
  },
  {
   "cell_type": "code",
   "execution_count": 56,
   "id": "e7d64798",
   "metadata": {},
   "outputs": [],
   "source": [
    "df['Thuộc dự án']=df['Thuộc dự án'].apply(lambda x: str(x).replace(' (xem chi tiết dự án)',''))"
   ]
  },
  {
   "cell_type": "markdown",
   "id": "78bf533f",
   "metadata": {},
   "source": [
    "# Rename columns"
   ]
  },
  {
   "cell_type": "code",
   "execution_count": 57,
   "id": "d66d35a7",
   "metadata": {},
   "outputs": [
    {
     "data": {
      "text/plain": [
       "Index(['post_id', 'Loại tin', 'Tiêu đề', 'Mô tả', 'Giá:', 'Diện tích:',\n",
       "       'Địa chỉ', 'Mã tin', 'Hướng', 'Phòng ăn', 'Đường trước nhà', 'Nhà bếp',\n",
       "       'Loại BDS', 'Pháp lý', 'Sân thượng', 'Chiều ngang', 'Số lầu',\n",
       "       'Chổ để xe hơi', 'Chiều dài', 'Số phòng ngủ', 'Chính chủ', 'URL',\n",
       "       'date', 'Liên hệ', 'phone', 'Thuộc dự án', 'Giá/m2'],\n",
       "      dtype='object')"
      ]
     },
     "execution_count": 57,
     "metadata": {},
     "output_type": "execute_result"
    }
   ],
   "source": [
    "df.columns"
   ]
  },
  {
   "cell_type": "code",
   "execution_count": 58,
   "id": "73c1f843",
   "metadata": {},
   "outputs": [],
   "source": [
    "df=df.rename(columns={'Hướng':'Hướng nhà','Liên hệ':'Tên người dùng','Diện tích:':'Diện tích','Giá:':'Giá','phone':'Liên hệ','date':'Ngày crawl'})"
   ]
  },
  {
   "cell_type": "markdown",
   "id": "234ae100",
   "metadata": {},
   "source": [
    "# Save data"
   ]
  },
  {
   "cell_type": "code",
   "execution_count": 59,
   "id": "b3aa5be8",
   "metadata": {},
   "outputs": [
    {
     "data": {
      "text/html": [
       "<div>\n",
       "<style scoped>\n",
       "    .dataframe tbody tr th:only-of-type {\n",
       "        vertical-align: middle;\n",
       "    }\n",
       "\n",
       "    .dataframe tbody tr th {\n",
       "        vertical-align: top;\n",
       "    }\n",
       "\n",
       "    .dataframe thead th {\n",
       "        text-align: right;\n",
       "    }\n",
       "</style>\n",
       "<table border=\"1\" class=\"dataframe\">\n",
       "  <thead>\n",
       "    <tr style=\"text-align: right;\">\n",
       "      <th></th>\n",
       "      <th>post_id</th>\n",
       "      <th>Loại tin</th>\n",
       "      <th>Tiêu đề</th>\n",
       "      <th>Mô tả</th>\n",
       "      <th>Giá</th>\n",
       "      <th>Diện tích</th>\n",
       "      <th>Địa chỉ</th>\n",
       "      <th>Mã tin</th>\n",
       "      <th>Hướng nhà</th>\n",
       "      <th>Phòng ăn</th>\n",
       "      <th>...</th>\n",
       "      <th>Chổ để xe hơi</th>\n",
       "      <th>Chiều dài</th>\n",
       "      <th>Số phòng ngủ</th>\n",
       "      <th>Chính chủ</th>\n",
       "      <th>URL</th>\n",
       "      <th>Ngày crawl</th>\n",
       "      <th>Tên người dùng</th>\n",
       "      <th>Liên hệ</th>\n",
       "      <th>Thuộc dự án</th>\n",
       "      <th>Giá/m2</th>\n",
       "    </tr>\n",
       "  </thead>\n",
       "  <tbody>\n",
       "    <tr>\n",
       "      <th>0</th>\n",
       "      <td>13131558</td>\n",
       "      <td>Mua bán</td>\n",
       "      <td>Bán Nhà Đẹp VIEW Biển NGUYỄN TẤT THÀNH 4 Tầng ...</td>\n",
       "      <td>Nhà đẹp, view biển, 4 tầng, 9 phòng ngủ, khu v...</td>\n",
       "      <td>1.145000e+10</td>\n",
       "      <td>125.0</td>\n",
       "      <td>Đường Nguyễn Tất Thành, Phường Xuân Hà, Quận T...</td>\n",
       "      <td>13131558</td>\n",
       "      <td>NaN</td>\n",
       "      <td>Có</td>\n",
       "      <td>...</td>\n",
       "      <td>Có</td>\n",
       "      <td>25.0</td>\n",
       "      <td>9.0</td>\n",
       "      <td>NaN</td>\n",
       "      <td>https://alonhadat.com.vn//ban-nha-dep-view-bie...</td>\n",
       "      <td>2023-10-02</td>\n",
       "      <td>Trần Trung Hậu</td>\n",
       "      <td>0702 446 393  /  0931 949 123</td>\n",
       "      <td>nan</td>\n",
       "      <td>9.160000e+07</td>\n",
       "    </tr>\n",
       "    <tr>\n",
       "      <th>1</th>\n",
       "      <td>13456587</td>\n",
       "      <td>Mua bán</td>\n",
       "      <td>Góc 3 Mặt Tiền Nguyễn Phong Sắc 3 Đường 7m5 VỊ...</td>\n",
       "      <td>+ Bán lô góc 3 mặt tiền 3 đường 7m5 Nguyễn Pho...</td>\n",
       "      <td>9.999000e+09</td>\n",
       "      <td>160.0</td>\n",
       "      <td>Đường Nguyễn Phong Sắc, Phường Khuê Trung, Quậ...</td>\n",
       "      <td>13456587</td>\n",
       "      <td>NaN</td>\n",
       "      <td>Có</td>\n",
       "      <td>...</td>\n",
       "      <td>Có</td>\n",
       "      <td>18.0</td>\n",
       "      <td>1.0</td>\n",
       "      <td>NaN</td>\n",
       "      <td>https://alonhadat.com.vn//ban-lo-goc-3-mat-tie...</td>\n",
       "      <td>2023-10-02</td>\n",
       "      <td>Trần Trung Hậu</td>\n",
       "      <td>0702 446 393  /  0931 949 123</td>\n",
       "      <td>nan</td>\n",
       "      <td>6.249375e+07</td>\n",
       "    </tr>\n",
       "    <tr>\n",
       "      <th>2</th>\n",
       "      <td>13467139</td>\n",
       "      <td>Mua bán</td>\n",
       "      <td>BÁN BIỆT THỰ SÂN VƯỜN 150M2 KIỆT TÔ HIỆU lh Hiền</td>\n",
       "      <td>🌺🌺Nhà sân vườn biệt thự 3 tầng mới xây, đường ...</td>\n",
       "      <td>3.250000e+09</td>\n",
       "      <td>150.0</td>\n",
       "      <td>Đường Tô Hiệu, Phường Hòa Minh, Quận Liên Chiể...</td>\n",
       "      <td>13467139</td>\n",
       "      <td>NaN</td>\n",
       "      <td>Có</td>\n",
       "      <td>...</td>\n",
       "      <td>NaN</td>\n",
       "      <td>NaN</td>\n",
       "      <td>3.0</td>\n",
       "      <td>NaN</td>\n",
       "      <td>https://alonhadat.com.vn//ban-biet-thu-san-vuo...</td>\n",
       "      <td>2023-10-02</td>\n",
       "      <td>Hiền Hiền</td>\n",
       "      <td>0777 363 036  /  0905 269 343</td>\n",
       "      <td>nan</td>\n",
       "      <td>2.166667e+07</td>\n",
       "    </tr>\n",
       "    <tr>\n",
       "      <th>3</th>\n",
       "      <td>12734876</td>\n",
       "      <td>Mua bán</td>\n",
       "      <td>Bán khách sạn 2mt Đống Đa, Lý Tự Trọng, dtd: 2...</td>\n",
       "      <td>Bán toà nhà khách sạn hai mặt tiền Đống Đa,Lý ...</td>\n",
       "      <td>7.200000e+10</td>\n",
       "      <td>2300.0</td>\n",
       "      <td>191 Đường Đống Đa, Phường Thạch Thang, Quận Hả...</td>\n",
       "      <td>12734876</td>\n",
       "      <td>Tây Nam</td>\n",
       "      <td>NaN</td>\n",
       "      <td>...</td>\n",
       "      <td>NaN</td>\n",
       "      <td>24.0</td>\n",
       "      <td>50.0</td>\n",
       "      <td>NaN</td>\n",
       "      <td>https://alonhadat.com.vn//ban-toa-nha-2mt-dong...</td>\n",
       "      <td>2023-10-02</td>\n",
       "      <td>Quốc</td>\n",
       "      <td>0903 548 978</td>\n",
       "      <td>nan</td>\n",
       "      <td>3.130435e+07</td>\n",
       "    </tr>\n",
       "    <tr>\n",
       "      <th>4</th>\n",
       "      <td>13472701</td>\n",
       "      <td>Mua bán</td>\n",
       "      <td>Lê Thị Xuyến đường 5m5 Dt= 63m2 kẹp kiệt 2 tần...</td>\n",
       "      <td>Hàng hiếm.Lê Thị Xuyến đường 5m5 Dt= 63m2 kẹp ...</td>\n",
       "      <td>4.700000e+09</td>\n",
       "      <td>63.0</td>\n",
       "      <td>Đường Lê Thị Xuyến, Phường Xuân Hà, Quận Thanh...</td>\n",
       "      <td>13472701</td>\n",
       "      <td>Bắc</td>\n",
       "      <td>Có</td>\n",
       "      <td>...</td>\n",
       "      <td>Có</td>\n",
       "      <td>16.0</td>\n",
       "      <td>3.0</td>\n",
       "      <td>NaN</td>\n",
       "      <td>https://alonhadat.com.vn//le-thi-xuyen-duong-5...</td>\n",
       "      <td>2023-10-02</td>\n",
       "      <td>Nguyễn Ái</td>\n",
       "      <td>0935 282 118</td>\n",
       "      <td>nan</td>\n",
       "      <td>7.460317e+07</td>\n",
       "    </tr>\n",
       "    <tr>\n",
       "      <th>...</th>\n",
       "      <td>...</td>\n",
       "      <td>...</td>\n",
       "      <td>...</td>\n",
       "      <td>...</td>\n",
       "      <td>...</td>\n",
       "      <td>...</td>\n",
       "      <td>...</td>\n",
       "      <td>...</td>\n",
       "      <td>...</td>\n",
       "      <td>...</td>\n",
       "      <td>...</td>\n",
       "      <td>...</td>\n",
       "      <td>...</td>\n",
       "      <td>...</td>\n",
       "      <td>...</td>\n",
       "      <td>...</td>\n",
       "      <td>...</td>\n",
       "      <td>...</td>\n",
       "      <td>...</td>\n",
       "      <td>...</td>\n",
       "      <td>...</td>\n",
       "    </tr>\n",
       "    <tr>\n",
       "      <th>8037</th>\n",
       "      <td>13547701</td>\n",
       "      <td>Mua bán</td>\n",
       "      <td>Bán gấp lô đất sát biển MT đường Nguyễn Trọng ...</td>\n",
       "      <td>Bán lô đất biển mặt tiền đường Nguyễn Trọng Ng...</td>\n",
       "      <td>5.000000e+09</td>\n",
       "      <td>90.0</td>\n",
       "      <td>Đường Nguyễn Trọng Nghĩa, Phường Mân Thái, Quậ...</td>\n",
       "      <td>13547701</td>\n",
       "      <td>Đông</td>\n",
       "      <td>NaN</td>\n",
       "      <td>...</td>\n",
       "      <td>NaN</td>\n",
       "      <td>18.0</td>\n",
       "      <td>NaN</td>\n",
       "      <td>NaN</td>\n",
       "      <td>https://alonhadat.com.vn//ban-gap-lo-dat-sat-b...</td>\n",
       "      <td>2023-10-18</td>\n",
       "      <td>Hồng Nga</td>\n",
       "      <td>0905 919 960</td>\n",
       "      <td>nan</td>\n",
       "      <td>5.555556e+07</td>\n",
       "    </tr>\n",
       "    <tr>\n",
       "      <th>8038</th>\n",
       "      <td>13233191</td>\n",
       "      <td>Mua bán</td>\n",
       "      <td>💥💥 DANH SÁCH CÁC TOÀ CĂN HỘ BIỂN ĐÀ NẴNG – DÒN...</td>\n",
       "      <td>💥💥 DANH SÁCH CÁC TOÀ CĂN HỘ BIỂN ĐÀ NẴNG – DÒN...</td>\n",
       "      <td>1.200000e+10</td>\n",
       "      <td>150.0</td>\n",
       "      <td>Đường Nguyễn Văn Thoại, Phường An Hải Đông, Qu...</td>\n",
       "      <td>13233191</td>\n",
       "      <td>Đông</td>\n",
       "      <td>NaN</td>\n",
       "      <td>...</td>\n",
       "      <td>NaN</td>\n",
       "      <td>30.0</td>\n",
       "      <td>NaN</td>\n",
       "      <td>NaN</td>\n",
       "      <td>https://alonhadat.com.vn//-danh-sach-cac-toa-c...</td>\n",
       "      <td>2023-10-18</td>\n",
       "      <td>Quốc Bảo</td>\n",
       "      <td>0914 342 000</td>\n",
       "      <td>nan</td>\n",
       "      <td>8.000000e+07</td>\n",
       "    </tr>\n",
       "    <tr>\n",
       "      <th>8039</th>\n",
       "      <td>13546882</td>\n",
       "      <td>Mua bán</td>\n",
       "      <td>Bán đất đường lê ấm hoà xuân cẩm lệ. Hướng đôn...</td>\n",
       "      <td>Bán đất đường Lê Ấm, hòa xuân - Cẩm Lệ- Diện t...</td>\n",
       "      <td>3.550000e+09</td>\n",
       "      <td>100.0</td>\n",
       "      <td>Đường Lê Ấm, Phường Hòa Xuân, Quận Cẩm Lệ, Đà ...</td>\n",
       "      <td>13546882</td>\n",
       "      <td>Đông Nam</td>\n",
       "      <td>NaN</td>\n",
       "      <td>...</td>\n",
       "      <td>NaN</td>\n",
       "      <td>20.0</td>\n",
       "      <td>NaN</td>\n",
       "      <td>NaN</td>\n",
       "      <td>https://alonhadat.com.vn//ban-dat-duong-le-am-...</td>\n",
       "      <td>2023-10-18</td>\n",
       "      <td>Hà Thiện</td>\n",
       "      <td>0935 155 829</td>\n",
       "      <td>nan</td>\n",
       "      <td>3.550000e+07</td>\n",
       "    </tr>\n",
       "    <tr>\n",
       "      <th>8040</th>\n",
       "      <td>13535617</td>\n",
       "      <td>Mua bán</td>\n",
       "      <td>❌ Cần Bán Nhà 2 Tầng Nguyễn chí Diễu - DT 75m ...</td>\n",
       "      <td>Cần Bán Nhà 2 Tầng NGUYỄN CHÍ DIỄU Đường 7m5 -...</td>\n",
       "      <td>4.650000e+09</td>\n",
       "      <td>75.0</td>\n",
       "      <td>Đường Nguyễn Chí Diễu, Phường An Hải Bắc, Quận...</td>\n",
       "      <td>13535617</td>\n",
       "      <td>NaN</td>\n",
       "      <td>NaN</td>\n",
       "      <td>...</td>\n",
       "      <td>NaN</td>\n",
       "      <td>NaN</td>\n",
       "      <td>3.0</td>\n",
       "      <td>NaN</td>\n",
       "      <td>https://alonhadat.com.vn//-can-ban-nha-2-tang-...</td>\n",
       "      <td>2023-10-18</td>\n",
       "      <td>A Thương Land</td>\n",
       "      <td>0931 903 776</td>\n",
       "      <td>nan</td>\n",
       "      <td>6.200000e+07</td>\n",
       "    </tr>\n",
       "    <tr>\n",
       "      <th>8041</th>\n",
       "      <td>12815424</td>\n",
       "      <td>Mua bán</td>\n",
       "      <td>BÁN GẤP NHÀ 3 TẦNG. MẶT TIỀN LÊ TRỌNG TẤN- CẨM...</td>\n",
       "      <td>✅ Vị trí : Mặt tiền Lê Trọng Tấn kinh doanh sầ...</td>\n",
       "      <td>5.000000e+09</td>\n",
       "      <td>57.0</td>\n",
       "      <td>Đường Lê Trọng Tấn, Phường Hòa Phát, Quận Cẩm ...</td>\n",
       "      <td>12815424</td>\n",
       "      <td>NaN</td>\n",
       "      <td>Có</td>\n",
       "      <td>...</td>\n",
       "      <td>Có</td>\n",
       "      <td>10.0</td>\n",
       "      <td>3.0</td>\n",
       "      <td>NaN</td>\n",
       "      <td>https://alonhadat.com.vn//ban-gap-nha-3-tang-m...</td>\n",
       "      <td>2023-10-18</td>\n",
       "      <td>Nguyễn Hải Đăng</td>\n",
       "      <td>0961 263 928</td>\n",
       "      <td>nan</td>\n",
       "      <td>8.771930e+07</td>\n",
       "    </tr>\n",
       "  </tbody>\n",
       "</table>\n",
       "<p>8042 rows × 27 columns</p>\n",
       "</div>"
      ],
      "text/plain": [
       "       post_id Loại tin                                            Tiêu đề  \\\n",
       "0     13131558  Mua bán  Bán Nhà Đẹp VIEW Biển NGUYỄN TẤT THÀNH 4 Tầng ...   \n",
       "1     13456587  Mua bán  Góc 3 Mặt Tiền Nguyễn Phong Sắc 3 Đường 7m5 VỊ...   \n",
       "2     13467139  Mua bán   BÁN BIỆT THỰ SÂN VƯỜN 150M2 KIỆT TÔ HIỆU lh Hiền   \n",
       "3     12734876  Mua bán  Bán khách sạn 2mt Đống Đa, Lý Tự Trọng, dtd: 2...   \n",
       "4     13472701  Mua bán  Lê Thị Xuyến đường 5m5 Dt= 63m2 kẹp kiệt 2 tần...   \n",
       "...        ...      ...                                                ...   \n",
       "8037  13547701  Mua bán  Bán gấp lô đất sát biển MT đường Nguyễn Trọng ...   \n",
       "8038  13233191  Mua bán  💥💥 DANH SÁCH CÁC TOÀ CĂN HỘ BIỂN ĐÀ NẴNG – DÒN...   \n",
       "8039  13546882  Mua bán  Bán đất đường lê ấm hoà xuân cẩm lệ. Hướng đôn...   \n",
       "8040  13535617  Mua bán  ❌ Cần Bán Nhà 2 Tầng Nguyễn chí Diễu - DT 75m ...   \n",
       "8041  12815424  Mua bán  BÁN GẤP NHÀ 3 TẦNG. MẶT TIỀN LÊ TRỌNG TẤN- CẨM...   \n",
       "\n",
       "                                                  Mô tả           Giá  \\\n",
       "0     Nhà đẹp, view biển, 4 tầng, 9 phòng ngủ, khu v...  1.145000e+10   \n",
       "1     + Bán lô góc 3 mặt tiền 3 đường 7m5 Nguyễn Pho...  9.999000e+09   \n",
       "2     🌺🌺Nhà sân vườn biệt thự 3 tầng mới xây, đường ...  3.250000e+09   \n",
       "3     Bán toà nhà khách sạn hai mặt tiền Đống Đa,Lý ...  7.200000e+10   \n",
       "4     Hàng hiếm.Lê Thị Xuyến đường 5m5 Dt= 63m2 kẹp ...  4.700000e+09   \n",
       "...                                                 ...           ...   \n",
       "8037  Bán lô đất biển mặt tiền đường Nguyễn Trọng Ng...  5.000000e+09   \n",
       "8038  💥💥 DANH SÁCH CÁC TOÀ CĂN HỘ BIỂN ĐÀ NẴNG – DÒN...  1.200000e+10   \n",
       "8039  Bán đất đường Lê Ấm, hòa xuân - Cẩm Lệ- Diện t...  3.550000e+09   \n",
       "8040  Cần Bán Nhà 2 Tầng NGUYỄN CHÍ DIỄU Đường 7m5 -...  4.650000e+09   \n",
       "8041  ✅ Vị trí : Mặt tiền Lê Trọng Tấn kinh doanh sầ...  5.000000e+09   \n",
       "\n",
       "      Diện tích                                            Địa chỉ    Mã tin  \\\n",
       "0         125.0  Đường Nguyễn Tất Thành, Phường Xuân Hà, Quận T...  13131558   \n",
       "1         160.0  Đường Nguyễn Phong Sắc, Phường Khuê Trung, Quậ...  13456587   \n",
       "2         150.0  Đường Tô Hiệu, Phường Hòa Minh, Quận Liên Chiể...  13467139   \n",
       "3        2300.0  191 Đường Đống Đa, Phường Thạch Thang, Quận Hả...  12734876   \n",
       "4          63.0  Đường Lê Thị Xuyến, Phường Xuân Hà, Quận Thanh...  13472701   \n",
       "...         ...                                                ...       ...   \n",
       "8037       90.0  Đường Nguyễn Trọng Nghĩa, Phường Mân Thái, Quậ...  13547701   \n",
       "8038      150.0  Đường Nguyễn Văn Thoại, Phường An Hải Đông, Qu...  13233191   \n",
       "8039      100.0  Đường Lê Ấm, Phường Hòa Xuân, Quận Cẩm Lệ, Đà ...  13546882   \n",
       "8040       75.0  Đường Nguyễn Chí Diễu, Phường An Hải Bắc, Quận...  13535617   \n",
       "8041       57.0  Đường Lê Trọng Tấn, Phường Hòa Phát, Quận Cẩm ...  12815424   \n",
       "\n",
       "     Hướng nhà Phòng ăn  ...  Chổ để xe hơi Chiều dài Số phòng ngủ Chính chủ  \\\n",
       "0          NaN       Có  ...             Có      25.0          9.0       NaN   \n",
       "1          NaN       Có  ...             Có      18.0          1.0       NaN   \n",
       "2          NaN       Có  ...            NaN       NaN          3.0       NaN   \n",
       "3      Tây Nam      NaN  ...            NaN      24.0         50.0       NaN   \n",
       "4          Bắc       Có  ...             Có      16.0          3.0       NaN   \n",
       "...        ...      ...  ...            ...       ...          ...       ...   \n",
       "8037      Đông      NaN  ...            NaN      18.0          NaN       NaN   \n",
       "8038      Đông      NaN  ...            NaN      30.0          NaN       NaN   \n",
       "8039  Đông Nam      NaN  ...            NaN      20.0          NaN       NaN   \n",
       "8040       NaN      NaN  ...            NaN       NaN          3.0       NaN   \n",
       "8041       NaN       Có  ...             Có      10.0          3.0       NaN   \n",
       "\n",
       "                                                    URL  Ngày crawl  \\\n",
       "0     https://alonhadat.com.vn//ban-nha-dep-view-bie...  2023-10-02   \n",
       "1     https://alonhadat.com.vn//ban-lo-goc-3-mat-tie...  2023-10-02   \n",
       "2     https://alonhadat.com.vn//ban-biet-thu-san-vuo...  2023-10-02   \n",
       "3     https://alonhadat.com.vn//ban-toa-nha-2mt-dong...  2023-10-02   \n",
       "4     https://alonhadat.com.vn//le-thi-xuyen-duong-5...  2023-10-02   \n",
       "...                                                 ...         ...   \n",
       "8037  https://alonhadat.com.vn//ban-gap-lo-dat-sat-b...  2023-10-18   \n",
       "8038  https://alonhadat.com.vn//-danh-sach-cac-toa-c...  2023-10-18   \n",
       "8039  https://alonhadat.com.vn//ban-dat-duong-le-am-...  2023-10-18   \n",
       "8040  https://alonhadat.com.vn//-can-ban-nha-2-tang-...  2023-10-18   \n",
       "8041  https://alonhadat.com.vn//ban-gap-nha-3-tang-m...  2023-10-18   \n",
       "\n",
       "       Tên người dùng                        Liên hệ  Thuộc dự án  \\\n",
       "0      Trần Trung Hậu  0702 446 393  /  0931 949 123          nan   \n",
       "1      Trần Trung Hậu  0702 446 393  /  0931 949 123          nan   \n",
       "2           Hiền Hiền  0777 363 036  /  0905 269 343          nan   \n",
       "3                Quốc                   0903 548 978          nan   \n",
       "4           Nguyễn Ái                   0935 282 118          nan   \n",
       "...               ...                            ...          ...   \n",
       "8037         Hồng Nga                   0905 919 960          nan   \n",
       "8038         Quốc Bảo                   0914 342 000          nan   \n",
       "8039         Hà Thiện                   0935 155 829          nan   \n",
       "8040    A Thương Land                   0931 903 776          nan   \n",
       "8041  Nguyễn Hải Đăng                   0961 263 928          nan   \n",
       "\n",
       "            Giá/m2  \n",
       "0     9.160000e+07  \n",
       "1     6.249375e+07  \n",
       "2     2.166667e+07  \n",
       "3     3.130435e+07  \n",
       "4     7.460317e+07  \n",
       "...            ...  \n",
       "8037  5.555556e+07  \n",
       "8038  8.000000e+07  \n",
       "8039  3.550000e+07  \n",
       "8040  6.200000e+07  \n",
       "8041  8.771930e+07  \n",
       "\n",
       "[8042 rows x 27 columns]"
      ]
     },
     "execution_count": 59,
     "metadata": {},
     "output_type": "execute_result"
    }
   ],
   "source": [
    "df"
   ]
  },
  {
   "cell_type": "code",
   "execution_count": 61,
   "id": "7d30b80e",
   "metadata": {},
   "outputs": [],
   "source": [
    "df.to_excel('alo.xlsx')\n",
    "df.to_csv('alo.csv')"
   ]
  },
  {
   "cell_type": "code",
   "execution_count": null,
   "id": "f73d980f",
   "metadata": {},
   "outputs": [],
   "source": []
  }
 ],
 "metadata": {
  "kernelspec": {
   "display_name": "Python 3",
   "language": "python",
   "name": "python3"
  },
  "language_info": {
   "codemirror_mode": {
    "name": "ipython",
    "version": 3
   },
   "file_extension": ".py",
   "mimetype": "text/x-python",
   "name": "python",
   "nbconvert_exporter": "python",
   "pygments_lexer": "ipython3",
   "version": "3.8.2"
  }
 },
 "nbformat": 4,
 "nbformat_minor": 5
}
