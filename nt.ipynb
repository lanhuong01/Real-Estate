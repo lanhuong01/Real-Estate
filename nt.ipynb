{
 "cells": [
  {
   "cell_type": "markdown",
   "id": "93ffe673",
   "metadata": {},
   "source": [
    "# Import library"
   ]
  },
  {
   "cell_type": "code",
   "execution_count": 28,
   "id": "74c9dab0",
   "metadata": {},
   "outputs": [
    {
     "data": {
      "text/plain": [
       "'!\"#$%&\\'()*+,-./:;<=>?@[\\\\]^_`{|}~'"
      ]
     },
     "execution_count": 28,
     "metadata": {},
     "output_type": "execute_result"
    }
   ],
   "source": [
    "import pandas as pd\n",
    "import re\n",
    "import numpy as np\n",
    "\n",
    "#library that contains punctuation\n",
    "import string\n",
    "string.punctuation"
   ]
  },
  {
   "cell_type": "markdown",
   "id": "42ca1bd3",
   "metadata": {},
   "source": [
    "# Import data"
   ]
  },
  {
   "cell_type": "code",
   "execution_count": 29,
   "id": "90c28d59",
   "metadata": {},
   "outputs": [],
   "source": [
    "df=pd.read_csv('nhatot.csv')"
   ]
  },
  {
   "cell_type": "code",
   "execution_count": 30,
   "id": "a204412c",
   "metadata": {},
   "outputs": [
    {
     "data": {
      "text/plain": [
       "Index(['post_id', 'Loại tin', 'Tiêu đề', 'Giá', 'Diện tích', 'Địa chỉ',\n",
       "       'Giá/m2', 'Giấy tờ pháp lý', 'Loại hình đất', 'Mô tả', 'URL', 'date',\n",
       "       'Liên hệ', 'card_visit', 'Hướng cửa chính', 'Chiều ngang', 'Chiều dài',\n",
       "       'Đặc điểm nhà/đất', 'Số phòng ngủ', 'Số phòng vệ sinh',\n",
       "       'Loại hình nhà ở', 'Diện tích sử dụng', 'Tổng số tầng',\n",
       "       'Tình trạng nội thất', 'Tên phân khu/Lô/Block/Tháp',\n",
       "       'Tình trạng bất động sản', 'Tầng số', 'Hướng ban công',\n",
       "       'Loại hình căn hộ', 'Loại hình văn phòng', 'Mã căn', 'Đặc điểm căn hộ',\n",
       "       'Mã lô', 'Số tiền cọc', 'Diện tích đất'],\n",
       "      dtype='object')"
      ]
     },
     "execution_count": 30,
     "metadata": {},
     "output_type": "execute_result"
    }
   ],
   "source": [
    "df.columns"
   ]
  },
  {
   "cell_type": "raw",
   "id": "0afe613c",
   "metadata": {},
   "source": [
    "Index(['post_id', 'Loại tin', 'Tiêu đề', 'Giá', 'Diện tích', 'Địa chỉ',\n",
    "       'Giá/m2', 'Giấy tờ pháp lý', 'Loại hình đất', 'Mô tả', 'URL', 'date',\n",
    "       'Liên hệ', 'card_visit', 'Hướng cửa chính', 'Chiều ngang', 'Chiều dài',\n",
    "       'Đặc điểm nhà/đất', 'Số phòng ngủ', 'Số phòng vệ sinh',\n",
    "       'Loại hình nhà ở', 'Diện tích sử dụng', 'Tổng số tầng',\n",
    "       'Tình trạng nội thất', 'Tên phân khu/Lô/Block/Tháp',\n",
    "       'Tình trạng bất động sản', 'Tầng số', 'Hướng ban công',\n",
    "       'Loại hình căn hộ', 'Loại hình văn phòng', 'Mã căn', 'Đặc điểm căn hộ',\n",
    "       'Mã lô', 'Số tiền cọc'],\n",
    "      dtype='object')"
   ]
  },
  {
   "cell_type": "code",
   "execution_count": 31,
   "id": "d77b7100",
   "metadata": {},
   "outputs": [
    {
     "data": {
      "text/html": [
       "<div>\n",
       "<style scoped>\n",
       "    .dataframe tbody tr th:only-of-type {\n",
       "        vertical-align: middle;\n",
       "    }\n",
       "\n",
       "    .dataframe tbody tr th {\n",
       "        vertical-align: top;\n",
       "    }\n",
       "\n",
       "    .dataframe thead th {\n",
       "        text-align: right;\n",
       "    }\n",
       "</style>\n",
       "<table border=\"1\" class=\"dataframe\">\n",
       "  <thead>\n",
       "    <tr style=\"text-align: right;\">\n",
       "      <th></th>\n",
       "      <th>post_id</th>\n",
       "      <th>Loại tin</th>\n",
       "      <th>Tiêu đề</th>\n",
       "      <th>Giá</th>\n",
       "      <th>Diện tích</th>\n",
       "      <th>Địa chỉ</th>\n",
       "      <th>Giá/m2</th>\n",
       "      <th>Giấy tờ pháp lý</th>\n",
       "      <th>Loại hình đất</th>\n",
       "      <th>Mô tả</th>\n",
       "      <th>...</th>\n",
       "      <th>Tình trạng bất động sản</th>\n",
       "      <th>Tầng số</th>\n",
       "      <th>Hướng ban công</th>\n",
       "      <th>Loại hình căn hộ</th>\n",
       "      <th>Loại hình văn phòng</th>\n",
       "      <th>Mã căn</th>\n",
       "      <th>Đặc điểm căn hộ</th>\n",
       "      <th>Mã lô</th>\n",
       "      <th>Số tiền cọc</th>\n",
       "      <th>Diện tích đất</th>\n",
       "    </tr>\n",
       "  </thead>\n",
       "  <tbody>\n",
       "    <tr>\n",
       "      <th>0</th>\n",
       "      <td>110154174</td>\n",
       "      <td>Mua bán</td>\n",
       "      <td>Bán 4ha đất vườn sổ đỏ có sẳn trang trại nhà v...</td>\n",
       "      <td>9,5 tỷ</td>\n",
       "      <td>40000 m²</td>\n",
       "      <td>DT 602, Xã Hòa Ninh, Huyện Hòa Vang, Đà Nẵng</td>\n",
       "      <td>237.500 đ/m²</td>\n",
       "      <td>Đã có sổ</td>\n",
       "      <td>Đất nông nghiệp</td>\n",
       "      <td>💥💥💥Đất rộng lại giá tốt 40.000m có sẵn vườn câ...</td>\n",
       "      <td>...</td>\n",
       "      <td>NaN</td>\n",
       "      <td>NaN</td>\n",
       "      <td>NaN</td>\n",
       "      <td>NaN</td>\n",
       "      <td>NaN</td>\n",
       "      <td>NaN</td>\n",
       "      <td>NaN</td>\n",
       "      <td>NaN</td>\n",
       "      <td>NaN</td>\n",
       "      <td>NaN</td>\n",
       "    </tr>\n",
       "    <tr>\n",
       "      <th>1</th>\n",
       "      <td>102957944</td>\n",
       "      <td>Mua bán</td>\n",
       "      <td>Bán đất 21 Đỗ Nhuận, dt: 250m2, ngang 8m, nở h...</td>\n",
       "      <td>8,2 tỷ</td>\n",
       "      <td>250 m²</td>\n",
       "      <td>21, Đường Đỗ Nhuận, Phường Hòa Minh, Quận Liên...</td>\n",
       "      <td>32,8 triệu/m²</td>\n",
       "      <td>Đã có sổ</td>\n",
       "      <td>Đất thổ cư</td>\n",
       "      <td>+ Bán đất số 21 Đỗ Nhuận, khu Trung Nghĩa, phư...</td>\n",
       "      <td>...</td>\n",
       "      <td>NaN</td>\n",
       "      <td>NaN</td>\n",
       "      <td>NaN</td>\n",
       "      <td>NaN</td>\n",
       "      <td>NaN</td>\n",
       "      <td>NaN</td>\n",
       "      <td>NaN</td>\n",
       "      <td>NaN</td>\n",
       "      <td>NaN</td>\n",
       "      <td>NaN</td>\n",
       "    </tr>\n",
       "    <tr>\n",
       "      <th>2</th>\n",
       "      <td>108055434</td>\n",
       "      <td>Mua bán</td>\n",
       "      <td>Bán nhà hẻm 3m5 Nguyễn Văn Linh, 140m2 đất, ng...</td>\n",
       "      <td>4,95 tỷ</td>\n",
       "      <td>140 m²</td>\n",
       "      <td>K82/H10/36, Nguyễn văn linh, Phường Nam Dương,...</td>\n",
       "      <td>35,36 triệu/m²</td>\n",
       "      <td>Đã có sổ</td>\n",
       "      <td>NaN</td>\n",
       "      <td>Bán nhà kiệt 82 Nguyễn Văn Linh, hẻm 3m5, cách...</td>\n",
       "      <td>...</td>\n",
       "      <td>NaN</td>\n",
       "      <td>NaN</td>\n",
       "      <td>NaN</td>\n",
       "      <td>NaN</td>\n",
       "      <td>NaN</td>\n",
       "      <td>NaN</td>\n",
       "      <td>NaN</td>\n",
       "      <td>NaN</td>\n",
       "      <td>NaN</td>\n",
       "      <td>NaN</td>\n",
       "    </tr>\n",
       "    <tr>\n",
       "      <th>3</th>\n",
       "      <td>102942264</td>\n",
       "      <td>Mua bán</td>\n",
       "      <td>Bán đất hẻm 3m 59/31 Núi Thành, 162m2, 4.25 tỷ...</td>\n",
       "      <td>4,25 tỷ</td>\n",
       "      <td>162 m²</td>\n",
       "      <td>Kiệt 59 Núi Thành, Phường Bình Hiên, Quận Hải ...</td>\n",
       "      <td>26,23 triệu/m²</td>\n",
       "      <td>NaN</td>\n",
       "      <td>Đất thổ cư</td>\n",
       "      <td>Bán đất hẻm 3m số 59/31 Núi Thành, cách đường ...</td>\n",
       "      <td>...</td>\n",
       "      <td>NaN</td>\n",
       "      <td>NaN</td>\n",
       "      <td>NaN</td>\n",
       "      <td>NaN</td>\n",
       "      <td>NaN</td>\n",
       "      <td>NaN</td>\n",
       "      <td>NaN</td>\n",
       "      <td>NaN</td>\n",
       "      <td>NaN</td>\n",
       "      <td>NaN</td>\n",
       "    </tr>\n",
       "    <tr>\n",
       "      <th>4</th>\n",
       "      <td>110181789</td>\n",
       "      <td>Mua bán</td>\n",
       "      <td>Nhà 2 tầng 2 mặt kiệt ngay biển Nguyễn Tất Thà...</td>\n",
       "      <td>2,95 tỷ</td>\n",
       "      <td>62 m²</td>\n",
       "      <td>K1/20, Tôn Thất Đạm, Phường Xuân Hà, Quận Than...</td>\n",
       "      <td>47,58 triệu/m²</td>\n",
       "      <td>Đã có sổ</td>\n",
       "      <td>NaN</td>\n",
       "      <td>Tôi là chính chủ cần bán nhà tại địa chỉ K1/20...</td>\n",
       "      <td>...</td>\n",
       "      <td>NaN</td>\n",
       "      <td>NaN</td>\n",
       "      <td>NaN</td>\n",
       "      <td>NaN</td>\n",
       "      <td>NaN</td>\n",
       "      <td>NaN</td>\n",
       "      <td>NaN</td>\n",
       "      <td>NaN</td>\n",
       "      <td>NaN</td>\n",
       "      <td>NaN</td>\n",
       "    </tr>\n",
       "  </tbody>\n",
       "</table>\n",
       "<p>5 rows × 35 columns</p>\n",
       "</div>"
      ],
      "text/plain": [
       "     post_id Loại tin                                            Tiêu đề  \\\n",
       "0  110154174  Mua bán  Bán 4ha đất vườn sổ đỏ có sẳn trang trại nhà v...   \n",
       "1  102957944  Mua bán  Bán đất 21 Đỗ Nhuận, dt: 250m2, ngang 8m, nở h...   \n",
       "2  108055434  Mua bán  Bán nhà hẻm 3m5 Nguyễn Văn Linh, 140m2 đất, ng...   \n",
       "3  102942264  Mua bán  Bán đất hẻm 3m 59/31 Núi Thành, 162m2, 4.25 tỷ...   \n",
       "4  110181789  Mua bán  Nhà 2 tầng 2 mặt kiệt ngay biển Nguyễn Tất Thà...   \n",
       "\n",
       "       Giá  Diện tích                                            Địa chỉ  \\\n",
       "0   9,5 tỷ   40000 m²       DT 602, Xã Hòa Ninh, Huyện Hòa Vang, Đà Nẵng   \n",
       "1   8,2 tỷ     250 m²  21, Đường Đỗ Nhuận, Phường Hòa Minh, Quận Liên...   \n",
       "2  4,95 tỷ     140 m²  K82/H10/36, Nguyễn văn linh, Phường Nam Dương,...   \n",
       "3  4,25 tỷ     162 m²  Kiệt 59 Núi Thành, Phường Bình Hiên, Quận Hải ...   \n",
       "4  2,95 tỷ      62 m²  K1/20, Tôn Thất Đạm, Phường Xuân Hà, Quận Than...   \n",
       "\n",
       "            Giá/m2 Giấy tờ pháp lý     Loại hình đất  \\\n",
       "0     237.500 đ/m²        Đã có sổ   Đất nông nghiệp   \n",
       "1    32,8 triệu/m²        Đã có sổ        Đất thổ cư   \n",
       "2   35,36 triệu/m²        Đã có sổ               NaN   \n",
       "3   26,23 triệu/m²             NaN        Đất thổ cư   \n",
       "4   47,58 triệu/m²        Đã có sổ               NaN   \n",
       "\n",
       "                                               Mô tả  ...  \\\n",
       "0  💥💥💥Đất rộng lại giá tốt 40.000m có sẵn vườn câ...  ...   \n",
       "1  + Bán đất số 21 Đỗ Nhuận, khu Trung Nghĩa, phư...  ...   \n",
       "2  Bán nhà kiệt 82 Nguyễn Văn Linh, hẻm 3m5, cách...  ...   \n",
       "3  Bán đất hẻm 3m số 59/31 Núi Thành, cách đường ...  ...   \n",
       "4  Tôi là chính chủ cần bán nhà tại địa chỉ K1/20...  ...   \n",
       "\n",
       "  Tình trạng bất động sản Tầng số Hướng ban công Loại hình căn hộ  \\\n",
       "0                     NaN     NaN            NaN              NaN   \n",
       "1                     NaN     NaN            NaN              NaN   \n",
       "2                     NaN     NaN            NaN              NaN   \n",
       "3                     NaN     NaN            NaN              NaN   \n",
       "4                     NaN     NaN            NaN              NaN   \n",
       "\n",
       "  Loại hình văn phòng Mã căn Đặc điểm căn hộ Mã lô Số tiền cọc Diện tích đất  \n",
       "0                 NaN    NaN             NaN   NaN         NaN           NaN  \n",
       "1                 NaN    NaN             NaN   NaN         NaN           NaN  \n",
       "2                 NaN    NaN             NaN   NaN         NaN           NaN  \n",
       "3                 NaN    NaN             NaN   NaN         NaN           NaN  \n",
       "4                 NaN    NaN             NaN   NaN         NaN           NaN  \n",
       "\n",
       "[5 rows x 35 columns]"
      ]
     },
     "execution_count": 31,
     "metadata": {},
     "output_type": "execute_result"
    }
   ],
   "source": [
    "df.head()"
   ]
  },
  {
   "cell_type": "code",
   "execution_count": 32,
   "id": "42f037fc",
   "metadata": {},
   "outputs": [
    {
     "name": "stdout",
     "output_type": "stream",
     "text": [
      "<class 'pandas.core.frame.DataFrame'>\n",
      "RangeIndex: 15157 entries, 0 to 15156\n",
      "Data columns (total 35 columns):\n",
      " #   Column                      Non-Null Count  Dtype  \n",
      "---  ------                      --------------  -----  \n",
      " 0   post_id                     15157 non-null  int64  \n",
      " 1   Loại tin                    15157 non-null  object \n",
      " 2   Tiêu đề                     15157 non-null  object \n",
      " 3   Giá                         15157 non-null  object \n",
      " 4   Diện tích                   15157 non-null  object \n",
      " 5   Địa chỉ                     15157 non-null  object \n",
      " 6   Giá/m2                      15157 non-null  object \n",
      " 7   Giấy tờ pháp lý             11585 non-null  object \n",
      " 8   Loại hình đất               5710 non-null   object \n",
      " 9   Mô tả                       15157 non-null  object \n",
      " 10  URL                         15157 non-null  object \n",
      " 11  date                        15157 non-null  object \n",
      " 12  Liên hệ                     15139 non-null  object \n",
      " 13  card_visit                  15157 non-null  object \n",
      " 14  Hướng cửa chính             8342 non-null   object \n",
      " 15  Chiều ngang                 9733 non-null   object \n",
      " 16  Chiều dài                   8162 non-null   object \n",
      " 17  Đặc điểm nhà/đất            5270 non-null   object \n",
      " 18  Số phòng ngủ                9232 non-null   object \n",
      " 19  Số phòng vệ sinh            7233 non-null   object \n",
      " 20  Loại hình nhà ở             7142 non-null   object \n",
      " 21  Diện tích sử dụng           4058 non-null   object \n",
      " 22  Tổng số tầng                4955 non-null   float64\n",
      " 23  Tình trạng nội thất         5300 non-null   object \n",
      " 24  Tên phân khu/Lô/Block/Tháp  1238 non-null   object \n",
      " 25  Tình trạng bất động sản     2090 non-null   object \n",
      " 26  Tầng số                     479 non-null    float64\n",
      " 27  Hướng ban công              641 non-null    object \n",
      " 28  Loại hình căn hộ            2090 non-null   object \n",
      " 29  Loại hình văn phòng         215 non-null    object \n",
      " 30  Mã căn                      202 non-null    object \n",
      " 31  Đặc điểm căn hộ             176 non-null    object \n",
      " 32  Mã lô                       127 non-null    object \n",
      " 33  Số tiền cọc                 0 non-null      float64\n",
      " 34  Diện tích đất               923 non-null    object \n",
      "dtypes: float64(3), int64(1), object(31)\n",
      "memory usage: 4.0+ MB\n"
     ]
    }
   ],
   "source": [
    "df.info()"
   ]
  },
  {
   "cell_type": "code",
   "execution_count": 33,
   "id": "a1f4fa22",
   "metadata": {},
   "outputs": [
    {
     "data": {
      "text/plain": [
       "(15157, 35)"
      ]
     },
     "execution_count": 33,
     "metadata": {},
     "output_type": "execute_result"
    }
   ],
   "source": [
    "df.shape"
   ]
  },
  {
   "cell_type": "markdown",
   "id": "2e884bb1",
   "metadata": {},
   "source": [
    "# Function"
   ]
  },
  {
   "cell_type": "code",
   "execution_count": 34,
   "id": "a574bf56",
   "metadata": {},
   "outputs": [],
   "source": [
    "def replace_empty_with_nan(text):\n",
    "    return np.nan if text.strip() == '' else text"
   ]
  },
  {
   "cell_type": "markdown",
   "id": "c646e330",
   "metadata": {},
   "source": [
    "# Loại tin"
   ]
  },
  {
   "cell_type": "code",
   "execution_count": 35,
   "id": "cd733161",
   "metadata": {},
   "outputs": [
    {
     "data": {
      "text/plain": [
       "array(['Mua bán'], dtype=object)"
      ]
     },
     "execution_count": 35,
     "metadata": {},
     "output_type": "execute_result"
    }
   ],
   "source": [
    "df['Loại tin'].unique()"
   ]
  },
  {
   "cell_type": "markdown",
   "id": "e12b7e75",
   "metadata": {},
   "source": [
    "# Diện tích"
   ]
  },
  {
   "cell_type": "code",
   "execution_count": 36,
   "id": "1cd77145",
   "metadata": {},
   "outputs": [
    {
     "data": {
      "text/plain": [
       "array([' 40000 m²', ' 250 m²', ' 140 m²', ..., '43.4 m2', '99.1 m2',\n",
       "       '21 m2'], dtype=object)"
      ]
     },
     "execution_count": 36,
     "metadata": {},
     "output_type": "execute_result"
    }
   ],
   "source": [
    "df['Diện tích'].unique()"
   ]
  },
  {
   "cell_type": "code",
   "execution_count": 37,
   "id": "801f7f54",
   "metadata": {},
   "outputs": [],
   "source": [
    "def clean_size(i):\n",
    "    if isinstance(i, str):\n",
    "        # Remove ' m²'\n",
    "        return i.replace(' m²','').replace(' m2','')\n",
    "    else:\n",
    "        return ''"
   ]
  },
  {
   "cell_type": "code",
   "execution_count": 38,
   "id": "a0aeee5e",
   "metadata": {},
   "outputs": [],
   "source": [
    "df['Diện tích'] = df['Diện tích'].apply(clean_size)"
   ]
  },
  {
   "cell_type": "code",
   "execution_count": 39,
   "id": "41d8346b",
   "metadata": {},
   "outputs": [],
   "source": [
    "df['Diện tích'] = df['Diện tích'].apply(replace_empty_with_nan)"
   ]
  },
  {
   "cell_type": "code",
   "execution_count": 40,
   "id": "89c1afbc",
   "metadata": {},
   "outputs": [],
   "source": [
    "df['Diện tích']=df['Diện tích'].astype(float)"
   ]
  },
  {
   "cell_type": "markdown",
   "id": "b94cd411",
   "metadata": {},
   "source": [
    "# Giá "
   ]
  },
  {
   "cell_type": "code",
   "execution_count": 41,
   "id": "7112f675",
   "metadata": {},
   "outputs": [
    {
     "data": {
      "text/plain": [
       "array(['9,5 tỷ', '8,2 tỷ', '4,95 tỷ', ..., '34,8 tỷ', '13,15 tỷ',\n",
       "       '1,28 triệu'], dtype=object)"
      ]
     },
     "execution_count": 41,
     "metadata": {},
     "output_type": "execute_result"
    }
   ],
   "source": [
    "df['Giá'].unique()"
   ]
  },
  {
   "cell_type": "code",
   "execution_count": 42,
   "id": "7d8f15c1",
   "metadata": {},
   "outputs": [],
   "source": [
    "# df['Giá'][df['Loại tin']=='Mua bán'].unique()"
   ]
  },
  {
   "cell_type": "code",
   "execution_count": 43,
   "id": "8780c54f",
   "metadata": {
    "scrolled": true
   },
   "outputs": [],
   "source": [
    "# df['Giá'][df['Loại tin']=='Cho thuê'].unique()"
   ]
  },
  {
   "cell_type": "code",
   "execution_count": 44,
   "id": "d0eaa26e",
   "metadata": {},
   "outputs": [],
   "source": [
    "df['Giá'] = df['Giá'].apply(lambda x: x.replace('.','').replace(',', '.'))"
   ]
  },
  {
   "cell_type": "code",
   "execution_count": 45,
   "id": "5d6974a2",
   "metadata": {},
   "outputs": [],
   "source": [
    "def clean_price(x, dien_tich):\n",
    "    if 'đ/tháng' in x:\n",
    "        return float(x.split()[0]) \n",
    "    elif 'triệu/tháng' in x:\n",
    "        return float(x.split()[0]) * 1000000\n",
    "    elif 'tỷ/tháng' in x:\n",
    "        return float(x.split()[0]) * 1000000000\n",
    "    elif ' tỷ' in x:\n",
    "        return float(x.split()[0]) * 1000000000\n",
    "    elif ' triệu' in x:\n",
    "        return float(x.split()[0]) * 1000000\n",
    "    elif ' đ' in x:\n",
    "        return float(x.split()[0])\n",
    "    elif x == 'Thỏa thuận':\n",
    "        return None  \n",
    "    else:\n",
    "        return x"
   ]
  },
  {
   "cell_type": "code",
   "execution_count": 46,
   "id": "49f09a3c",
   "metadata": {},
   "outputs": [],
   "source": [
    "df['Giá'] = df.apply(lambda row: clean_price(row['Giá'], row['Diện tích']), axis=1)"
   ]
  },
  {
   "cell_type": "code",
   "execution_count": 47,
   "id": "aba6145d",
   "metadata": {},
   "outputs": [],
   "source": [
    "df['Giá']=df['Giá'].astype(float)"
   ]
  },
  {
   "cell_type": "markdown",
   "id": "0cdb4eb9",
   "metadata": {},
   "source": [
    "# Giá/m2"
   ]
  },
  {
   "cell_type": "code",
   "execution_count": 48,
   "id": "5d52731e",
   "metadata": {},
   "outputs": [
    {
     "data": {
      "text/plain": [
       "array([' 237.500 đ/m²', ' 32,8 triệu/m²', ' 35,36 triệu/m²', ...,\n",
       "       ' 21,59 triệu/m²', ' 36,29 triệu/m²', ' 12.800 đ/m²'], dtype=object)"
      ]
     },
     "execution_count": 48,
     "metadata": {},
     "output_type": "execute_result"
    }
   ],
   "source": [
    "df['Giá/m2'].unique()"
   ]
  },
  {
   "cell_type": "code",
   "execution_count": 49,
   "id": "f037afc6",
   "metadata": {},
   "outputs": [],
   "source": [
    "df['Giá/m2'] = df['Giá/m2'].apply(lambda x: str(x).replace('.', '').replace(',', '.').replace('m2','m²'))"
   ]
  },
  {
   "cell_type": "code",
   "execution_count": 50,
   "id": "c3f79dfb",
   "metadata": {},
   "outputs": [],
   "source": [
    "def clean_price(x):\n",
    "    if 'đ/m²' in x:\n",
    "        return float(x.split()[0]) \n",
    "    elif 'triệu/m²' in x:\n",
    "        return float(x.split()[0]) * 1000000\n",
    "    elif 'tỷ/m²' in x:\n",
    "        return float(x.split()[0]) * 1000000000\n",
    "    elif x == 'Thỏa thuận':\n",
    "        return None  \n",
    "    else:\n",
    "        return x"
   ]
  },
  {
   "cell_type": "code",
   "execution_count": 51,
   "id": "683653d1",
   "metadata": {},
   "outputs": [],
   "source": [
    "df['Giá/m2']=df['Giá/m2'].apply(clean_price)"
   ]
  },
  {
   "cell_type": "code",
   "execution_count": 52,
   "id": "6c3b1f71",
   "metadata": {},
   "outputs": [],
   "source": [
    "df['Giá/m2']=df['Giá/m2'].astype(float)"
   ]
  },
  {
   "cell_type": "markdown",
   "id": "059fdf2e",
   "metadata": {},
   "source": [
    "# Giấy tờ pháp lý"
   ]
  },
  {
   "cell_type": "code",
   "execution_count": 53,
   "id": "f11ddaeb",
   "metadata": {},
   "outputs": [
    {
     "data": {
      "text/plain": [
       "array([' Đã có sổ', nan, ' Đang chờ sổ', ' Giấy tờ khác'], dtype=object)"
      ]
     },
     "execution_count": 53,
     "metadata": {},
     "output_type": "execute_result"
    }
   ],
   "source": [
    "df['Giấy tờ pháp lý'].unique()"
   ]
  },
  {
   "cell_type": "code",
   "execution_count": 54,
   "id": "37964795",
   "metadata": {},
   "outputs": [],
   "source": [
    "df['Giấy tờ pháp lý']=df['Giấy tờ pháp lý'].str.strip()"
   ]
  },
  {
   "cell_type": "markdown",
   "id": "db70d056",
   "metadata": {},
   "source": [
    "# Loại hình đất, loại hình căn hộ, loại hình văn phòng, loại hình nhà ở"
   ]
  },
  {
   "cell_type": "code",
   "execution_count": 55,
   "id": "d9a3320a",
   "metadata": {},
   "outputs": [
    {
     "data": {
      "text/plain": [
       "array([' Đất nông nghiệp', ' Đất thổ cư', nan, ' Đất nền dự án',\n",
       "       ' Đất công nghiệp'], dtype=object)"
      ]
     },
     "execution_count": 55,
     "metadata": {},
     "output_type": "execute_result"
    }
   ],
   "source": [
    "df['Loại hình đất'].unique()"
   ]
  },
  {
   "cell_type": "code",
   "execution_count": 56,
   "id": "012df19c",
   "metadata": {},
   "outputs": [
    {
     "data": {
      "text/plain": [
       "array([nan, ' Chung cư', ' Căn hộ dịch vụ, mini', ' Duplex', ' Officetel',\n",
       "       ' Penthouse', ' Tập thể, cư xá'], dtype=object)"
      ]
     },
     "execution_count": 56,
     "metadata": {},
     "output_type": "execute_result"
    }
   ],
   "source": [
    "df['Loại hình căn hộ'].unique()"
   ]
  },
  {
   "cell_type": "code",
   "execution_count": 57,
   "id": "db6a6e41",
   "metadata": {},
   "outputs": [
    {
     "data": {
      "text/plain": [
       "array([nan, ' Mặt bằng kinh doanh', ' Shophouse', ' Văn phòng',\n",
       "       ' Officetel'], dtype=object)"
      ]
     },
     "execution_count": 57,
     "metadata": {},
     "output_type": "execute_result"
    }
   ],
   "source": [
    "df['Loại hình văn phòng'].unique()"
   ]
  },
  {
   "cell_type": "code",
   "execution_count": 58,
   "id": "3da3ebb9",
   "metadata": {},
   "outputs": [
    {
     "data": {
      "text/plain": [
       "array([nan, ' Nhà ngõ, hẻm', ' Nhà mặt phố, mặt tiền', ' Nhà biệt thự',\n",
       "       ' Nhà phố liền kề'], dtype=object)"
      ]
     },
     "execution_count": 58,
     "metadata": {},
     "output_type": "execute_result"
    }
   ],
   "source": [
    "df['Loại hình nhà ở'].unique()"
   ]
  },
  {
   "cell_type": "code",
   "execution_count": 59,
   "id": "90e66c2e",
   "metadata": {},
   "outputs": [],
   "source": [
    "df['Loại hình đất']=df['Loại hình đất'].str.strip()\n",
    "df['Loại hình căn hộ']=df['Loại hình căn hộ'].str.strip()\n",
    "df['Loại hình văn phòng']=df['Loại hình văn phòng'].str.strip()\n",
    "df['Loại hình nhà ở']=df['Loại hình nhà ở'].str.strip()"
   ]
  },
  {
   "cell_type": "markdown",
   "id": "472931e8",
   "metadata": {},
   "source": [
    "# date"
   ]
  },
  {
   "cell_type": "code",
   "execution_count": 60,
   "id": "f295cf2a",
   "metadata": {},
   "outputs": [
    {
     "data": {
      "text/plain": [
       "array(['9/24/2023', '9/25/2023', '9/26/2023', '10/2/2023', '10/3/2023',\n",
       "       '10/4/2023', '10/5/2023', '10/9/2023', '10/10/2023', '10/12/2023',\n",
       "       '10/13/2023', '10/14/2023', '10/17/2023', '10/18/2023',\n",
       "       '10/19/2023', '10/21/2023', '10/23/2023', '10/24/2023',\n",
       "       '10/25/2023', '10/28/2023', '10/29/2023', '10/30/2023',\n",
       "       '10/31/2023', '11/1/2023', '11/2/2023', '11/3/2023', '11/7/2023',\n",
       "       '11/8/2023', '11/9/2023', '11/10/2023', '11/11/2023', '11/12/2023',\n",
       "       '11/14/2023', '11/29/2023', '11/23/2023', '12/1/2023',\n",
       "       '11/15/2023', '11/30/2023', '11/21/2023', '11/22/2023',\n",
       "       '11/18/2023', '11/16/2023', '11/28/2023', '11/19/2023',\n",
       "       '11/27/2023', '11/26/2023'], dtype=object)"
      ]
     },
     "execution_count": 60,
     "metadata": {},
     "output_type": "execute_result"
    }
   ],
   "source": [
    "df['date'].unique()"
   ]
  },
  {
   "cell_type": "markdown",
   "id": "1c2b0bea",
   "metadata": {},
   "source": [
    "# Liên hệ"
   ]
  },
  {
   "cell_type": "code",
   "execution_count": 61,
   "id": "e85eafc0",
   "metadata": {},
   "outputs": [
    {
     "data": {
      "text/plain": [
       "array(['Minh Phương Phát', 'Quốc Huỳnh', 'Anh Tân', ..., 'Hải Heo Seoul',\n",
       "       'Nhà Đất Việt', 'phan'], dtype=object)"
      ]
     },
     "execution_count": 61,
     "metadata": {},
     "output_type": "execute_result"
    }
   ],
   "source": [
    "df['Liên hệ'].unique()"
   ]
  },
  {
   "cell_type": "code",
   "execution_count": 62,
   "id": "811ef6fe",
   "metadata": {},
   "outputs": [],
   "source": [
    "df['Liên hệ']=df['Liên hệ'].str.title()"
   ]
  },
  {
   "cell_type": "markdown",
   "id": "1d565bd9",
   "metadata": {},
   "source": [
    "# Hướng cửa chính, hướng ban công"
   ]
  },
  {
   "cell_type": "code",
   "execution_count": 63,
   "id": "5a2b2119",
   "metadata": {},
   "outputs": [
    {
     "data": {
      "text/plain": [
       "array([nan, ' Tây Nam', ' Tây', ' Tây Bắc', ' Đông Bắc', ' Đông Nam',\n",
       "       ' Bắc', ' Nam', ' Đông'], dtype=object)"
      ]
     },
     "execution_count": 63,
     "metadata": {},
     "output_type": "execute_result"
    }
   ],
   "source": [
    "df['Hướng cửa chính'].unique()"
   ]
  },
  {
   "cell_type": "code",
   "execution_count": 64,
   "id": "d8b6ea60",
   "metadata": {},
   "outputs": [
    {
     "data": {
      "text/plain": [
       "array([nan, ' Đông Bắc', ' Tây Bắc', ' Đông', ' Tây', ' Đông Nam',\n",
       "       ' Tây Nam', ' Bắc', ' Nam'], dtype=object)"
      ]
     },
     "execution_count": 64,
     "metadata": {},
     "output_type": "execute_result"
    }
   ],
   "source": [
    "df['Hướng ban công'].unique()"
   ]
  },
  {
   "cell_type": "code",
   "execution_count": 65,
   "id": "5a1ce8a0",
   "metadata": {},
   "outputs": [],
   "source": [
    "df['Hướng cửa chính']=df['Hướng cửa chính'].str.strip()\n",
    "df['Hướng ban công']=df['Hướng ban công'].str.strip()"
   ]
  },
  {
   "cell_type": "markdown",
   "id": "6cc713bc",
   "metadata": {},
   "source": [
    "# Chiều ngang, chiều dài, diện tích sử dụng"
   ]
  },
  {
   "cell_type": "code",
   "execution_count": 66,
   "id": "a06ab47e",
   "metadata": {},
   "outputs": [
    {
     "data": {
      "text/plain": [
       "array([nan, ' 8 m', ' 7 m', ' 6 m', ' 17 m', ' 13 m', ' 5 m', ' 4 m',\n",
       "       ' 15 m', ' 4.5 m', ' 6.2 m', ' 10 m', ' 5.5 m', ' 7.4 m',\n",
       "       ' 7.33 m', ' 7.5 m', ' 23 m', ' 6.5 m', ' 3.5 m', ' 3.43 m',\n",
       "       ' 5.97 m', ' 5.06 m', ' 24 m', ' 16 m', ' 12 m', ' 4.2 m',\n",
       "       ' 6.3 m', ' 45 m', ' 53 m', ' 25 m', ' 5.3 m', ' 5.7 m', ' 54 m',\n",
       "       ' 3 m', ' 100 m', ' 6.23 m', ' 4.8 m', ' 5.15 m', ' 44 m',\n",
       "       ' 5.2 m', ' 14 m', ' 4.1 m', ' 4.67 m', ' 5.23 m', ' 3.56 m',\n",
       "       ' 35 m', ' 5.1 m', ' 5.34 m', ' 6.7 m', ' 18 m', ' 5.08 m',\n",
       "       ' 12.1 m', ' 6.15 m', ' 3.69 m', ' 4.4 m', ' 14.8 m', ' 4.42 m',\n",
       "       ' 2 m', ' 9 m', ' 20 m', ' 22 m', ' 7.7 m', ' 18.5 m', ' 8.4 m',\n",
       "       ' 200 m', ' 15.5 m', ' 65 m', ' 70 m', ' 535 m', ' 3.8 m',\n",
       "       ' 5.65 m', ' 8.77 m', ' 5.4 m', ' 5.8 m', ' 4.74 m', ' 7.1 m',\n",
       "       ' 6.74 m', ' 38 m', ' 94 m', ' 8.2 m', ' 4.46 m', ' 17.9 m',\n",
       "       ' 17.7 m', ' 9.5 m', ' 4.9 m', ' 3.67 m', ' 12.5 m', ' 11 m',\n",
       "       ' 11.5 m', ' 9.6 m', ' 4.6 m', ' 5.9 m', ' 52 m', ' 7.8 m',\n",
       "       ' 4.3 m', ' 36 m', ' 3.2 m', ' 3.87 m', ' 4.03 m', ' 483 m',\n",
       "       ' 88 m', ' 4.17 m', ' 14.7 m', ' 9.68 m', ' 4.07 m', ' 3.3 m',\n",
       "       ' 10.6 m', ' 3.7 m', ' 5.6 m', ' 3.58 m', ' 5.44 m', ' 4.96 m',\n",
       "       ' 8.45 m', ' 15.02 m', ' 9.7 m', ' 3.6 m', ' 6.6 m', ' 6.35 m',\n",
       "       ' 450 m', ' 4.68 m', ' 5.75 m', ' 40 m', ' 5.45 m', ' 41 m',\n",
       "       ' 3.12 m', ' 3.45 m', ' 395 m', ' 33 m', ' 6.79 m', ' 5.86 m',\n",
       "       ' 3.9 m', ' 18.76 m', ' 572 m', ' 8.3 m', ' 8.28 m', ' 4.55 m',\n",
       "       ' 19 m', ' 660 m', ' 42 m', ' 8.1 m', ' 4.7 m', ' 8.7 m',\n",
       "       ' 4.82 m', ' 6.1 m', ' 8.54 m', ' 4.71 m', ' 4.15 m', ' 9.2 m',\n",
       "       ' 6.8 m', ' 4.61 m', ' 7.2 m', ' 5.05 m', ' 75 m', ' 9.8 m',\n",
       "       ' 30 m', ' 5.78 m', ' 6.07 m', ' 29 m', ' 28 m', ' 8.8 m',\n",
       "       ' 4.43 m', ' 4.78 m', ' 4.08 m', ' 562 m', ' 4.02 m', ' 4.97 m',\n",
       "       ' 16.4 m', ' 9.3 m', ' 8.9 m', ' 4.95 m', ' 4.22 m', ' 11.67 m',\n",
       "       ' 8.5 m', ' 16.5 m', ' 80 m', ' 8.6 m', ' 14.5 m', ' 11.9 m',\n",
       "       ' 7.09 m', ' 6.45 m', ' 16.6 m', ' 1240 m', ' 4.75 m', ' 13.3 m',\n",
       "       ' 4.79 m', ' 7.63 m', ' 60 m', ' 4.35 m', ' 3.66 m', ' 3.1 m',\n",
       "       ' 4.57 m', ' 5.25 m', ' 5.51 m', ' 3.4 m', ' 5.47 m', ' 47 m',\n",
       "       ' 5.94 m', ' 27 m', ' 19.5 m', ' 17.34 m', ' 2.62 m', ' 7.15 m',\n",
       "       ' 4.66 m', ' 7.25 m', ' 3.74 m', ' 4.54 m', ' 50 m', ' 4.05 m',\n",
       "       ' 4.45 m', ' 11.65 m', ' 7.37 m', ' 55 m', ' 3.29 m', ' 5.36 m',\n",
       "       ' 2.5 m', ' 5.85 m', ' 5.26 m', ' 3.85 m', ' 5.42 m', ' 17.5 m',\n",
       "       ' 3.16 m', ' 3.52 m', ' 4.84 m', ' 317 m', ' 95 m', ' 6.52 m',\n",
       "       ' 16.3 m', ' 4.25 m', ' 32 m', ' 10.1 m', ' 62 m', ' 12.52 m',\n",
       "       ' 7.21 m', ' 10.5 m', ' 5.37 m', ' 5900 m', ' 37 m', ' 4.04 m',\n",
       "       ' 3.78 m', ' 37.5 m', ' 9.75 m', ' 12.38 m', ' 6.34 m', ' 4.86 m',\n",
       "       ' 3.73 m', ' 8.68 m', ' 3.31 m', ' 68 m', ' 5.81 m', ' 6.9 m',\n",
       "       ' 6.32 m', ' 5.56 m', ' 5.64 m', ' 31 m', ' 4.01 m', ' 4.29 m',\n",
       "       ' 7.6 m', ' 6.53 m', ' 2.75 m', ' 6.25 m', ' 7.52 m', ' 78 m',\n",
       "       ' 8.25 m', ' 147 m', ' 4.16 m', ' 11.15 m', ' 6.87 m', ' 7.3 m',\n",
       "       ' 4.38 m', ' 5.14 m', ' 5.09 m', ' 7.01 m', ' 4.65 m', ' 4.21 m',\n",
       "       ' 4.85 m', ' 4.31 m', ' 9.34 m', ' 4.41 m', ' 4.59 m', ' 9.4 m',\n",
       "       ' 35.5 m', ' 5.32 m', ' 9.39 m', ' 4.83 m', ' 2.7 m', ' 34 m',\n",
       "       ' 6.67 m', ' 11.6 m', ' 43 m', ' 5.35 m', ' 5.22 m', ' 4.94 m',\n",
       "       ' 4.36 m', ' 5.02 m', ' 4.93 m', ' 64 m', ' 7.6999 m', ' 6.11 m',\n",
       "       ' 4.62 m', ' 8.1998 m', ' 13.5 m', ' 5.88 m', ' 5.01 m', ' 7.22 m',\n",
       "       ' 470 m', ' 5.0598 m', ' 4.1999 m', ' 6.4 m', ' 4.6999 m',\n",
       "       ' 30.48 m', ' 5.0999 m', ' 5.6999 m', ' 7.35 m', ' 26 m',\n",
       "       ' 9.17 m', ' 7.38 m', ' 6.46 m', ' 3.5999 m', ' 8.1997 m',\n",
       "       ' 3.5799 m'], dtype=object)"
      ]
     },
     "execution_count": 66,
     "metadata": {},
     "output_type": "execute_result"
    }
   ],
   "source": [
    "df['Chiều ngang'].unique()"
   ]
  },
  {
   "cell_type": "code",
   "execution_count": 67,
   "id": "32e2cf70",
   "metadata": {},
   "outputs": [
    {
     "data": {
      "text/plain": [
       "array([nan, ' 26 m', ' 20 m', ' 4 m', ' 19 m', ' 29 m', ' 16 m', ' 15 m',\n",
       "       ' 25 m', ' 20.3 m', ' 25.2 m', ' 17 m', ' 23 m', ' 10 m', ' 35 m',\n",
       "       ' 18 m', ' 12 m', ' 15.3 m', ' 21 m', ' 18.7 m', ' 30 m',\n",
       "       ' 11.51 m', ' 15.2 m', ' 7 m', ' 16.5 m', ' 14 m', ' 22 m',\n",
       "       ' 17.7 m', ' 22.5 m', ' 9 m', ' 40 m', ' 24 m', ' 11 m', ' 27 m',\n",
       "       ' 12.5 m', ' 99 m', ' 14.4 m', ' 8 m', ' 20.5 m', ' 15.51 m',\n",
       "       ' 13 m', ' 23.2 m', ' 28 m', ' 18.1 m', ' 5.1 m', ' 19.8 m',\n",
       "       ' 36 m', ' 14.8 m', ' 14.5 m', ' 10.5 m', ' 33.3 m', ' 25.5 m',\n",
       "       ' 8.6 m', ' 19.5 m', ' 11.25 m', ' 13.2 m', ' 16.7 m', ' 18.6 m',\n",
       "       ' 60 m', ' 17.18 m', ' 21.7 m', ' 21.8 m', ' 34 m', ' 57.25 m',\n",
       "       ' 8.35 m', ' 13.5 m', ' 11.1 m', ' 20.8 m', ' 6 m', ' 16.9 m',\n",
       "       ' 32 m', ' 68 m', ' 41 m', ' 24.5 m', ' 50 m', ' 200 m', ' 77 m',\n",
       "       ' 26.5 m', ' 9.16 m', ' 17.5 m', ' 13.25 m', ' 10.2 m', ' 18.5 m',\n",
       "       ' 28.2 m', ' 15.4 m', ' 32.5 m', ' 20.2 m', ' 23.5 m', ' 7.8 m',\n",
       "       ' 5.8 m', ' 19.4 m', ' 265 m', ' 11.9 m', ' 8.2 m', ' 26.7 m',\n",
       "       ' 22.4 m', ' 15.8 m', ' 10.1 m', ' 13.51 m', ' 96 m', ' 27.5 m',\n",
       "       ' 175 m', ' 118 m', ' 11.08 m', ' 48 m', ' 10.3 m', ' 42 m',\n",
       "       ' 15.5 m', ' 13.3 m', ' 16.3 m', ' 12.1 m', ' 17.25 m', ' 13.21 m',\n",
       "       ' 13.43 m', ' 24.45 m', ' 24.7 m', ' 18.75 m', ' 31 m', ' 33 m',\n",
       "       ' 25.7 m', ' 10.25 m', ' 17.54 m', ' 7.5 m', ' 19.25 m', ' 17.8 m',\n",
       "       ' 28.66 m', ' 10.04 m', ' 17.44 m', ' 11.5 m', ' 30.5 m',\n",
       "       ' 12.82 m', ' 6.5 m', ' 70 m', ' 38 m', ' 21.5 m', ' 5 m',\n",
       "       ' 16.4 m', ' 17.3 m', ' 9.5 m', ' 19.6 m', ' 10.8 m', ' 15.31 m',\n",
       "       ' 10.18 m', ' 23.8 m', ' 9.2 m', ' 5.4 m', ' 2452 m', ' 23.25 m',\n",
       "       ' 1750 m', ' 22.38 m', ' 15.7 m', ' 9.3 m', ' 23.71 m', ' 18.3 m',\n",
       "       ' 15.68 m', ' 17.9 m', ' 12.11 m', ' 64 m', ' 12.4 m', ' 125 m',\n",
       "       ' 29.4 m', ' 12.6 m', ' 17.05 m', ' 8.3 m', ' 911 m', ' 11.2 m',\n",
       "       ' 43 m', ' 44 m', ' 13.38 m', ' 7.55 m', ' 12.62 m', ' 34.73 m',\n",
       "       ' 19.1 m', ' 16.25 m', ' 4.1 m', ' 15.73 m', ' 27.6 m', ' 37 m',\n",
       "       ' 25.8 m', ' 24.9 m', ' 10.6 m', ' 16.6 m', ' 25.11 m', ' 13.1 m',\n",
       "       ' 6.9 m', ' 7.2 m', ' 65 m', ' 80 m', ' 100 m', ' 25.9 m',\n",
       "       ' 12.12 m', ' 13.93 m', ' 35.8 m', ' 18.25 m', ' 24.4 m',\n",
       "       ' 11.54 m', ' 11.3 m', ' 18.21 m', ' 13.4 m', ' 21.33 m',\n",
       "       ' 24.3 m', ' 20.7 m', ' 20.6 m', ' 15.6 m', ' 25.4 m', ' 49 m',\n",
       "       ' 3 m', ' 23.3 m', ' 45 m', ' 15.9 m', ' 18.2 m', ' 20.58 m',\n",
       "       ' 13.8 m', ' 2.6 m', ' 14.05 m', ' 39 m', ' 20.4 m', ' 13.7 m',\n",
       "       ' 6.25 m', ' 12.85 m', ' 37.5 m', ' 19.63 m', ' 180 m', ' 24.2 m',\n",
       "       ' 6.2 m', ' 6.75 m', ' 13.32 m', ' 13.53 m', ' 27.1 m', ' 27.2 m',\n",
       "       ' 6.8 m', ' 14.75 m', ' 7.47 m', ' 22.2 m', ' 40.9 m', ' 42.7 m',\n",
       "       ' 18.8 m', ' 12.9 m', ' 9.4 m', ' 15.46 m', ' 11.65 m', ' 2 m',\n",
       "       ' 150 m', ' 400 m', ' 295 m', ' 21.54 m', ' 41.7 m', ' 78 m',\n",
       "       ' 105 m', ' 12.42 m', ' 17.63 m', ' 46 m', ' 8.7 m', ' 15.1 m',\n",
       "       ' 240 m', ' 23.43 m', ' 21.6 m', ' 28.5 m', ' 6.93 m', ' 19.44 m',\n",
       "       ' 14.3 m', ' 51 m', ' 28.6 m', ' 9.75 m', ' 23.6 m', ' 24.13 m',\n",
       "       ' 1020 m', ' 11.22 m', ' 26.4 m', ' 11.8 m', ' 1400 m', ' 1650 m',\n",
       "       ' 14.2 m', ' 16.1 m', ' 10.07 m', ' 52 m', ' 14.92 m', ' 14.25 m',\n",
       "       ' 18.4 m', ' 21.83 m', ' 22.7 m', ' 28.62 m', ' 9.14 m',\n",
       "       ' 13.33 m', ' 16.8 m', ' 26.2 m', ' 6.3 m', ' 10.4 m', ' 14.7 m',\n",
       "       ' 31.1 m', ' 14.6 m', ' 13.19 m', ' 33.33 m', ' 28.4 m', ' 6.7 m',\n",
       "       ' 4.5 m', ' 25.6 m', ' 17.32 m', ' 31.5 m', ' 12.8 m', ' 16.79 m',\n",
       "       ' 26.25 m', ' 17.4 m', ' 9.6 m', ' 21.4 m', ' 4.2 m', ' 8.5 m',\n",
       "       ' 15.18 m', ' 14.74 m', ' 18.16 m', ' 28.25 m', ' 7.6 m', ' 131 m',\n",
       "       ' 24.8 m', ' 16.2 m', ' 20.12 m', ' 30.6 m', ' 5.2 m', ' 24.44 m',\n",
       "       ' 31.6 m', ' 24.1 m', ' 11.75 m', ' 14.1 m', ' 9.76 m', ' 9.7 m',\n",
       "       ' 17.72 m', ' 20.95 m', ' 26.33 m', ' 12.2 m', ' 12.3 m',\n",
       "       ' 11.38 m', ' 17.6 m', ' 15.02 m', ' 32.8 m', ' 24.24 m',\n",
       "       ' 7.48 m', ' 26.1 m', ' 75 m', ' 13.75 m', ' 16.47 m', ' 1175 m',\n",
       "       ' 12.55 m', ' 31.8 m', ' 21.95 m', ' 7.7 m', ' 34.7 m', ' 23.7 m',\n",
       "       ' 10.7 m', ' 7.1 m', ' 28.8 m', ' 7.14 m', ' 30.2 m', ' 20.94 m',\n",
       "       ' 22.9 m', ' 22.6 m', ' 4.08 m', ' 12.17 m', ' 11.4 m', ' 25.29 m',\n",
       "       ' 19.8999 m', ' 20.03 m', ' 19.2 m', ' 23.3999 m', ' 13.15 m',\n",
       "       ' 29.5 m', ' 10.9498 m', ' 116 m', ' 29.3 m', ' 56 m', ' 8.5298 m',\n",
       "       ' 16.58 m', ' 14.7398 m', ' 36.9399 m', ' 6.6 m', ' 21.2 m',\n",
       "       ' 16.62 m'], dtype=object)"
      ]
     },
     "execution_count": 67,
     "metadata": {},
     "output_type": "execute_result"
    }
   ],
   "source": [
    "df['Chiều dài'].unique()"
   ]
  },
  {
   "cell_type": "code",
   "execution_count": 68,
   "id": "e360bf69",
   "metadata": {},
   "outputs": [
    {
     "data": {
      "text/plain": [
       "array([nan, ' 110 m²', ' 130 m²', ' 150 m²', ' 175 m²', ' 225 m²',\n",
       "       ' 180 m²', ' 545 m²', ' 280 m²', ' 170 m²', ' 61 m²', ' 116 m²',\n",
       "       ' 81 m²', ' 208 m²', ' 85 m²', ' 80 m²', ' 75 m²', ' 160 m²',\n",
       "       ' 3000 m²', ' 62 m²', ' 240 m²', ' 135 m²', ' 245 m²', ' 66 m²',\n",
       "       ' 82 m²', ' 286 m²', ' 100 m²', ' 250 m²', ' 350 m²', ' 400 m²',\n",
       "       ' 72 m²', ' 165 m²', ' 868 m²', ' 120 m²', ' 230 m²', ' 360 m²',\n",
       "       ' 210 m²', ' 200 m²', ' 106 m²', ' 50 m²', ' 44 m²', ' 500 m²',\n",
       "       ' 60 m²', ' 213 m²', ' 266 m²', ' 74.6 m²', ' 300 m²', ' 218 m²',\n",
       "       ' 64 m²', ' 420 m²', ' 226 m²', ' 108 m²', ' 222 m²', ' 115 m²',\n",
       "       ' 140 m²', ' 155 m²', ' 93.5 m²', ' 176 m²', ' 2300 m²', ' 264 m²',\n",
       "       ' 441 m²', ' 261 m²', ' 260 m²', ' 364 m²', ' 65 m²', ' 123 m²',\n",
       "       ' 54 m²', ' 126 m²', ' 90 m²', ' 70 m²', ' 114 m²', ' 145 m²',\n",
       "       ' 103 m²', ' 84 m²', ' 435 m²', ' 220 m²', ' 254 m²', ' 484 m²',\n",
       "       ' 416.9 m²', ' 202 m²', ' 51 m²', ' 197 m²', ' 87 m²', ' 69 m²',\n",
       "       ' 201 m²', ' 168 m²', ' 413 m²', ' 206 m²', ' 232 m²', ' 144 m²',\n",
       "       ' 195 m²', ' 164 m²', ' 45 m²', ' 465 m²', ' 443 m²', ' 242.6 m²',\n",
       "       ' 450 m²', ' 270 m²', ' 320 m²', ' 55 m²', ' 172 m²', ' 700 m²',\n",
       "       ' 215 m²', ' 93 m²', ' 95 m²', ' 375 m²', ' 30 m²', ' 4925 m²',\n",
       "       ' 251 m²', ' 643 m²', ' 480 m²', ' 112.3 m²', ' 40 m²', ' 411 m²',\n",
       "       ' 166 m²', ' 600 m²', ' 268 m²', ' 1000 m²', ' 92 m²', ' 94 m²',\n",
       "       ' 68 m²', ' 66.6 m²', ' 119 m²', ' 88 m²', ' 297 m²', ' 414 m²',\n",
       "       ' 238.6 m²', ' 176.4 m²', ' 163 m²', ' 54.6 m²', ' 181 m²',\n",
       "       ' 76 m²', ' 65.5 m²', ' 199 m²', ' 142 m²', ' 83.3 m²', ' 239 m²',\n",
       "       ' 299 m²', ' 183 m²', ' 190 m²', ' 12 m²', ' 485 m²', ' 850 m²',\n",
       "       ' 284 m²', ' 120.6 m²', ' 101 m²', ' 136 m²', ' 233 m²', ' 59 m²',\n",
       "       ' 52 m²', ' 113 m²', ' 102 m²', ' 75.5 m²', ' 78 m²', ' 167 m²',\n",
       "       ' 336 m²', ' 244 m²', ' 75.2 m²', ' 430 m²', ' 275 m²', ' 179 m²',\n",
       "       ' 330 m²', ' 118 m²', ' 316.7 m²', ' 125 m²', ' 243 m²', ' 380 m²',\n",
       "       ' 323 m²', ' 156 m²', ' 216 m²', ' 107 m²', ' 340 m²', ' 234 m²',\n",
       "       ' 143 m²', ' 1150 m²', ' 453 m²', ' 173 m²', ' 112 m²', ' 11 m²',\n",
       "       ' 410 m²', ' 41 m²', ' 48 m²', ' 74 m²', ' 411.7 m²', ' 184.1 m²',\n",
       "       ' 237 m²', ' 42 m²', ' 105 m²', ' 158.4 m²', ' 97 m²', ' 221.9 m²',\n",
       "       ' 84.6 m²', ' 174.6 m²', ' 252 m²', ' 290 m²', ' 525 m²',\n",
       "       ' 141 m²', ' 56.6 m²', ' 79 m²', ' 153 m²', ' 855 m²', ' 86 m²',\n",
       "       ' 345 m²', ' 178 m²', ' 43 m²', ' 171 m²', ' 51.2 m²', ' 258 m²',\n",
       "       ' 77 m²', ' 405 m²', ' 82.5 m²', ' 539 m²', ' 39.9 m²', ' 124 m²',\n",
       "       ' 402 m²', ' 195.8 m²', ' 96 m²', ' 153.2 m²', ' 459 m²',\n",
       "       ' 253 m²', ' 109 m²', ' 192 m²', ' 152 m²', ' 168.3 m²', ' 122 m²',\n",
       "       ' 517 m²', ' 322 m²', ' 292 m²', ' 293 m²', ' 127 m²', ' 276 m²',\n",
       "       ' 246 m²', ' 100.4 m²', ' 390 m²', ' 227 m²', ' 328 m²', ' 725 m²',\n",
       "       ' 154.4 m²', ' 131 m²', ' 83 m²', ' 307.6 m²', ' 378 m²',\n",
       "       ' 436 m²', ' 58 m²', ' 60.1 m²', ' 193.5 m²', ' 1050 m²',\n",
       "       ' 163.2 m²', ' 121.5 m²', ' 27 m²', ' 235 m²', ' 161.6 m²',\n",
       "       ' 285 m²', ' 53.1 m²', ' 67 m²', ' 147 m²', ' 316 m²', ' 201.6 m²',\n",
       "       ' 63 m²', ' 158 m²', ' 47.4 m²', ' 52.99 m²', ' 5 m²', ' 106.7 m²',\n",
       "       ' 148 m²', ' 91 m²', ' 32 m²', ' 80.9 m²', ' 87.4 m²', ' 188.5 m²',\n",
       "       ' 229 m²', ' 315 m²', ' 547 m²', ' 98 m²', ' 154 m²', ' 242 m²',\n",
       "       ' 199.6 m²', ' 374.2 m²', ' 56 m²', ' 68.4 m²', ' 177.4 m²',\n",
       "       ' 109.6 m²', ' 182.5 m²', ' 186 m²', ' 242.5 m²', ' 54.5 m²',\n",
       "       ' 25.8 m²', ' 937 m²', ' 104 m²', ' 184.3 m²', ' 295 m²',\n",
       "       ' 458 m²', ' 95.5 m²', ' 111111 m²', ' 312 m²', ' 112.7 m²',\n",
       "       ' 205 m²', ' 214 m²', ' 184 m²', ' 163.6 m²', ' 217 m²', ' 241 m²',\n",
       "       ' 432 m²', ' 85.5 m²', ' 129 m²', ' 82.4 m²', ' 282 m²', ' 73 m²',\n",
       "       ' 1095 m²', ' 47 m²', ' 196 m²', ' 157 m²', ' 122.5 m²', ' 121 m²',\n",
       "       ' 134 m²', ' 519 m²', ' 99 m²', ' 162 m²', ' 151 m²', ' 976 m²',\n",
       "       ' 1200 m²', ' 288 m²', ' 132 m²', ' 470 m²', ' 1120 m²', ' 71 m²',\n",
       "       ' 550 m²', ' 354 m²', ' 411.9 m²', ' 521 m²', ' 575 m²', ' 174 m²',\n",
       "       ' 305 m²', ' 690 m²', ' 231 m²', ' 228 m²', ' 310 m²', ' 256 m²',\n",
       "       ' 162.8 m²', ' 247 m²', ' 279 m²', ' 708 m²', ' 510 m²', ' 204 m²',\n",
       "       ' 507 m²', ' 193 m²', ' 118.5 m²', ' 1157 m²', ' 317 m²',\n",
       "       ' 885 m²', ' 221 m²', ' 45.4 m²', ' 185 m²', ' 630 m²', ' 255 m²',\n",
       "       ' 463 m²', ' 265 m²', ' 169 m²', ' 128.5 m²', ' 224 m²', ' 520 m²',\n",
       "       ' 376 m²', ' 309 m²', ' 468 m²', ' 756 m²', ' 89.7 m²', ' 8 m²',\n",
       "       ' 456 m²', ' 1260 m²', ' 324 m²', ' 28 m²', ' 615 m²', ' 44.3 m²',\n",
       "       ' 530 m²', ' 830 m²', ' 85.9 m²', ' 128 m²', ' 555 m²', ' 117 m²',\n",
       "       ' 257 m²', ' 262 m²', ' 580 m²', ' 73.5 m²', ' 1024 m²', ' 263 m²',\n",
       "       ' 650 m²', ' 900 m²', ' 236 m²', ' 249 m²', ' 57.4 m²', ' 558 m²',\n",
       "       ' 798 m²', ' 840 m²', ' 111 m²', ' 33 m²', ' 75.6 m²', ' 214.7 m²',\n",
       "       ' 238 m²', ' 116.3 m²', ' 223.2 m²', ' 114.8 m²', ' 35 m²',\n",
       "       ' 1400 m²', ' 95.3 m²', ' 92.5 m²', ' 369 m²', ' 138 m²',\n",
       "       ' 383 m²', ' 109.7 m²', ' 137 m²', ' 130.3 m²', ' 46 m²',\n",
       "       ' 540 m²', ' 142.3 m²', ' 800 m²', ' 64.4 m²', ' 318 m²',\n",
       "       ' 187 m²', ' 37.5 m²', ' 188 m²', ' 310.5 m²', ' 191 m²',\n",
       "       ' 660 m²', ' 95.1 m²', ' 750 m²', ' 632 m²', ' 366 m²',\n",
       "       ' 201.8 m²', ' 880 m²', ' 39 m²', ' 212 m²', ' 167.3999 m²',\n",
       "       ' 311.8999 m²', ' 38 m²', ' 177.5 m²', ' 212.6999 m²', ' 455 m²',\n",
       "       ' 734 m²', ' 628 m²', ' 411.8999 m²', ' 186.6 m²', ' 194 m²',\n",
       "       ' 177 m²', ' 338 m²', ' 199.7 m²', ' 368 m²', ' 365 m²',\n",
       "       ' 117.4 m²', ' 696 m²', ' 430.7999 m²', ' 248 m²', ' 53 m²',\n",
       "       ' 96.3 m²', ' 736 m²', ' 91.4 m²', ' 67.5 m²', ' 233.6999 m²',\n",
       "       ' 105.5998 m²'], dtype=object)"
      ]
     },
     "execution_count": 68,
     "metadata": {},
     "output_type": "execute_result"
    }
   ],
   "source": [
    "df['Diện tích sử dụng'].unique()"
   ]
  },
  {
   "cell_type": "code",
   "execution_count": 69,
   "id": "712e576a",
   "metadata": {},
   "outputs": [],
   "source": [
    "df['Chiều ngang']=df['Chiều ngang'].apply(lambda x: float(str(x).split()[0]))\n",
    "df['Chiều dài']=df['Chiều dài'].apply(lambda x: float(str(x).split()[0]))\n",
    "df['Diện tích sử dụng']=df['Diện tích sử dụng'].apply(lambda x: float(str(x).split()[0]))"
   ]
  },
  {
   "cell_type": "markdown",
   "id": "d05c3622",
   "metadata": {},
   "source": [
    "# Đặt điểm nhà/đất"
   ]
  },
  {
   "cell_type": "code",
   "execution_count": 70,
   "id": "5fae3cc4",
   "metadata": {},
   "outputs": [
    {
     "data": {
      "text/plain": [
       "array([nan, ' Mặt tiền', ' Hẻm xe hơi', ' Nở hậu', ' Hẻm xe hơi,Nở hậu',\n",
       "       ' Mặt tiền,Nở hậu', ' Hẻm xe hơi,Nở hậu,Mặt tiền',\n",
       "       ' Nở hậu,Hẻm xe hơi', ' Mặt tiền,Hẻm xe hơi,Nở hậu',\n",
       "       ' Mặt tiền,Nở hậu,Hẻm xe hơi', ' Hẻm xe hơi,Mặt tiền',\n",
       "       ' Nở hậu,Mặt tiền', ' Mặt tiền,Hẻm xe hơi',\n",
       "       ' Nở hậu,Mặt tiền,Hẻm xe hơi', '1', ' Hẻm xe hơi,Mặt tiền,Nở hậu',\n",
       "       ' Nở hậu,Hẻm xe hơi,Mặt tiền'], dtype=object)"
      ]
     },
     "execution_count": 70,
     "metadata": {},
     "output_type": "execute_result"
    }
   ],
   "source": [
    "df['Đặc điểm nhà/đất'].unique()"
   ]
  },
  {
   "cell_type": "code",
   "execution_count": 71,
   "id": "20d564ea",
   "metadata": {},
   "outputs": [],
   "source": [
    "df['Đặc điểm nhà/đất']=df['Đặc điểm nhà/đất'].str.strip()"
   ]
  },
  {
   "cell_type": "code",
   "execution_count": 72,
   "id": "7133167c",
   "metadata": {},
   "outputs": [],
   "source": [
    "def replace_f(text):\n",
    "    if isinstance(text, str):\n",
    "        text = text.strip().lower()\n",
    "        if ('hẻm xe hơi' in text) and ('nở hậu' in text) and ('mặt tiền' in text):\n",
    "            return 'Mặt tiền, Hẻm xe hơi, Nở hậu'\n",
    "        elif ('hẻm xe hơi' in text) and ('nở hậu' in text):\n",
    "            return 'Hẻm xe hơi, Nở hậu'\n",
    "        elif ('hẻm xe hơi' in text)  and ('mặt tiền' in text):\n",
    "            return 'Mặt tiền, Hẻm xe hơi'\n",
    "        elif ('nở hậu' in text) and ('mặt tiền' in text):\n",
    "            return 'Mặt tiền, Nở hậu'\n",
    "        elif ('hẻm xe hơi' in text):\n",
    "            return 'Hẻm xe hơi'\n",
    "        elif ('nở hậu' in text):\n",
    "            return 'Nở hậu'\n",
    "        elif ('mặt tiền' in text):\n",
    "            return 'Mặt tiền'\n",
    "        else:\n",
    "            return text\n",
    "    else:\n",
    "        return text"
   ]
  },
  {
   "cell_type": "code",
   "execution_count": 73,
   "id": "ac1a05eb",
   "metadata": {},
   "outputs": [],
   "source": [
    "df['Đặc điểm nhà/đất']=df['Đặc điểm nhà/đất'].apply(replace_f)"
   ]
  },
  {
   "cell_type": "markdown",
   "id": "28657f2e",
   "metadata": {},
   "source": [
    "# Số phòng ngủ, Số phòng vệ sinh"
   ]
  },
  {
   "cell_type": "code",
   "execution_count": 74,
   "id": "67e0e442",
   "metadata": {},
   "outputs": [
    {
     "data": {
      "text/plain": [
       "array([nan, ' 3 phòng', ' nhiều hơn 10 phòng', ' 5 phòng', ' 6 phòng',\n",
       "       ' 1 phòng', ' 2 phòng', ' 4 phòng', ' 7 phòng', ' 8 phòng',\n",
       "       ' 9 phòng', ' 10 phòng'], dtype=object)"
      ]
     },
     "execution_count": 74,
     "metadata": {},
     "output_type": "execute_result"
    }
   ],
   "source": [
    "df['Số phòng ngủ'].unique()"
   ]
  },
  {
   "cell_type": "code",
   "execution_count": 75,
   "id": "2552749f",
   "metadata": {},
   "outputs": [
    {
     "data": {
      "text/plain": [
       "array([nan, ' 3 phòng', ' 2 phòng', ' Nhiều hơn 6 phòng', ' 6 phòng',\n",
       "       ' 1 phòng', ' 4 phòng', ' 5 phòng'], dtype=object)"
      ]
     },
     "execution_count": 75,
     "metadata": {},
     "output_type": "execute_result"
    }
   ],
   "source": [
    "df['Số phòng vệ sinh'].unique()"
   ]
  },
  {
   "cell_type": "code",
   "execution_count": 76,
   "id": "3aa5365f",
   "metadata": {},
   "outputs": [],
   "source": [
    "df['Số phòng ngủ']=df['Số phòng ngủ'].astype(str)\n",
    "df['Số phòng ngủ'] = df['Số phòng ngủ'].apply(lambda x: re.search(r'\\d+', x).group() if re.search(r'\\d+', x) else None)"
   ]
  },
  {
   "cell_type": "code",
   "execution_count": 77,
   "id": "8cec843f",
   "metadata": {},
   "outputs": [],
   "source": [
    "df['Số phòng vệ sinh']=df['Số phòng vệ sinh'].astype(str)\n",
    "df['Số phòng vệ sinh'] = df['Số phòng vệ sinh'].apply(lambda x: re.search(r'\\d+', x).group() if re.search(r'\\d+', x) else None)"
   ]
  },
  {
   "cell_type": "markdown",
   "id": "bc479663",
   "metadata": {},
   "source": [
    "# Tổng số tầng, tầng số"
   ]
  },
  {
   "cell_type": "code",
   "execution_count": 78,
   "id": "c3028dbf",
   "metadata": {},
   "outputs": [
    {
     "data": {
      "text/plain": [
       "array([ nan,   2.,   3.,   1.,   4.,   5.,  10.,   6.,   8.,   7.,  14.,\n",
       "        11.,  35., 275.,  66., 153.])"
      ]
     },
     "execution_count": 78,
     "metadata": {},
     "output_type": "execute_result"
    }
   ],
   "source": [
    "df['Tổng số tầng'].unique()"
   ]
  },
  {
   "cell_type": "code",
   "execution_count": 79,
   "id": "c0b39f2c",
   "metadata": {},
   "outputs": [
    {
     "data": {
      "text/plain": [
       "array([ nan,   9.,   2.,   8.,   6.,   7.,   4.,  34.,  23.,   3.,  18.,\n",
       "        10.,  28.,  16.,  15.,  11.,  14.,   5.,  12.,  29.,  25.,   1.,\n",
       "        20.,  17.,  31.,  27.,  26.,  30.,  13.,  19.,  21.,  22.,  36.,\n",
       "        33., 810.,  24.,  32.])"
      ]
     },
     "execution_count": 79,
     "metadata": {},
     "output_type": "execute_result"
    }
   ],
   "source": [
    "df['Tầng số'].unique()"
   ]
  },
  {
   "cell_type": "markdown",
   "id": "020a4001",
   "metadata": {},
   "source": [
    "# Tình trạng nội thất, tình trạng bất động sản"
   ]
  },
  {
   "cell_type": "code",
   "execution_count": 80,
   "id": "4bc6b79f",
   "metadata": {},
   "outputs": [
    {
     "data": {
      "text/plain": [
       "array([nan, ' Nội thất cao cấp', ' Nội thất đầy đủ', ' Bàn giao thô',\n",
       "       ' Nhà trống'], dtype=object)"
      ]
     },
     "execution_count": 80,
     "metadata": {},
     "output_type": "execute_result"
    }
   ],
   "source": [
    "df['Tình trạng nội thất'].unique()"
   ]
  },
  {
   "cell_type": "code",
   "execution_count": 81,
   "id": "d4f1c98c",
   "metadata": {},
   "outputs": [],
   "source": [
    "df['Tình trạng nội thất']=df['Tình trạng nội thất'].str.strip()"
   ]
  },
  {
   "cell_type": "code",
   "execution_count": 82,
   "id": "688bba41",
   "metadata": {},
   "outputs": [],
   "source": [
    "df['Tình trạng nội thất']=df['Tình trạng nội thất'].apply(lambda x: str(x).replace('Nhà trống', 'Không nội thất'))"
   ]
  },
  {
   "cell_type": "code",
   "execution_count": 83,
   "id": "8e304813",
   "metadata": {},
   "outputs": [
    {
     "data": {
      "text/plain": [
       "array([nan, ' Chưa bàn giao', ' Đã bàn giao'], dtype=object)"
      ]
     },
     "execution_count": 83,
     "metadata": {},
     "output_type": "execute_result"
    }
   ],
   "source": [
    "df['Tình trạng bất động sản'].unique()"
   ]
  },
  {
   "cell_type": "code",
   "execution_count": 84,
   "id": "fe3ed26c",
   "metadata": {},
   "outputs": [],
   "source": [
    "df['Tình trạng bất động sản']=df['Tình trạng bất động sản'].str.strip()"
   ]
  },
  {
   "cell_type": "markdown",
   "id": "6014e4b2",
   "metadata": {},
   "source": [
    "# Mã căn, mã lô"
   ]
  },
  {
   "cell_type": "code",
   "execution_count": 85,
   "id": "4ddbb422",
   "metadata": {},
   "outputs": [
    {
     "data": {
      "text/plain": [
       "array([nan, '205', '9999', '8888', '1', '10', '12', '38', ' P2-16.13',\n",
       "       ' V1', '905271165', ' P2-07.08', '250', '5', '2903', '904',\n",
       "       ' P2-13.16', ' P2-03.12', '1606', '2105', ' P2-07.12', '11',\n",
       "       '2607', ' P103A09', ' P10515', '75', ' CT10', '407', '140', '608',\n",
       "       ' 6B06', '616', '9', ' CT10-CH01.07', ' CTO2', ' CH-07-07',\n",
       "       ' P208-07', ' 11A08', ' B3-21-11', ' 12A05', ' k218', '3',\n",
       "       ' P21508', ' P1508', ' B2.50', '17', ' P210-02', ' P2-10.09',\n",
       "       ' P2-09.08', '68', '2202', ' P2-08.05', '58', ' P2-16.20', '14',\n",
       "       ' P2-12B.8', '1596', ' P2-8.20', ' 03A', '97', ' b2', '6', '2',\n",
       "       ' P2-05.08', ' hhk', ' P2-14.08', ' BT07-A10', ' P2-14-08', ' E3',\n",
       "       '983611388', '508', ' p2-18-21', '124', '161', '505', '101', '79',\n",
       "       '132'], dtype=object)"
      ]
     },
     "execution_count": 85,
     "metadata": {},
     "output_type": "execute_result"
    }
   ],
   "source": [
    "df['Mã căn'].unique()"
   ]
  },
  {
   "cell_type": "code",
   "execution_count": 86,
   "id": "4d3760d8",
   "metadata": {},
   "outputs": [
    {
     "data": {
      "text/plain": [
       "array([nan, '1111', '8888', '27', '16', ' B2.124', ' B3.36', ' B2.134',\n",
       "       ' B2.41', '12', '46', '168', '38', '18', '15', '90', '213',\n",
       "       ' B2A-10', ' E', ' B1', '356', '47', '68', ' B2.88', ' NCL', '32',\n",
       "       '48', '118', ' B5-15x', ' b1-1 -38', ' Can ban lo dat 5x25', '7',\n",
       "       ' 33 36', '94', ' 1x', '1', '110', '59', '120', '1458', '702',\n",
       "       '983611388', '467', ' 15x', '43.42', '367', '35', '5', '764',\n",
       "       ' B2.3.3', '37', '29', '93', '115', '354', ' K31 & 32', '395', '4',\n",
       "       '1517', '233', '111', '79', '52', ' Lo 58', ' B2-125', '1829', '9',\n",
       "       '25', '10', '30', '379'], dtype=object)"
      ]
     },
     "execution_count": 86,
     "metadata": {},
     "output_type": "execute_result"
    }
   ],
   "source": [
    "df['Mã lô'].unique()"
   ]
  },
  {
   "cell_type": "code",
   "execution_count": 87,
   "id": "a504adb1",
   "metadata": {},
   "outputs": [],
   "source": [
    "df['Mã căn']=df['Mã căn'].str.strip()\n",
    "df['Mã lô']=df['Mã lô'].str.strip()"
   ]
  },
  {
   "cell_type": "markdown",
   "id": "e4255d6f",
   "metadata": {},
   "source": [
    "# Đặc điểm căn hộ"
   ]
  },
  {
   "cell_type": "code",
   "execution_count": 88,
   "id": "e577cc8b",
   "metadata": {},
   "outputs": [
    {
     "data": {
      "text/plain": [
       "array([nan, ' Căn góc'], dtype=object)"
      ]
     },
     "execution_count": 88,
     "metadata": {},
     "output_type": "execute_result"
    }
   ],
   "source": [
    "df['Đặc điểm căn hộ'].unique()"
   ]
  },
  {
   "cell_type": "code",
   "execution_count": 89,
   "id": "e0dd1af1",
   "metadata": {},
   "outputs": [],
   "source": [
    "df['Đặc điểm căn hộ']=df['Đặc điểm căn hộ'].str.strip()"
   ]
  },
  {
   "cell_type": "markdown",
   "id": "002bf4dc",
   "metadata": {},
   "source": [
    "# Số tiền cọc"
   ]
  },
  {
   "cell_type": "code",
   "execution_count": 90,
   "id": "a1da3040",
   "metadata": {
    "scrolled": true
   },
   "outputs": [],
   "source": [
    "# df['Số tiền cọc'].unique()"
   ]
  },
  {
   "cell_type": "code",
   "execution_count": 91,
   "id": "637c038a",
   "metadata": {},
   "outputs": [],
   "source": [
    "df['Số tiền cọc']=df['Số tiền cọc'].apply( lambda x: float(str(x).strip().replace('.','').split()[0]))"
   ]
  },
  {
   "cell_type": "markdown",
   "id": "0a747b60",
   "metadata": {},
   "source": [
    "# Mô tả"
   ]
  },
  {
   "cell_type": "code",
   "execution_count": 92,
   "id": "d1bb5b9b",
   "metadata": {},
   "outputs": [
    {
     "data": {
      "text/plain": [
       "array(['💥💥💥Đất rộng lại giá tốt 40.000m có sẵn vườn cây ăn quả, đất có sẵn nhà tiền chế kiên cố khoảng 300m2,hàng rào lưới b40, đèn năng lượng bắt quanh vườn.\\n💥💥💥Đường bê tông kiên cố\\nTường rào cổng nhà xây sẵn đất 3 mặt tiền\\n🌹🌹🌹Vị trí hoà ninh không quy hoạch\\ncách ubnd cách chợ trường học chỉ 1km,cách Bà nà hills chỉ 4km\\nDi chuyển về tttp Đà Nẵng chỉ có 15km\\nHình ảnh thực tế của lô đất\\nLH. *** Minh Phương Phát',\n",
       "       '+ Bán đất số 21 Đỗ Nhuận, khu Trung Nghĩa, phường Hòa Minh, DTĐ: 250m². Đường 5m5 lề 3m, ô tô đậu thoải mái.\\n\\n+ Khu dân cư trí thức, yên tĩnh, phù hợp để làm nhà ở.\\n\\n+ Hướng Tây Nam.\\n+ Ngân hàng hỗ ',\n",
       "       'Bán nhà kiệt 82 Nguyễn Văn Linh, hẻm 3m5, cách đường Nguyễn Văn Linh khoảng 100 m.\\nVị trí đẹp ngay trung tâm thành phố. DTĐ: 140m², Chiều ngang 7m, DTSD: 110m². Lô đất rất giá trị, rất khó tìm lô đất tương tự ở ngay trung tâm thành phố!\\n\\nNhà gồm 3PN, 3WC, nhà đẹp, sạch sẽ. Hướng chính Tây.\\n\\nGiá: 4.95 tỷ.\\nLiên hệ chính chủ A. Quốc.\\n\\nCó hoa hồng 1% cho người giới thiệu.',\n",
       "       ...,\n",
       "       'CHÍNH CHỦ BÁN NHÀ FULL NỘI THẤT 3PN NGAY TRUNG TÂM TP. ĐÀ NẴNG\\n- ĐC: 2/8 Đinh Tiên Hoàng ,phường Thanh Bình ,Quận Hải Châu, Đà Nẵng.\\n- DT: 45m2, full thổ cư, nhà rộng để xe thoải mái.\\n- Kiệt trước 3m.\\n- Nhà gồm: Nhà đầy đủ phòng khách, 3 phòng ngủ, 3 wc, 1 p thờ, 1 sân để xe, 1 sân phơi... rộng rãi thoáng mát.\\n- Vị trí: Đấu lưng Nhà Ông Ích Khiêm Đà Nẵng đẹp thuận tiện kinh doanh, buôn bán.\\n- Tiện ích: Gần trường, bước chân đến chợ, .... Dân cư đông đúc, xung quanh đầy đủ tiện nghi, giao thông thuận tiện, an ninh tốt.\\n- Đầy đủ công năng, full nội thất, có giếng trời lưu thông gió, lấy nắng tự nhiên, các phòng đều không cần bật điện ban ngày.\\n- Pháp lý: Sổ đầy đủ\\n- Giá bán: 3,4 tỷ \\nLiên hệ số điện thoại để biết thông tin chi tiết:\\n***',\n",
       "       'ĐẤT TĐC HOÀ SƠN 7 , đường nhựa 5,5m. Lề mỗi bên 3m\\nDân cư đông đúc\\nGần tất cả các tiện ích xung quanh\\nTrường học cấp 1-2-3,sân bóng, chợ , uỷ ban, trạm y tế.....\\nGiá 1,2xx tỷ \\n***',\n",
       "       'Anh tôi có lô đất mua từ năm 2018 , giờ càn tiền nên bán\\nLô đất mặt tiền đường 5,5m Đa Mặn hướng Tây Bắc \\nSát công viên rất thoáng mát . Khu vực dân trí cao nhiều Bác sĩ BV 600g sinh sống \\nMua ở hay đầu tư đều thích hợp'],\n",
       "      dtype=object)"
      ]
     },
     "execution_count": 92,
     "metadata": {},
     "output_type": "execute_result"
    }
   ],
   "source": [
    "df['Mô tả'].unique()"
   ]
  },
  {
   "cell_type": "markdown",
   "id": "2c1c6424",
   "metadata": {},
   "source": [
    "# Rename columns"
   ]
  },
  {
   "cell_type": "code",
   "execution_count": 93,
   "id": "6065eee3",
   "metadata": {},
   "outputs": [
    {
     "data": {
      "text/plain": [
       "Index(['post_id', 'Loại tin', 'Tiêu đề', 'Giá', 'Diện tích', 'Địa chỉ',\n",
       "       'Giá/m2', 'Giấy tờ pháp lý', 'Loại hình đất', 'Mô tả', 'URL', 'date',\n",
       "       'Liên hệ', 'card_visit', 'Hướng cửa chính', 'Chiều ngang', 'Chiều dài',\n",
       "       'Đặc điểm nhà/đất', 'Số phòng ngủ', 'Số phòng vệ sinh',\n",
       "       'Loại hình nhà ở', 'Diện tích sử dụng', 'Tổng số tầng',\n",
       "       'Tình trạng nội thất', 'Tên phân khu/Lô/Block/Tháp',\n",
       "       'Tình trạng bất động sản', 'Tầng số', 'Hướng ban công',\n",
       "       'Loại hình căn hộ', 'Loại hình văn phòng', 'Mã căn', 'Đặc điểm căn hộ',\n",
       "       'Mã lô', 'Số tiền cọc', 'Diện tích đất'],\n",
       "      dtype='object')"
      ]
     },
     "execution_count": 93,
     "metadata": {},
     "output_type": "execute_result"
    }
   ],
   "source": [
    "df.columns"
   ]
  },
  {
   "cell_type": "code",
   "execution_count": 94,
   "id": "83fa8403",
   "metadata": {},
   "outputs": [],
   "source": [
    "df=df.rename(columns={'Giấy tờ pháp lý':'Pháp lý','Liên hệ':'Tên người dùng','date':'Ngày crawl',\n",
    "                      'Tình trạng nội thất':'Nội thất','Số phòng vệ sinh':'Số toilet','Hướng cửa chính':'Hướng nhà'})"
   ]
  },
  {
   "cell_type": "markdown",
   "id": "234ae100",
   "metadata": {},
   "source": [
    "# Save data"
   ]
  },
  {
   "cell_type": "code",
   "execution_count": 95,
   "id": "5e57bc47",
   "metadata": {},
   "outputs": [
    {
     "data": {
      "text/html": [
       "<div>\n",
       "<style scoped>\n",
       "    .dataframe tbody tr th:only-of-type {\n",
       "        vertical-align: middle;\n",
       "    }\n",
       "\n",
       "    .dataframe tbody tr th {\n",
       "        vertical-align: top;\n",
       "    }\n",
       "\n",
       "    .dataframe thead th {\n",
       "        text-align: right;\n",
       "    }\n",
       "</style>\n",
       "<table border=\"1\" class=\"dataframe\">\n",
       "  <thead>\n",
       "    <tr style=\"text-align: right;\">\n",
       "      <th></th>\n",
       "      <th>post_id</th>\n",
       "      <th>Loại tin</th>\n",
       "      <th>Tiêu đề</th>\n",
       "      <th>Giá</th>\n",
       "      <th>Diện tích</th>\n",
       "      <th>Địa chỉ</th>\n",
       "      <th>Giá/m2</th>\n",
       "      <th>Pháp lý</th>\n",
       "      <th>Loại hình đất</th>\n",
       "      <th>Mô tả</th>\n",
       "      <th>...</th>\n",
       "      <th>Tình trạng bất động sản</th>\n",
       "      <th>Tầng số</th>\n",
       "      <th>Hướng ban công</th>\n",
       "      <th>Loại hình căn hộ</th>\n",
       "      <th>Loại hình văn phòng</th>\n",
       "      <th>Mã căn</th>\n",
       "      <th>Đặc điểm căn hộ</th>\n",
       "      <th>Mã lô</th>\n",
       "      <th>Số tiền cọc</th>\n",
       "      <th>Diện tích đất</th>\n",
       "    </tr>\n",
       "  </thead>\n",
       "  <tbody>\n",
       "    <tr>\n",
       "      <th>0</th>\n",
       "      <td>110154174</td>\n",
       "      <td>Mua bán</td>\n",
       "      <td>Bán 4ha đất vườn sổ đỏ có sẳn trang trại nhà v...</td>\n",
       "      <td>9.500000e+09</td>\n",
       "      <td>40000.0</td>\n",
       "      <td>DT 602, Xã Hòa Ninh, Huyện Hòa Vang, Đà Nẵng</td>\n",
       "      <td>237500.0</td>\n",
       "      <td>Đã có sổ</td>\n",
       "      <td>Đất nông nghiệp</td>\n",
       "      <td>💥💥💥Đất rộng lại giá tốt 40.000m có sẵn vườn câ...</td>\n",
       "      <td>...</td>\n",
       "      <td>NaN</td>\n",
       "      <td>NaN</td>\n",
       "      <td>NaN</td>\n",
       "      <td>NaN</td>\n",
       "      <td>NaN</td>\n",
       "      <td>NaN</td>\n",
       "      <td>NaN</td>\n",
       "      <td>NaN</td>\n",
       "      <td>NaN</td>\n",
       "      <td>NaN</td>\n",
       "    </tr>\n",
       "    <tr>\n",
       "      <th>1</th>\n",
       "      <td>102957944</td>\n",
       "      <td>Mua bán</td>\n",
       "      <td>Bán đất 21 Đỗ Nhuận, dt: 250m2, ngang 8m, nở h...</td>\n",
       "      <td>8.200000e+09</td>\n",
       "      <td>250.0</td>\n",
       "      <td>21, Đường Đỗ Nhuận, Phường Hòa Minh, Quận Liên...</td>\n",
       "      <td>32800000.0</td>\n",
       "      <td>Đã có sổ</td>\n",
       "      <td>Đất thổ cư</td>\n",
       "      <td>+ Bán đất số 21 Đỗ Nhuận, khu Trung Nghĩa, phư...</td>\n",
       "      <td>...</td>\n",
       "      <td>NaN</td>\n",
       "      <td>NaN</td>\n",
       "      <td>NaN</td>\n",
       "      <td>NaN</td>\n",
       "      <td>NaN</td>\n",
       "      <td>NaN</td>\n",
       "      <td>NaN</td>\n",
       "      <td>NaN</td>\n",
       "      <td>NaN</td>\n",
       "      <td>NaN</td>\n",
       "    </tr>\n",
       "    <tr>\n",
       "      <th>2</th>\n",
       "      <td>108055434</td>\n",
       "      <td>Mua bán</td>\n",
       "      <td>Bán nhà hẻm 3m5 Nguyễn Văn Linh, 140m2 đất, ng...</td>\n",
       "      <td>4.950000e+09</td>\n",
       "      <td>140.0</td>\n",
       "      <td>K82/H10/36, Nguyễn văn linh, Phường Nam Dương,...</td>\n",
       "      <td>35360000.0</td>\n",
       "      <td>Đã có sổ</td>\n",
       "      <td>NaN</td>\n",
       "      <td>Bán nhà kiệt 82 Nguyễn Văn Linh, hẻm 3m5, cách...</td>\n",
       "      <td>...</td>\n",
       "      <td>NaN</td>\n",
       "      <td>NaN</td>\n",
       "      <td>NaN</td>\n",
       "      <td>NaN</td>\n",
       "      <td>NaN</td>\n",
       "      <td>NaN</td>\n",
       "      <td>NaN</td>\n",
       "      <td>NaN</td>\n",
       "      <td>NaN</td>\n",
       "      <td>NaN</td>\n",
       "    </tr>\n",
       "    <tr>\n",
       "      <th>3</th>\n",
       "      <td>102942264</td>\n",
       "      <td>Mua bán</td>\n",
       "      <td>Bán đất hẻm 3m 59/31 Núi Thành, 162m2, 4.25 tỷ...</td>\n",
       "      <td>4.250000e+09</td>\n",
       "      <td>162.0</td>\n",
       "      <td>Kiệt 59 Núi Thành, Phường Bình Hiên, Quận Hải ...</td>\n",
       "      <td>26230000.0</td>\n",
       "      <td>NaN</td>\n",
       "      <td>Đất thổ cư</td>\n",
       "      <td>Bán đất hẻm 3m số 59/31 Núi Thành, cách đường ...</td>\n",
       "      <td>...</td>\n",
       "      <td>NaN</td>\n",
       "      <td>NaN</td>\n",
       "      <td>NaN</td>\n",
       "      <td>NaN</td>\n",
       "      <td>NaN</td>\n",
       "      <td>NaN</td>\n",
       "      <td>NaN</td>\n",
       "      <td>NaN</td>\n",
       "      <td>NaN</td>\n",
       "      <td>NaN</td>\n",
       "    </tr>\n",
       "    <tr>\n",
       "      <th>4</th>\n",
       "      <td>110181789</td>\n",
       "      <td>Mua bán</td>\n",
       "      <td>Nhà 2 tầng 2 mặt kiệt ngay biển Nguyễn Tất Thà...</td>\n",
       "      <td>2.950000e+09</td>\n",
       "      <td>62.0</td>\n",
       "      <td>K1/20, Tôn Thất Đạm, Phường Xuân Hà, Quận Than...</td>\n",
       "      <td>47580000.0</td>\n",
       "      <td>Đã có sổ</td>\n",
       "      <td>NaN</td>\n",
       "      <td>Tôi là chính chủ cần bán nhà tại địa chỉ K1/20...</td>\n",
       "      <td>...</td>\n",
       "      <td>NaN</td>\n",
       "      <td>NaN</td>\n",
       "      <td>NaN</td>\n",
       "      <td>NaN</td>\n",
       "      <td>NaN</td>\n",
       "      <td>NaN</td>\n",
       "      <td>NaN</td>\n",
       "      <td>NaN</td>\n",
       "      <td>NaN</td>\n",
       "      <td>NaN</td>\n",
       "    </tr>\n",
       "    <tr>\n",
       "      <th>...</th>\n",
       "      <td>...</td>\n",
       "      <td>...</td>\n",
       "      <td>...</td>\n",
       "      <td>...</td>\n",
       "      <td>...</td>\n",
       "      <td>...</td>\n",
       "      <td>...</td>\n",
       "      <td>...</td>\n",
       "      <td>...</td>\n",
       "      <td>...</td>\n",
       "      <td>...</td>\n",
       "      <td>...</td>\n",
       "      <td>...</td>\n",
       "      <td>...</td>\n",
       "      <td>...</td>\n",
       "      <td>...</td>\n",
       "      <td>...</td>\n",
       "      <td>...</td>\n",
       "      <td>...</td>\n",
       "      <td>...</td>\n",
       "      <td>...</td>\n",
       "    </tr>\n",
       "    <tr>\n",
       "      <th>15152</th>\n",
       "      <td>111210408</td>\n",
       "      <td>Mua bán</td>\n",
       "      <td>Nhà 3Tầng3Mê thiết kế mang phong cách Villa hồ...</td>\n",
       "      <td>4.190000e+09</td>\n",
       "      <td>65.0</td>\n",
       "      <td>Trần Cao Vân, Phường Xuân Hà, Quận Thanh Khê, ...</td>\n",
       "      <td>64460000.0</td>\n",
       "      <td>Đã có sổ</td>\n",
       "      <td>NaN</td>\n",
       "      <td>🏙️NHÀ kiệt Trần Cao Vân 3Tầng3Mê xây kiên cố b...</td>\n",
       "      <td>...</td>\n",
       "      <td>NaN</td>\n",
       "      <td>NaN</td>\n",
       "      <td>NaN</td>\n",
       "      <td>NaN</td>\n",
       "      <td>NaN</td>\n",
       "      <td>NaN</td>\n",
       "      <td>NaN</td>\n",
       "      <td>NaN</td>\n",
       "      <td>NaN</td>\n",
       "      <td>65 m²</td>\n",
       "    </tr>\n",
       "    <tr>\n",
       "      <th>15153</th>\n",
       "      <td>112015787</td>\n",
       "      <td>Mua bán</td>\n",
       "      <td>BD K OTO 268 TÔ HIÊU HOÀ MINH</td>\n",
       "      <td>1.760000e+09</td>\n",
       "      <td>63.0</td>\n",
       "      <td>Đường Tô Hiệu, Phường Hòa Minh, Quận Liên Chiể...</td>\n",
       "      <td>27940000.0</td>\n",
       "      <td>NaN</td>\n",
       "      <td>Đất thổ cư</td>\n",
       "      <td>Vị trí gần Hoàng Thị Loan, đi lại thuận tiện\\n...</td>\n",
       "      <td>...</td>\n",
       "      <td>NaN</td>\n",
       "      <td>NaN</td>\n",
       "      <td>NaN</td>\n",
       "      <td>NaN</td>\n",
       "      <td>NaN</td>\n",
       "      <td>NaN</td>\n",
       "      <td>NaN</td>\n",
       "      <td>NaN</td>\n",
       "      <td>NaN</td>\n",
       "      <td>63 m²</td>\n",
       "    </tr>\n",
       "    <tr>\n",
       "      <th>15154</th>\n",
       "      <td>112015785</td>\n",
       "      <td>Mua bán</td>\n",
       "      <td>Hoà Sơn 7 Giá rẻ nhất khu vực chỉ 1280tr đường...</td>\n",
       "      <td>1.280000e+06</td>\n",
       "      <td>100.0</td>\n",
       "      <td>An Ngãi 9, Xã Hòa Sơn, Huyện Hòa Vang, Đà Nẵng</td>\n",
       "      <td>12800.0</td>\n",
       "      <td>NaN</td>\n",
       "      <td>Đất nền dự án</td>\n",
       "      <td>ĐẤT TĐC HOÀ SƠN 7 , đường nhựa 5,5m. Lề mỗi bê...</td>\n",
       "      <td>...</td>\n",
       "      <td>NaN</td>\n",
       "      <td>NaN</td>\n",
       "      <td>NaN</td>\n",
       "      <td>NaN</td>\n",
       "      <td>NaN</td>\n",
       "      <td>NaN</td>\n",
       "      <td>NaN</td>\n",
       "      <td>NaN</td>\n",
       "      <td>NaN</td>\n",
       "      <td>100 m²</td>\n",
       "    </tr>\n",
       "    <tr>\n",
       "      <th>15155</th>\n",
       "      <td>111319733</td>\n",
       "      <td>Mua bán</td>\n",
       "      <td>cần bán dãy trọ 19 chơn tâm 8, cách đh sư phạm...</td>\n",
       "      <td>3.500000e+09</td>\n",
       "      <td>83.0</td>\n",
       "      <td>19, Đường Chơn Tâm 8, Phường Hòa Khánh Nam, Qu...</td>\n",
       "      <td>42170000.0</td>\n",
       "      <td>Đã có sổ</td>\n",
       "      <td>NaN</td>\n",
       "      <td>Giấy tờ chính chủ, dãy nhà trọ được xây dựng k...</td>\n",
       "      <td>...</td>\n",
       "      <td>NaN</td>\n",
       "      <td>NaN</td>\n",
       "      <td>NaN</td>\n",
       "      <td>NaN</td>\n",
       "      <td>NaN</td>\n",
       "      <td>NaN</td>\n",
       "      <td>NaN</td>\n",
       "      <td>NaN</td>\n",
       "      <td>NaN</td>\n",
       "      <td>83 m²</td>\n",
       "    </tr>\n",
       "    <tr>\n",
       "      <th>15156</th>\n",
       "      <td>111500052</td>\n",
       "      <td>Mua bán</td>\n",
       "      <td>Đất Đa Mặn 2 gần bệnh viện 600 Giường</td>\n",
       "      <td>3.000000e+09</td>\n",
       "      <td>85.0</td>\n",
       "      <td>Đa Mặn 2, Phường Mỹ An, Quận Ngũ Hành Sơn, Đà ...</td>\n",
       "      <td>35290000.0</td>\n",
       "      <td>NaN</td>\n",
       "      <td>Đất thổ cư</td>\n",
       "      <td>Anh tôi có lô đất mua từ năm 2018 , giờ càn ti...</td>\n",
       "      <td>...</td>\n",
       "      <td>NaN</td>\n",
       "      <td>NaN</td>\n",
       "      <td>NaN</td>\n",
       "      <td>NaN</td>\n",
       "      <td>NaN</td>\n",
       "      <td>NaN</td>\n",
       "      <td>NaN</td>\n",
       "      <td>NaN</td>\n",
       "      <td>NaN</td>\n",
       "      <td>85 m²</td>\n",
       "    </tr>\n",
       "  </tbody>\n",
       "</table>\n",
       "<p>15157 rows × 35 columns</p>\n",
       "</div>"
      ],
      "text/plain": [
       "         post_id Loại tin                                            Tiêu đề  \\\n",
       "0      110154174  Mua bán  Bán 4ha đất vườn sổ đỏ có sẳn trang trại nhà v...   \n",
       "1      102957944  Mua bán  Bán đất 21 Đỗ Nhuận, dt: 250m2, ngang 8m, nở h...   \n",
       "2      108055434  Mua bán  Bán nhà hẻm 3m5 Nguyễn Văn Linh, 140m2 đất, ng...   \n",
       "3      102942264  Mua bán  Bán đất hẻm 3m 59/31 Núi Thành, 162m2, 4.25 tỷ...   \n",
       "4      110181789  Mua bán  Nhà 2 tầng 2 mặt kiệt ngay biển Nguyễn Tất Thà...   \n",
       "...          ...      ...                                                ...   \n",
       "15152  111210408  Mua bán  Nhà 3Tầng3Mê thiết kế mang phong cách Villa hồ...   \n",
       "15153  112015787  Mua bán                      BD K OTO 268 TÔ HIÊU HOÀ MINH   \n",
       "15154  112015785  Mua bán  Hoà Sơn 7 Giá rẻ nhất khu vực chỉ 1280tr đường...   \n",
       "15155  111319733  Mua bán  cần bán dãy trọ 19 chơn tâm 8, cách đh sư phạm...   \n",
       "15156  111500052  Mua bán              Đất Đa Mặn 2 gần bệnh viện 600 Giường   \n",
       "\n",
       "                Giá  Diện tích  \\\n",
       "0      9.500000e+09    40000.0   \n",
       "1      8.200000e+09      250.0   \n",
       "2      4.950000e+09      140.0   \n",
       "3      4.250000e+09      162.0   \n",
       "4      2.950000e+09       62.0   \n",
       "...             ...        ...   \n",
       "15152  4.190000e+09       65.0   \n",
       "15153  1.760000e+09       63.0   \n",
       "15154  1.280000e+06      100.0   \n",
       "15155  3.500000e+09       83.0   \n",
       "15156  3.000000e+09       85.0   \n",
       "\n",
       "                                                 Địa chỉ      Giá/m2  \\\n",
       "0           DT 602, Xã Hòa Ninh, Huyện Hòa Vang, Đà Nẵng    237500.0   \n",
       "1      21, Đường Đỗ Nhuận, Phường Hòa Minh, Quận Liên...  32800000.0   \n",
       "2      K82/H10/36, Nguyễn văn linh, Phường Nam Dương,...  35360000.0   \n",
       "3      Kiệt 59 Núi Thành, Phường Bình Hiên, Quận Hải ...  26230000.0   \n",
       "4      K1/20, Tôn Thất Đạm, Phường Xuân Hà, Quận Than...  47580000.0   \n",
       "...                                                  ...         ...   \n",
       "15152  Trần Cao Vân, Phường Xuân Hà, Quận Thanh Khê, ...  64460000.0   \n",
       "15153  Đường Tô Hiệu, Phường Hòa Minh, Quận Liên Chiể...  27940000.0   \n",
       "15154     An Ngãi 9, Xã Hòa Sơn, Huyện Hòa Vang, Đà Nẵng     12800.0   \n",
       "15155  19, Đường Chơn Tâm 8, Phường Hòa Khánh Nam, Qu...  42170000.0   \n",
       "15156  Đa Mặn 2, Phường Mỹ An, Quận Ngũ Hành Sơn, Đà ...  35290000.0   \n",
       "\n",
       "        Pháp lý    Loại hình đất  \\\n",
       "0      Đã có sổ  Đất nông nghiệp   \n",
       "1      Đã có sổ       Đất thổ cư   \n",
       "2      Đã có sổ              NaN   \n",
       "3           NaN       Đất thổ cư   \n",
       "4      Đã có sổ              NaN   \n",
       "...         ...              ...   \n",
       "15152  Đã có sổ              NaN   \n",
       "15153       NaN       Đất thổ cư   \n",
       "15154       NaN    Đất nền dự án   \n",
       "15155  Đã có sổ              NaN   \n",
       "15156       NaN       Đất thổ cư   \n",
       "\n",
       "                                                   Mô tả  ...  \\\n",
       "0      💥💥💥Đất rộng lại giá tốt 40.000m có sẵn vườn câ...  ...   \n",
       "1      + Bán đất số 21 Đỗ Nhuận, khu Trung Nghĩa, phư...  ...   \n",
       "2      Bán nhà kiệt 82 Nguyễn Văn Linh, hẻm 3m5, cách...  ...   \n",
       "3      Bán đất hẻm 3m số 59/31 Núi Thành, cách đường ...  ...   \n",
       "4      Tôi là chính chủ cần bán nhà tại địa chỉ K1/20...  ...   \n",
       "...                                                  ...  ...   \n",
       "15152  🏙️NHÀ kiệt Trần Cao Vân 3Tầng3Mê xây kiên cố b...  ...   \n",
       "15153  Vị trí gần Hoàng Thị Loan, đi lại thuận tiện\\n...  ...   \n",
       "15154  ĐẤT TĐC HOÀ SƠN 7 , đường nhựa 5,5m. Lề mỗi bê...  ...   \n",
       "15155  Giấy tờ chính chủ, dãy nhà trọ được xây dựng k...  ...   \n",
       "15156  Anh tôi có lô đất mua từ năm 2018 , giờ càn ti...  ...   \n",
       "\n",
       "      Tình trạng bất động sản Tầng số Hướng ban công Loại hình căn hộ  \\\n",
       "0                         NaN     NaN            NaN              NaN   \n",
       "1                         NaN     NaN            NaN              NaN   \n",
       "2                         NaN     NaN            NaN              NaN   \n",
       "3                         NaN     NaN            NaN              NaN   \n",
       "4                         NaN     NaN            NaN              NaN   \n",
       "...                       ...     ...            ...              ...   \n",
       "15152                     NaN     NaN            NaN              NaN   \n",
       "15153                     NaN     NaN            NaN              NaN   \n",
       "15154                     NaN     NaN            NaN              NaN   \n",
       "15155                     NaN     NaN            NaN              NaN   \n",
       "15156                     NaN     NaN            NaN              NaN   \n",
       "\n",
       "      Loại hình văn phòng  Mã căn  Đặc điểm căn hộ Mã lô Số tiền cọc  \\\n",
       "0                     NaN     NaN              NaN   NaN         NaN   \n",
       "1                     NaN     NaN              NaN   NaN         NaN   \n",
       "2                     NaN     NaN              NaN   NaN         NaN   \n",
       "3                     NaN     NaN              NaN   NaN         NaN   \n",
       "4                     NaN     NaN              NaN   NaN         NaN   \n",
       "...                   ...     ...              ...   ...         ...   \n",
       "15152                 NaN     NaN              NaN   NaN         NaN   \n",
       "15153                 NaN     NaN              NaN   NaN         NaN   \n",
       "15154                 NaN     NaN              NaN   NaN         NaN   \n",
       "15155                 NaN     NaN              NaN   NaN         NaN   \n",
       "15156                 NaN     NaN              NaN   NaN         NaN   \n",
       "\n",
       "      Diện tích đất  \n",
       "0               NaN  \n",
       "1               NaN  \n",
       "2               NaN  \n",
       "3               NaN  \n",
       "4               NaN  \n",
       "...             ...  \n",
       "15152         65 m²  \n",
       "15153         63 m²  \n",
       "15154        100 m²  \n",
       "15155         83 m²  \n",
       "15156         85 m²  \n",
       "\n",
       "[15157 rows x 35 columns]"
      ]
     },
     "execution_count": 95,
     "metadata": {},
     "output_type": "execute_result"
    }
   ],
   "source": [
    "df"
   ]
  },
  {
   "cell_type": "code",
   "execution_count": 96,
   "id": "7d30b80e",
   "metadata": {},
   "outputs": [],
   "source": [
    "df.to_excel('nt.xlsx')\n",
    "df.to_csv('nt.csv')"
   ]
  },
  {
   "cell_type": "code",
   "execution_count": null,
   "id": "f73d980f",
   "metadata": {},
   "outputs": [],
   "source": []
  }
 ],
 "metadata": {
  "kernelspec": {
   "display_name": "Python 3",
   "language": "python",
   "name": "python3"
  },
  "language_info": {
   "codemirror_mode": {
    "name": "ipython",
    "version": 3
   },
   "file_extension": ".py",
   "mimetype": "text/x-python",
   "name": "python",
   "nbconvert_exporter": "python",
   "pygments_lexer": "ipython3",
   "version": "3.8.2"
  }
 },
 "nbformat": 4,
 "nbformat_minor": 5
}
